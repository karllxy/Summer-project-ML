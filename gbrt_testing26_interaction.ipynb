{
 "cells": [
  {
   "cell_type": "code",
   "execution_count": 1,
   "metadata": {},
   "outputs": [],
   "source": [
    "# import pyarrow.feather as feather\n",
    "import numpy as np\n",
    "import pandas as pd\n",
    "import os\n",
    "from datetime import datetime\n",
    "from tqdm import tqdm\n",
    "\n",
    "from sklearn.metrics import mean_squared_error, make_scorer, accuracy_score, f1_score, classification_report\n",
    "from sklearn.preprocessing import StandardScaler\n",
    "from sklearn.pipeline import Pipeline\n",
    "from sklearn.model_selection import GridSearchCV, RandomizedSearchCV, PredefinedSplit\n",
    "from sklearn.ensemble import GradientBoostingRegressor\n",
    "\n",
    "import matplotlib.pyplot as plt\n",
    "import seaborn as sns\n",
    "sns.set()\n",
    "from collections import Counter\n",
    "from scipy.stats import uniform\n",
    "from scipy.stats import randint\n",
    "import shap"
   ]
  },
  {
   "cell_type": "markdown",
   "metadata": {},
   "source": [
    "## read the feather files"
   ]
  },
  {
   "cell_type": "code",
   "execution_count": 2,
   "metadata": {},
   "outputs": [
    {
     "name": "stdout",
     "output_type": "stream",
     "text": [
      "My current directory is : /home/spectre/Desktop/summer_project/Summer-project-ML\n",
      "My directory name is : Summer-project-ML\n"
     ]
    }
   ],
   "source": [
    "import os\n",
    "directory_path = os.getcwd()\n",
    "print(\"My current directory is : \" + directory_path)\n",
    "folder_name = os.path.basename(directory_path)\n",
    "print(\"My directory name is : \" + folder_name)"
   ]
  },
  {
   "cell_type": "code",
   "execution_count": 3,
   "metadata": {},
   "outputs": [],
   "source": [
    "directory_path = os.getcwd()\n",
    "data_path = os.path.join(directory_path, 'data')  # the path to data folder\n",
    "\n",
    "\n",
    "# list_of_feather = []\n",
    "# for root, dirs, files in os.walk(data_path):\n",
    "#     for file in files:\n",
    "#         if file.endswith('.feather'):\n",
    "#             list_of_feather.append(os.path.join(root, file))\n",
    "\n",
    "# feather_dict = {}\n",
    "# for feather_file in list_of_feather:\n",
    "#     feather_name = feather_file.split('/')[-1].replace(\".feather\",\"\") # the name of the feather file without the .feather extension\n",
    "#     feather_dict[feather_name] = pd.read_feather(feather_file)"
   ]
  },
  {
   "cell_type": "code",
   "execution_count": 4,
   "metadata": {},
   "outputs": [],
   "source": [
    "# feather_dict.keys()"
   ]
  },
  {
   "cell_type": "code",
   "execution_count": 5,
   "metadata": {},
   "outputs": [],
   "source": [
    "# test = feather_dict['abr']"
   ]
  },
  {
   "cell_type": "code",
   "execution_count": 6,
   "metadata": {},
   "outputs": [],
   "source": [
    "# raw_imputed = feather_dict['chars60_raw_imputed']\n",
    "# raw_no_impute = feather_dict['chars60_raw_no_impute']\n",
    "# rank_imputed = feather_dict['chars60_rank_imputed']\n",
    "# rank_no_impute = feather_dict['chars60_raw_no_impute']"
   ]
  },
  {
   "cell_type": "code",
   "execution_count": 7,
   "metadata": {},
   "outputs": [],
   "source": [
    "raw_df = pd.read_feather(os.path.join(data_path, 'chars60_raw_imputed.feather'))"
   ]
  },
  {
   "cell_type": "code",
   "execution_count": 8,
   "metadata": {},
   "outputs": [
    {
     "data": {
      "text/plain": [
       "Index(['gvkey', 'permno', 'sic', 'ret', 'exchcd', 'shrcd', 'adm', 'bm_ia',\n",
       "       'herf', 'hire', 'me_ia', 'baspread', 'beta', 'ill', 'maxret', 'mom12m',\n",
       "       'mom1m', 'mom36m', 'mom60m', 'mom6m', 're', 'rvar_capm', 'rvar_ff3',\n",
       "       'rvar_mean', 'seas1a', 'std_dolvol', 'std_turn', 'zerotrade', 'me',\n",
       "       'dy', 'turn', 'dolvol', 'abr', 'sue', 'cinvest', 'nincr', 'pscore',\n",
       "       'acc', 'bm', 'agr', 'alm', 'ato', 'cash', 'cashdebt', 'cfp', 'chcsho',\n",
       "       'chpm', 'chtx', 'depr', 'ep', 'gma', 'grltnoa', 'lev', 'lgr', 'ni',\n",
       "       'noa', 'op', 'pctacc', 'pm', 'rd_sale', 'rdm', 'rna', 'roa', 'roe',\n",
       "       'rsup', 'sgr', 'sp', 'date', 'ffi49'],\n",
       "      dtype='object')"
      ]
     },
     "execution_count": 8,
     "metadata": {},
     "output_type": "execute_result"
    }
   ],
   "source": [
    "raw_df.columns"
   ]
  },
  {
   "cell_type": "markdown",
   "metadata": {},
   "source": [
    "## check missing values"
   ]
  },
  {
   "cell_type": "code",
   "execution_count": 9,
   "metadata": {},
   "outputs": [
    {
     "data": {
      "text/plain": [
       "['adm',\n",
       " 'bm_ia',\n",
       " 'mom12m',\n",
       " 'mom36m',\n",
       " 'mom60m',\n",
       " 'mom6m',\n",
       " 'seas1a',\n",
       " 'abr',\n",
       " 'sue',\n",
       " 'cinvest',\n",
       " 'nincr',\n",
       " 'pscore',\n",
       " 'acc',\n",
       " 'bm',\n",
       " 'agr',\n",
       " 'alm',\n",
       " 'ato',\n",
       " 'cashdebt',\n",
       " 'chcsho',\n",
       " 'chpm',\n",
       " 'chtx',\n",
       " 'gma',\n",
       " 'grltnoa',\n",
       " 'lgr',\n",
       " 'ni',\n",
       " 'noa',\n",
       " 'op',\n",
       " 'pctacc',\n",
       " 'rna',\n",
       " 'roa',\n",
       " 'roe',\n",
       " 'rsup',\n",
       " 'sgr']"
      ]
     },
     "execution_count": 9,
     "metadata": {},
     "output_type": "execute_result"
    }
   ],
   "source": [
    "raw_tf = raw_df.isnull().any()\n",
    "raw_tf.where(raw_tf == True).dropna().index.to_list()\n"
   ]
  },
  {
   "cell_type": "markdown",
   "metadata": {},
   "source": [
    "## let's look at the data after 1972"
   ]
  },
  {
   "cell_type": "code",
   "execution_count": 10,
   "metadata": {},
   "outputs": [],
   "source": [
    "raw_df['year'] = raw_df['date'].dt.year\n",
    "raw_df = raw_df[raw_df['year'] >= 1972]\n",
    "raw_df = raw_df.drop(['year'], axis=1)"
   ]
  },
  {
   "cell_type": "code",
   "execution_count": 11,
   "metadata": {},
   "outputs": [
    {
     "data": {
      "text/plain": [
       "[]"
      ]
     },
     "execution_count": 11,
     "metadata": {},
     "output_type": "execute_result"
    }
   ],
   "source": [
    "raw_tf = raw_df.isnull().any()\n",
    "raw_tf.where(raw_tf == True).dropna().index.to_list()"
   ]
  },
  {
   "cell_type": "markdown",
   "metadata": {},
   "source": [
    "## no missing value!"
   ]
  },
  {
   "cell_type": "markdown",
   "metadata": {},
   "source": [
    "## read the macro data files"
   ]
  },
  {
   "cell_type": "code",
   "execution_count": 12,
   "metadata": {},
   "outputs": [],
   "source": [
    "macro_df = pd.read_csv(os.path.join(data_path, 'Macro.csv'))\n",
    "macro_df = macro_df[macro_df['yyyymm']>=197201]"
   ]
  },
  {
   "cell_type": "code",
   "execution_count": 13,
   "metadata": {},
   "outputs": [],
   "source": [
    "raw_df['yyyymm'] = raw_df['date'].dt.strftime(\"%Y%m\").apply(int)\n",
    "total_df = pd.merge(raw_df, macro_df, how='inner', on='yyyymm')\n",
    "total_df.drop(columns=\"yyyymm\", inplace=True)\n"
   ]
  },
  {
   "cell_type": "code",
   "execution_count": 14,
   "metadata": {},
   "outputs": [
    {
     "data": {
      "text/plain": [
       "[]"
      ]
     },
     "execution_count": 14,
     "metadata": {},
     "output_type": "execute_result"
    }
   ],
   "source": [
    "raw_tf = total_df.isnull().any()\n",
    "raw_tf.where(raw_tf == True).dropna().index.to_list()"
   ]
  },
  {
   "cell_type": "code",
   "execution_count": 15,
   "metadata": {},
   "outputs": [],
   "source": [
    "del(raw_tf)"
   ]
  },
  {
   "cell_type": "code",
   "execution_count": 16,
   "metadata": {},
   "outputs": [
    {
     "data": {
      "text/plain": [
       "1552"
      ]
     },
     "execution_count": 16,
     "metadata": {},
     "output_type": "execute_result"
    }
   ],
   "source": [
    "len(total_df.gvkey.unique())"
   ]
  },
  {
   "cell_type": "code",
   "execution_count": 17,
   "metadata": {},
   "outputs": [
    {
     "data": {
      "text/plain": [
       "1571"
      ]
     },
     "execution_count": 17,
     "metadata": {},
     "output_type": "execute_result"
    }
   ],
   "source": [
    "total_df.permno.nunique()"
   ]
  },
  {
   "cell_type": "code",
   "execution_count": 18,
   "metadata": {},
   "outputs": [],
   "source": [
    "# make a list of unique permno\n",
    "permno_list = total_df['permno'].unique().tolist()"
   ]
  },
  {
   "cell_type": "code",
   "execution_count": 19,
   "metadata": {},
   "outputs": [
    {
     "data": {
      "text/plain": [
       "77"
      ]
     },
     "execution_count": 19,
     "metadata": {},
     "output_type": "execute_result"
    }
   ],
   "source": [
    "len(total_df.columns)"
   ]
  },
  {
   "cell_type": "code",
   "execution_count": 20,
   "metadata": {},
   "outputs": [
    {
     "data": {
      "text/plain": [
       "3"
      ]
     },
     "execution_count": 20,
     "metadata": {},
     "output_type": "execute_result"
    }
   ],
   "source": [
    "total_df['exchcd'].nunique()"
   ]
  },
  {
   "cell_type": "code",
   "execution_count": 21,
   "metadata": {},
   "outputs": [
    {
     "data": {
      "text/plain": [
       "2"
      ]
     },
     "execution_count": 21,
     "metadata": {},
     "output_type": "execute_result"
    }
   ],
   "source": [
    "total_df['shrcd'].nunique()"
   ]
  },
  {
   "cell_type": "code",
   "execution_count": 22,
   "metadata": {},
   "outputs": [
    {
     "data": {
      "text/plain": [
       "array([0.  , 2.  , 1.  , 3.  , 4.  , 0.5 , 5.  , 6.  , 7.  , 8.  , 1.5 ,\n",
       "       2.5 , 3.5 , 0.75, 0.25])"
      ]
     },
     "execution_count": 22,
     "metadata": {},
     "output_type": "execute_result"
    }
   ],
   "source": [
    "total_df['nincr'].unique()"
   ]
  },
  {
   "cell_type": "code",
   "execution_count": 23,
   "metadata": {},
   "outputs": [
    {
     "data": {
      "text/plain": [
       "array([0.  , 2.  , 1.  , 3.  , 4.  , 5.  , 2.5 , 0.5 , 1.5 , 6.  , 3.5 ,\n",
       "       5.5 , 4.5 , 4.25, 7.  , 8.  , 9.  ])"
      ]
     },
     "execution_count": 23,
     "metadata": {},
     "output_type": "execute_result"
    }
   ],
   "source": [
    "total_df['pscore'].unique()"
   ]
  },
  {
   "cell_type": "code",
   "execution_count": 24,
   "metadata": {},
   "outputs": [
    {
     "data": {
      "text/plain": [
       "48"
      ]
     },
     "execution_count": 24,
     "metadata": {},
     "output_type": "execute_result"
    }
   ],
   "source": [
    "total_df['ffi49'].nunique()"
   ]
  },
  {
   "cell_type": "markdown",
   "metadata": {},
   "source": [
    "## Information Variables:\n",
    "\n",
    "   * stock indicator: gvkey, permno\n",
    "   * time: datadate, date, year ('datadate' is the available time for data and 'date' is the date of return)\n",
    "   * industry: sic, ffi49\n",
    "   * exchange info: exchcd, shrcd\n",
    "   * return: ret: the dividend adjusted return  (we also provide original return and return without dividend, you can keep them by modifing impute_rank_output_bchmk.py) \n",
    "   * market equity: me/rank_me\n"
   ]
  },
  {
   "cell_type": "code",
   "execution_count": 25,
   "metadata": {},
   "outputs": [],
   "source": [
    "# need to turn some variables to dummy variables\n",
    "def get_dummy_col(target_df, col_names):\n",
    "    \"\"\"turn the cols into multiple cols containing dummy variables, then drop the original columns\n",
    "\n",
    "    Args:\n",
    "        target_df (pandas dataframe): target dataframe\n",
    "        col_names (list): list of columns that need to be turned into dummy variables\n",
    "    \"\"\"\n",
    "    for col in col_names:        \n",
    "        tmp_dummies = pd.get_dummies(target_df[col]).rename(columns=lambda x: f'{col}_' + str(x))\n",
    "        target_df = pd.concat([target_df, tmp_dummies], axis=1)\n",
    "        target_df.drop(col, inplace=True, axis = 1)\n",
    "    return target_df \n",
    "dummy_col_list = ['ffi49']\n",
    "total_df = get_dummy_col(total_df, dummy_col_list)"
   ]
  },
  {
   "cell_type": "code",
   "execution_count": 26,
   "metadata": {},
   "outputs": [],
   "source": [
    "# set date as the index\n",
    "total_df.set_index('date', inplace=True)"
   ]
  },
  {
   "cell_type": "code",
   "execution_count": 27,
   "metadata": {},
   "outputs": [],
   "source": [
    "features_list = total_df.columns.to_list()\n",
    "list_to_remove = ['gvkey', 'permno', 'ret', 'sic', 'exchcd', 'shrcd']\n",
    "for element in list_to_remove:\n",
    "    if element in features_list:\n",
    "        features_list.remove(element)\n",
    "        \n"
   ]
  },
  {
   "cell_type": "code",
   "execution_count": 28,
   "metadata": {},
   "outputs": [],
   "source": [
    "original_features_list = features_list.copy()"
   ]
  },
  {
   "cell_type": "code",
   "execution_count": 29,
   "metadata": {},
   "outputs": [],
   "source": [
    "total_df = total_df.sort_index()"
   ]
  },
  {
   "cell_type": "markdown",
   "metadata": {},
   "source": [
    "# create interaction features(other feature * macro feature)"
   ]
  },
  {
   "cell_type": "code",
   "execution_count": 30,
   "metadata": {},
   "outputs": [],
   "source": [
    "table_for_interaction = total_df[features_list[:69]]\n",
    "single_features = features_list[:61]\n",
    "macro_features = features_list[61:69]\n",
    "\n",
    "interaction_table = pd.DataFrame(data = None, index = table_for_interaction.index)\n",
    "\n",
    "from IPython.utils import io\n",
    "with io.capture_output() as captured: # to ignore warnings\n",
    "    for i in single_features:\n",
    "        for j in macro_features:\n",
    "            interaction_table[i + '+' + j] = table_for_interaction[i] * table_for_interaction[j]"
   ]
  },
  {
   "cell_type": "markdown",
   "metadata": {},
   "source": [
    "# check the number of permnos for each month"
   ]
  },
  {
   "cell_type": "code",
   "execution_count": 31,
   "metadata": {},
   "outputs": [
    {
     "data": {
      "text/plain": [
       "<AxesSubplot:xlabel='date'>"
      ]
     },
     "execution_count": 31,
     "metadata": {},
     "output_type": "execute_result"
    },
    {
     "data": {
      "image/png": "[encoded data removed]",
      "text/plain": [
       "<Figure size 432x288 with 1 Axes>"
      ]
     },
     "metadata": {},
     "output_type": "display_data"
    }
   ],
   "source": [
    "each_month_permno_num = pd.DataFrame(Counter(total_df.reset_index().date).items(), columns=['date', 'number_of_permno'])\n",
    "each_month_permno_num.plot(x='date', y='number_of_permno')"
   ]
  },
  {
   "cell_type": "markdown",
   "metadata": {},
   "source": [
    "## total:1972-2020 49 years\n",
    "## training_length: 32 years // 20 // 14\n",
    "## valid_length: 7 years // 10 // 6\n",
    "## testing_length: 7 years // 16 // 26"
   ]
  },
  {
   "cell_type": "code",
   "execution_count": 32,
   "metadata": {},
   "outputs": [],
   "source": [
    "new_total_df = pd.concat([total_df, interaction_table], axis=1)"
   ]
  },
  {
   "cell_type": "code",
   "execution_count": 33,
   "metadata": {},
   "outputs": [],
   "source": [
    "new_features_list = new_total_df.columns\n",
    "remove_list = {'gvkey', 'permno', 'ret','sic','exchcd','shrcd','b/m', 'tbl', 'ntis', 'svar', 'd/p', 'e/p', 'dfy', 'tms'}\n",
    "new_features_list = [ele for ele in new_features_list if ele not in remove_list]"
   ]
  },
  {
   "cell_type": "code",
   "execution_count": 34,
   "metadata": {},
   "outputs": [],
   "source": [
    "X_total = new_total_df[new_features_list]\n",
    "y_total = new_total_df['ret']\n",
    "permno_total = new_total_df['permno']"
   ]
  },
  {
   "cell_type": "code",
   "execution_count": 35,
   "metadata": {},
   "outputs": [],
   "source": [
    "def train_val_test_preprocess(X_total, y_total, permno_total, training_len, val_len, testing_len):\n",
    "    \"\"\"split our data into training set, validation set, and testing set\n",
    "\n",
    "    Args:\n",
    "        X_total (dataframe)\n",
    "        y_total (dataframe)\n",
    "        training_len (int): length of years of training set\n",
    "        val_len (int)\n",
    "        testing_len (int)\n",
    "    return: dicts:X_train, y_train, X_val, y_val, X_test, y_test\n",
    "            and a permno series for testing set, which would be part of the result\n",
    "    \"\"\"\n",
    "    X_train_dict = {}\n",
    "    y_train_dict = {}\n",
    "    X_val_dict = {}\n",
    "    y_val_dict = {}\n",
    "    X_test_dict = {}\n",
    "    y_test_dict = {}\n",
    "    permno_test_dict = {}\n",
    "    first_train_end_year = y_total.index.year[0] + training_len - 1\n",
    "    total_len = y_total.index.year[-1] - y_total.index.year[0] + 1\n",
    "    last_train_end_year = first_train_end_year + total_len -(training_len+val_len+testing_len)\n",
    "    train_end_years = np.arange(first_train_end_year, last_train_end_year+1)\n",
    "    print('each end year of training set is:', train_end_years)\n",
    "    for y in tqdm(train_end_years, desc='spliting data', ascii='>>'):\n",
    "        train_start_year = y - training_len + 1\n",
    "        train_end_year = y\n",
    "        val_start_year = y + 1\n",
    "        val_end_year = val_start_year+val_len-1\n",
    "        test_start_year= val_end_year+1\n",
    "        test_end_year = test_start_year+testing_len-1\n",
    "\n",
    "        print('train start year is', train_start_year)\n",
    "        print('train end year is', train_end_year)\n",
    "\n",
    "        print('val start year is', val_start_year)\n",
    "        print('val end year is', val_end_year)\n",
    "\n",
    "        print('test start year is', test_start_year)\n",
    "        print('test end year is', test_end_year)\n",
    "\n",
    "        tmp_X_train = X_total[(X_total.index.year>=train_start_year) & (X_total.index.year<=train_end_year)]\n",
    "        tmp_y_train = y_total[(y_total.index.year>=train_start_year) & (y_total.index.year<=train_end_year)]\n",
    "        tmp_X_val = X_total[(X_total.index.year>=val_start_year) & (X_total.index.year<=val_end_year)]\n",
    "        tmp_y_val = y_total[(y_total.index.year>=val_start_year) & (y_total.index.year<=val_end_year)]\n",
    "        tmp_X_test = X_total[(X_total.index.year>=test_start_year) & (X_total.index.year<=test_end_year)]\n",
    "        tmp_y_test = y_total[(y_total.index.year>=test_start_year) & (y_total.index.year<=test_end_year)]\n",
    "        tmp_permno_test = permno_total[(permno_total.index.year>=test_start_year) & (permno_total.index.year<=test_end_year)]\n",
    "\n",
    "        X_train_dict[y] = tmp_X_train\n",
    "        y_train_dict[y] = tmp_y_train\n",
    "        X_val_dict[y] = tmp_X_val\n",
    "        y_val_dict[y] = tmp_y_val\n",
    "        X_test_dict[y] = tmp_X_test\n",
    "        y_test_dict[y] = tmp_y_test\n",
    "        permno_test_dict[y] = tmp_permno_test\n",
    "    return train_end_years, X_train_dict, y_train_dict, X_val_dict, y_val_dict, X_test_dict, y_test_dict, permno_test_dict\n",
    "        "
   ]
  },
  {
   "cell_type": "code",
   "execution_count": 36,
   "metadata": {},
   "outputs": [
    {
     "name": "stdout",
     "output_type": "stream",
     "text": [
      "each end year of training set is: [1985 1986 1987 1988]\n"
     ]
    },
    {
     "name": "stderr",
     "output_type": "stream",
     "text": [
      "spliting data:   0%|>>>>>>>>>>| 0/4 [00:00<?, ?it/s]"
     ]
    },
    {
     "name": "stdout",
     "output_type": "stream",
     "text": [
      "train start year is 1972\n",
      "train end year is 1985\n",
      "val start year is 1986\n",
      "val end year is 1991\n",
      "test start year is 1992\n",
      "test end year is 2017\n"
     ]
    },
    {
     "name": "stderr",
     "output_type": "stream",
     "text": [
      "spliting data:  25%|>>>>>>>>>>| 1/4 [00:00<00:02,  1.36it/s]"
     ]
    },
    {
     "name": "stdout",
     "output_type": "stream",
     "text": [
      "train start year is 1973\n",
      "train end year is 1986\n",
      "val start year is 1987\n",
      "val end year is 1992\n",
      "test start year is 1993\n",
      "test end year is 2018\n"
     ]
    },
    {
     "name": "stderr",
     "output_type": "stream",
     "text": [
      "spliting data:  50%|>>>>>>>>>>| 2/4 [00:01<00:01,  1.36it/s]"
     ]
    },
    {
     "name": "stdout",
     "output_type": "stream",
     "text": [
      "train start year is 1974\n",
      "train end year is 1987\n",
      "val start year is 1988\n",
      "val end year is 1993\n",
      "test start year is 1994\n",
      "test end year is 2019\n"
     ]
    },
    {
     "name": "stderr",
     "output_type": "stream",
     "text": [
      "spliting data:  75%|>>>>>>>>>>| 3/4 [00:02<00:00,  1.36it/s]"
     ]
    },
    {
     "name": "stdout",
     "output_type": "stream",
     "text": [
      "train start year is 1975\n",
      "train end year is 1988\n",
      "val start year is 1989\n",
      "val end year is 1994\n",
      "test start year is 1995\n",
      "test end year is 2020\n"
     ]
    },
    {
     "name": "stderr",
     "output_type": "stream",
     "text": [
      "spliting data: 100%|>>>>>>>>>>| 4/4 [00:02<00:00,  1.36it/s]\n"
     ]
    }
   ],
   "source": [
    "train_end_years, X_train_dict, y_train_dict, X_val_dict, y_val_dict, X_test_dict, y_test_dict, permno_test_dict = train_val_test_preprocess(X_total, y_total, permno_total, 14, 6, 26)\n"
   ]
  },
  {
   "cell_type": "code",
   "execution_count": 37,
   "metadata": {},
   "outputs": [],
   "source": [
    "# to save memory\n",
    "del(X_total)\n",
    "del(y_total)\n",
    "del(total_df)\n",
    "del(features_list)\n",
    "del(new_features_list)\n",
    "# keep original_features_list\n",
    "del(macro_df)\n",
    "del(raw_df)\n",
    "del(element)\n",
    "del(new_total_df)\n"
   ]
  },
  {
   "cell_type": "code",
   "execution_count": 38,
   "metadata": {},
   "outputs": [],
   "source": [
    "class GBRT_Reg:\n",
    "    def __init__(self, train_end_year, X_train, y_train, X_val, y_val, X_test, y_test, permno_test):\n",
    "        self._train_end_year = train_end_year\n",
    "        self._X_train = X_train\n",
    "        self._y_train = y_train\n",
    "        self._X_val = X_val\n",
    "        self._y_val = y_val\n",
    "        self._X_test = X_test\n",
    "        self._y_test = y_test\n",
    "        self._permno_test = permno_test\n",
    "        \n",
    "        self.result_cols = ['year', 'permno', 'y_pred', 'y_real', 'params', 'pred_R2_OOS',\n",
    "                         'CV_R2', 'CV_MSE']\n",
    "        \n",
    "        \n",
    "    def get_res(self, original_features_list):\n",
    "        \"\"\"\n",
    "        original_features_list: all the necessary single features(including macro features) plus dummy columns\n",
    "        return a list of results, and a dataframe containing the r2 reduction of each feature.\n",
    "        \"\"\"\n",
    "        res = []\n",
    "        features = original_features_list\n",
    "\n",
    "        dummy_columns = [x for x in features if x.startswith('ffi49') or x.startswith('shrcd') or x.startswith('exchcd')]\n",
    "        dummy_col_name_list = ['ffi49']\n",
    "        normal_features = [x for x in features if x not in dummy_columns]\n",
    "        total_feature_name = normal_features + dummy_col_name_list #we already have features/original_features_list, it's the same thing......\n",
    "        r2_oos_reduction_df = pd.DataFrame(columns=['R2OOS', 'R2OOS_Reduction', 'R2OOS_Normalized'], index=total_feature_name)\n",
    "        \n",
    "        reg = gbrt(self._X_train, self._y_train, self._X_val, self._y_val, gridsearch=False)\n",
    "        _y_pred = reg.predict(self._X_test)\n",
    "        pred_r2_score = r2_oos(self._y_test, _y_pred)\n",
    "                # year, permno, y_pred, y_real, best_parmans, prediction score (R^2 OOS),\n",
    "        #      CV result(R2_OOS)(Mean cross-validated score of the best_estimator), CV result(MSE)\n",
    "        res.append([self._train_end_year, self._permno_test, _y_pred, self._y_test, reg.best_params_, pred_r2_score, reg.best_score_, reg.cv_results_['mean_test_mse']])\n",
    "\n",
    "        for feature in total_feature_name:\n",
    "            if feature in normal_features:\n",
    "                new_X_test = self._X_test.copy(deep=True)\n",
    "                for cols in new_X_test.columns:\n",
    "                    if feature in cols:\n",
    "                        new_X_test[cols] = 0\n",
    "                new_pred = reg.predict(new_X_test)\n",
    "                new_r2_score = r2_oos(y_test, new_pred)\n",
    "                r2_oos_reduction_df.loc[feature, \"R2OOS\"] = new_r2_score\n",
    "            else:\n",
    "                tmp_dummy_cols = [x for x in dummy_columns if x.startswith(feature)]\n",
    "                new_X_test = self._X_test.copy(deep=True)\n",
    "                new_X_test[tmp_dummy_cols] = 0\n",
    "                new_pred = reg.predict(new_X_test)\n",
    "                new_r2_score = r2_oos(y_test, new_pred)\n",
    "                r2_oos_reduction_df.loc[feature, \"R2OOS\"] = new_r2_score\n",
    "                \n",
    "\n",
    "        r2_oos_reduction_df['R2OOS_Reduction'] = (pred_r2_score - r2_oos_reduction_df[\"R2OOS\"]).abs()\n",
    "        r2_oos_reduction_df['R2OOS_Normalized'] = r2_oos_reduction_df['R2OOS_Reduction'] / r2_oos_reduction_df['R2OOS_Reduction'].sum()\n",
    "        # r2_oos_reduction_df = r2_oos_reduction_df.sort_values(by='R2OOS_Normalized')\n",
    "\n",
    "        return res, r2_oos_reduction_df"
   ]
  },
  {
   "cell_type": "code",
   "execution_count": 39,
   "metadata": {},
   "outputs": [
    {
     "data": {
      "text/plain": [
       "['ffi49']"
      ]
     },
     "execution_count": 39,
     "metadata": {},
     "output_type": "execute_result"
    }
   ],
   "source": [
    "dummy_col_list"
   ]
  },
  {
   "cell_type": "code",
   "execution_count": 40,
   "metadata": {},
   "outputs": [],
   "source": [
    "# not used\n",
    "def general_report(y_real, y_pred):\n",
    "    print(\"the Accuracy is:\", accuracy_score(y_real, y_pred))\n",
    "    print('the F1 score is:', f1_score(y_true, y_pred))\n",
    "    print(classification_report(y_true, y_pred))"
   ]
  },
  {
   "cell_type": "markdown",
   "metadata": {},
   "source": [
    "use R2 reduction rather than ssd to measure the feature importance"
   ]
  },
  {
   "cell_type": "code",
   "execution_count": 41,
   "metadata": {},
   "outputs": [],
   "source": [
    "# R_square_oos\n",
    "def r2_oos(ret, pred):\n",
    "    sum_of_sq_res = np.nansum(np.power((ret-pred), 2))\n",
    "    sum_of_sq_total = np.nansum(np.power(ret, 2))\n",
    "    \n",
    "    return 1-sum_of_sq_res/sum_of_sq_total\n",
    "\n"
   ]
  },
  {
   "cell_type": "code",
   "execution_count": 42,
   "metadata": {},
   "outputs": [],
   "source": [
    "r2oos_score = make_scorer(r2_oos, greater_is_better=True)  \n",
    "# pred_score = r2oos_score(reg, self.x_test, self.y_test)\n",
    "# can be used in gridsearchcv by 'scoring=r2oos_score'\n",
    "\n",
    "#reference:https://scikit-learn.org/stable/modules/generated/sklearn.model_selection.GridSearchCV.html\n",
    "#https://scikit-learn.org/stable/modules/generated/sklearn.model_selection.RandomizedSearchCV.html"
   ]
  },
  {
   "cell_type": "markdown",
   "metadata": {},
   "source": [
    "\n",
    "reference:https://stackoverflow.com/questions/48390601/explicitly-specifying-test-train-sets-in-gridsearchcv\n",
    "\n",
    "since we prespicified the training and validation set, we need to modify the cv parameter in gridsearchcv"
   ]
  },
  {
   "cell_type": "code",
   "execution_count": 43,
   "metadata": {},
   "outputs": [],
   "source": [
    "# GBRT+H\n",
    "#use pipeline to + a scaler（standardize）, then use gridsearchcv/randomsearchcv\n",
    "def gbrt(X_train, y_train, X_valid, y_valid, gridsearch = True):\n",
    "    # pipe = Pipeline([\n",
    "    #     ('scaler', StandardScaler()),\n",
    "    #     ('clf', GradientBoostingRegressor(loss='huber', random_state=777))\n",
    "    # ])\n",
    "    gbrt_clf = GradientBoostingRegressor(loss='huber', random_state=777)\n",
    "\n",
    "    # param_grid = dict(learning_rate=[0.05, 0.1, 3],\n",
    "    #                 n_estimators=[100, 150, 200], \n",
    "    #                 max_depth=[3, 10, 20])\n",
    "    param_grid = dict(learning_rate=uniform(loc=0.01, scale=0.1),\n",
    "                    n_estimators=randint(90, 140),\n",
    "                    max_depth=[4, 5])\n",
    "    \n",
    "    # use two scorer:r2oos and mse \n",
    "    # scoring_dict = ['r2oos_score', 'neg_mean_squared_error']\n",
    "    scoring_dict = {'r2_oos':r2oos_score, 'mse':'neg_mean_squared_error'}\n",
    "\n",
    "    # The indices which have zero or positive values, will be kept in val\n",
    "    len_X_train = len(X_train)\n",
    "    len_X_val = len(X_valid)\n",
    "    val_fold = np.repeat([-1, 0], [len_X_train, len_X_val])\n",
    "    ps = PredefinedSplit(val_fold)\n",
    "\n",
    "    X_train_n_val = pd.concat([X_train, X_valid])\n",
    "    y_train_n_val = pd.concat([y_train, y_valid])\n",
    "    # notice the cv=ps\n",
    "    if gridsearch:\n",
    "        grid = GridSearchCV(gbrt_clf, param_grid, cv=ps, n_jobs=8, verbose=2, scoring= scoring_dict, refit='r2_oos')\n",
    "    else:\n",
    "        grid = RandomizedSearchCV(gbrt_clf, param_grid, cv=ps, n_jobs=8, n_iter=15, verbose=2, scoring= scoring_dict, refit ='r2_oos') #could try n_iter=60 for better result\n",
    "\n",
    "    grid.fit(X_train_n_val, y_train_n_val)\n",
    "\n",
    "    #get the best score with grid.best_score_\n",
    "    #get the best parameters with grid.best_params_\n",
    "    #get the best model with grid.best_estimator_\n",
    "    return grid"
   ]
  },
  {
   "cell_type": "code",
   "execution_count": 44,
   "metadata": {},
   "outputs": [
    {
     "name": "stderr",
     "output_type": "stream",
     "text": [
      "  0%|>>>>>>>>>>| 0/4 [00:00<?, ?it/s]"
     ]
    },
    {
     "name": "stdout",
     "output_type": "stream",
     "text": [
      "Fitting 1 folds for each of 15 candidates, totalling 15 fits\n",
      "[CV] END learning_rate=0.06212980468904365, max_depth=4, n_estimators=93; total time=83.9min\n",
      "[CV] END learning_rate=0.08523410225221988, max_depth=4, n_estimators=94; total time=85.8min\n",
      "[CV] END learning_rate=0.0160462998061679, max_depth=4, n_estimators=102; total time=91.3min\n",
      "[CV] END learning_rate=0.10454730993709666, max_depth=4, n_estimators=115; total time=104.2min\n",
      "[CV] END learning_rate=0.09150765775429573, max_depth=4, n_estimators=135; total time=122.8min\n",
      "[CV] END learning_rate=0.06168707762506267, max_depth=5, n_estimators=111; total time=124.7min\n",
      "[CV] END learning_rate=0.06759246527719927, max_depth=5, n_estimators=114; total time=128.4min\n",
      "[CV] END learning_rate=0.03568148989655509, max_depth=5, n_estimators=129; total time=145.2min\n",
      "[CV] END learning_rate=0.08671114348248442, max_depth=4, n_estimators=115; total time=100.8min\n",
      "[CV] END learning_rate=0.045801505356073406, max_depth=4, n_estimators=114; total time=97.1min\n",
      "[CV] END learning_rate=0.06541941421350386, max_depth=5, n_estimators=106; total time=111.7min\n",
      "[CV] END learning_rate=0.07715797362653418, max_depth=4, n_estimators=107; total time=86.4min\n",
      "[CV] END learning_rate=0.06102341958146559, max_depth=5, n_estimators=129; total time=131.1min\n",
      "[CV] END learning_rate=0.09851800308106472, max_depth=4, n_estimators=125; total time=95.0min\n",
      "[CV] END learning_rate=0.09105265665647444, max_depth=5, n_estimators=133; total time=110.5min\n"
     ]
    },
    {
     "name": "stderr",
     "output_type": "stream",
     "text": [
      " 25%|>>>>>>>>>>| 1/4 [5:11:14<15:33:44, 18674.77s/it]"
     ]
    },
    {
     "name": "stdout",
     "output_type": "stream",
     "text": [
      "Fitting 1 folds for each of 15 candidates, totalling 15 fits\n",
      "[CV] END learning_rate=0.05073946760220278, max_depth=4, n_estimators=92; total time=80.6min\n",
      "[CV] END learning_rate=0.05738484726046843, max_depth=4, n_estimators=106; total time=93.6min\n",
      "[CV] END learning_rate=0.052091505758516114, max_depth=4, n_estimators=120; total time=106.7min\n",
      "[CV] END learning_rate=0.09960378727817759, max_depth=4, n_estimators=134; total time=119.6min\n",
      "[CV] END learning_rate=0.014925535047957642, max_depth=5, n_estimators=112; total time=122.1min\n",
      "[CV] END learning_rate=0.10514139881126179, max_depth=5, n_estimators=110; total time=122.1min\n",
      "[CV] END learning_rate=0.08276584933336055, max_depth=5, n_estimators=126; total time=139.1min\n",
      "[CV] END learning_rate=0.03382993485393462, max_depth=5, n_estimators=139; total time=154.5min\n",
      "[CV] END learning_rate=0.09094214512807192, max_depth=4, n_estimators=120; total time=104.1min\n",
      "[CV] END learning_rate=0.04718735968678403, max_depth=5, n_estimators=117; total time=124.4min\n",
      "[CV] END learning_rate=0.06666182422607317, max_depth=4, n_estimators=114; total time=94.9min\n",
      "[CV] END learning_rate=0.017588432140324108, max_depth=5, n_estimators=120; total time=116.0min\n",
      "[CV] END learning_rate=0.06490039069190116, max_depth=5, n_estimators=97; total time=88.7min\n",
      "[CV] END learning_rate=0.05995304685140742, max_depth=5, n_estimators=124; total time=113.7min\n",
      "[CV] END learning_rate=0.09935756249789965, max_depth=5, n_estimators=129; total time=118.0min\n"
     ]
    },
    {
     "name": "stderr",
     "output_type": "stream",
     "text": [
      " 50%|>>>>>>>>>>| 2/4 [10:53:43<10:59:14, 19777.31s/it]"
     ]
    },
    {
     "name": "stdout",
     "output_type": "stream",
     "text": [
      "Fitting 1 folds for each of 15 candidates, totalling 15 fits\n",
      "[CV] END learning_rate=0.05370353041639195, max_depth=4, n_estimators=103; total time=94.2min\n",
      "[CV] END learning_rate=0.09929272050487549, max_depth=4, n_estimators=103; total time=94.5min\n",
      "[CV] END learning_rate=0.013294236994367284, max_depth=4, n_estimators=104; total time=94.5min\n",
      "[CV] END learning_rate=0.03374002095948243, max_depth=5, n_estimators=102; total time=115.8min\n",
      "[CV] END learning_rate=0.0916953270139478, max_depth=5, n_estimators=103; total time=117.0min\n",
      "[CV] END learning_rate=0.03689393481191623, max_depth=4, n_estimators=132; total time=120.9min\n",
      "[CV] END learning_rate=0.08311073325006053, max_depth=4, n_estimators=138; total time=125.7min\n",
      "[CV] END learning_rate=0.06522705276809168, max_depth=5, n_estimators=123; total time=139.3min\n",
      "[CV] END learning_rate=0.02570924579536038, max_depth=5, n_estimators=95; total time=99.6min\n",
      "[CV] END learning_rate=0.049848700581395185, max_depth=4, n_estimators=92; total time=76.8min\n",
      "[CV] END learning_rate=0.05462654856667447, max_depth=5, n_estimators=100; total time=105.4min\n",
      "[CV] END learning_rate=0.08173429521477768, max_depth=5, n_estimators=91; total time=90.4min\n",
      "[CV] END learning_rate=0.10734550804334579, max_depth=5, n_estimators=112; total time=114.5min\n",
      "[CV] END learning_rate=0.0687662386957969, max_depth=4, n_estimators=117; total time=93.5min\n",
      "[CV] END learning_rate=0.0561944912309349, max_depth=5, n_estimators=114; total time=98.3min\n"
     ]
    },
    {
     "name": "stderr",
     "output_type": "stream",
     "text": [
      " 75%|>>>>>>>>>>| 3/4 [16:14:15<5:25:28, 19528.11s/it] "
     ]
    },
    {
     "name": "stdout",
     "output_type": "stream",
     "text": [
      "Fitting 1 folds for each of 15 candidates, totalling 15 fits\n",
      "[CV] END learning_rate=0.08553488384026768, max_depth=4, n_estimators=99; total time=87.1min\n",
      "[CV] END learning_rate=0.045929722471779774, max_depth=4, n_estimators=105; total time=92.1min\n",
      "[CV] END learning_rate=0.049874759827739194, max_depth=4, n_estimators=110; total time=96.6min\n",
      "[CV] END learning_rate=0.09822883887044949, max_depth=4, n_estimators=114; total time=100.6min\n",
      "[CV] END learning_rate=0.035624676887399544, max_depth=5, n_estimators=95; total time=104.2min\n",
      "[CV] END learning_rate=0.04720224845918403, max_depth=5, n_estimators=101; total time=111.0min\n",
      "[CV] END learning_rate=0.10137023239525757, max_depth=5, n_estimators=106; total time=116.1min\n",
      "[CV] END learning_rate=0.07185947354380794, max_depth=5, n_estimators=113; total time=123.6min\n",
      "[CV] END learning_rate=0.10705988811174656, max_depth=4, n_estimators=98; total time=82.8min\n",
      "[CV] END learning_rate=0.07800565476808362, max_depth=4, n_estimators=111; total time=90.7min\n",
      "[CV] END learning_rate=0.05018107686988642, max_depth=4, n_estimators=131; total time=106.7min\n",
      "[CV] END learning_rate=0.04572532926712563, max_depth=5, n_estimators=104; total time=104.7min\n",
      "[CV] END learning_rate=0.03304371357097492, max_depth=5, n_estimators=93; total time=90.1min\n",
      "[CV] END learning_rate=0.10356682449958518, max_depth=5, n_estimators=102; total time=98.0min\n",
      "[CV] END learning_rate=0.09632715970532753, max_depth=5, n_estimators=121; total time=103.4min\n"
     ]
    },
    {
     "name": "stderr",
     "output_type": "stream",
     "text": [
      "100%|>>>>>>>>>>| 4/4 [21:28:49<00:00, 19332.49s/it]  \n"
     ]
    }
   ],
   "source": [
    "# starts training \n",
    "if __name__ == '__main__':\n",
    "    result = []\n",
    "    r2_oos_df = pd.DataFrame()\n",
    "    for year in tqdm(train_end_years, ascii='>>'):\n",
    "        X_train = X_train_dict[year]\n",
    "        y_train = y_train_dict[year]\n",
    "        X_val = X_val_dict[year]\n",
    "        y_val = y_val_dict[year]\n",
    "        X_test = X_test_dict[year]\n",
    "        y_test = y_test_dict[year]\n",
    "        permno_test = permno_test_dict[year]\n",
    "        # do the standardization here\n",
    "        tmp_scaler = StandardScaler()\n",
    "        X_train = pd.DataFrame(tmp_scaler.fit_transform(X_train), index=X_train.index, columns=X_train.columns)\n",
    "        X_val = pd.DataFrame(tmp_scaler.transform(X_val), index=X_val.index, columns=X_val.columns)\n",
    "        X_test = pd.DataFrame(tmp_scaler.transform(X_test), index=X_test.index, columns=X_test.columns)\n",
    "        \n",
    "        tmp_mod = GBRT_Reg(year, X_train, y_train, X_val, y_val, X_test, y_test, permno_test)\n",
    "        tmp_result, tmp_r2oos_reduction_df = tmp_mod.get_res(original_features_list)\n",
    "        result.append(tmp_result)\n",
    "        r2_oos_df = pd.concat([r2_oos_df, tmp_r2oos_reduction_df])\n",
    "    res_cols = tmp_mod.result_cols"
   ]
  },
  {
   "cell_type": "code",
   "execution_count": 45,
   "metadata": {},
   "outputs": [],
   "source": [
    "\n",
    "result_df = pd.DataFrame()\n",
    "for i in range(len(result)):\n",
    "    result_df = pd.concat([result_df, pd.DataFrame(result[i][0]).T])\n",
    "    result_df.reset_index(inplace=True, drop=True)"
   ]
  },
  {
   "cell_type": "code",
   "execution_count": 46,
   "metadata": {},
   "outputs": [],
   "source": [
    "result_df.columns = res_cols"
   ]
  },
  {
   "cell_type": "code",
   "execution_count": 47,
   "metadata": {},
   "outputs": [],
   "source": [
    "if not os.path.exists('result_data'):\n",
    "    os.makedirs('result_data')"
   ]
  },
  {
   "cell_type": "code",
   "execution_count": 48,
   "metadata": {},
   "outputs": [],
   "source": [
    "result_df.to_pickle('result_data/gbrt_testing26_interaction_result.pkl')\n",
    "# result_df.to_feather('result_data/gbrt_result.feather')\n",
    "\n",
    "r2_oos_df.to_pickle('result_data/gbrt_testing26_interaction_r2oos_reduction.pkl')\n",
    "# r2_oos_df.to_feather('result_data/gbrt_r2oos_reduction.feather')\n",
    "r2_oos_df.to_csv('result_data/gbrt_testing26_interaction_r2oos_reduction.csv')"
   ]
  },
  {
   "cell_type": "code",
   "execution_count": 49,
   "metadata": {},
   "outputs": [],
   "source": [
    "# check_pickle = pd.read_pickle('result_data/gbrt_result.pkl')"
   ]
  },
  {
   "cell_type": "markdown",
   "metadata": {},
   "source": [
    "## plot the feature importance of the model"
   ]
  },
  {
   "cell_type": "code",
   "execution_count": 50,
   "metadata": {},
   "outputs": [
    {
     "data": {
      "image/png": "[encoded data removed]",
      "text/plain": [
       "<Figure size 720x1440 with 1 Axes>"
      ]
     },
     "metadata": {},
     "output_type": "display_data"
    }
   ],
   "source": [
    "r2_reduction_mean = r2_oos_df.groupby(level=0)['R2OOS_Normalized'].mean()\n",
    "r2_reduction_mean = r2_reduction_mean.sort_values(ascending=True)\n",
    "plt.figure(figsize=(10, 20))\n",
    "plt.barh(r2_reduction_mean.index, r2_reduction_mean)\n",
    "plt.show()"
   ]
  },
  {
   "cell_type": "code",
   "execution_count": 1,
   "metadata": {},
   "outputs": [
    {
     "data": {
      "text/html": [
       "<div>\n",
       "<style scoped>\n",
       "    .dataframe tbody tr th:only-of-type {\n",
       "        vertical-align: middle;\n",
       "    }\n",
       "\n",
       "    .dataframe tbody tr th {\n",
       "        vertical-align: top;\n",
       "    }\n",
       "\n",
       "    .dataframe thead th {\n",
       "        text-align: right;\n",
       "    }\n",
       "</style>\n",
       "<table border=\"1\" class=\"dataframe\">\n",
       "  <thead>\n",
       "    <tr style=\"text-align: right;\">\n",
       "      <th></th>\n",
       "      <th>Acronym</th>\n",
       "      <th>Description</th>\n",
       "      <th>Category</th>\n",
       "    </tr>\n",
       "  </thead>\n",
       "  <tbody>\n",
       "    <tr>\n",
       "      <th>0</th>\n",
       "      <td>abr</td>\n",
       "      <td>cumulative abnormal returns around earnings announcement dates</td>\n",
       "      <td>Momentum</td>\n",
       "    </tr>\n",
       "    <tr>\n",
       "      <th>1</th>\n",
       "      <td>acc</td>\n",
       "      <td>Operating Accruals</td>\n",
       "      <td>Investment</td>\n",
       "    </tr>\n",
       "    <tr>\n",
       "      <th>2</th>\n",
       "      <td>adm</td>\n",
       "      <td>Advertising Expense-to-market</td>\n",
       "      <td>Intangibles</td>\n",
       "    </tr>\n",
       "    <tr>\n",
       "      <th>3</th>\n",
       "      <td>agr</td>\n",
       "      <td>Asset growth</td>\n",
       "      <td>Investment</td>\n",
       "    </tr>\n",
       "    <tr>\n",
       "      <th>4</th>\n",
       "      <td>alm</td>\n",
       "      <td>Quarterly Asset Liquidity</td>\n",
       "      <td>Intangibles</td>\n",
       "    </tr>\n",
       "    <tr>\n",
       "      <th>5</th>\n",
       "      <td>ato</td>\n",
       "      <td>Asset Turnover</td>\n",
       "      <td>Profitability</td>\n",
       "    </tr>\n",
       "    <tr>\n",
       "      <th>6</th>\n",
       "      <td>baspread</td>\n",
       "      <td>Bid-ask spread rolling 3m</td>\n",
       "      <td>Frictions</td>\n",
       "    </tr>\n",
       "    <tr>\n",
       "      <th>7</th>\n",
       "      <td>beta</td>\n",
       "      <td>Beta rolling 3m</td>\n",
       "      <td>Trading frictions</td>\n",
       "    </tr>\n",
       "    <tr>\n",
       "      <th>8</th>\n",
       "      <td>bm</td>\n",
       "      <td>Book-to-market equity</td>\n",
       "      <td>Value-versus-growth</td>\n",
       "    </tr>\n",
       "    <tr>\n",
       "      <th>9</th>\n",
       "      <td>bm_ia</td>\n",
       "      <td>Industry-adjusted book to market</td>\n",
       "      <td>Value-versus-growth</td>\n",
       "    </tr>\n",
       "    <tr>\n",
       "      <th>10</th>\n",
       "      <td>cash</td>\n",
       "      <td>Cash holdings</td>\n",
       "      <td>Value-versus-growth</td>\n",
       "    </tr>\n",
       "    <tr>\n",
       "      <th>11</th>\n",
       "      <td>cashdebt</td>\n",
       "      <td>Cash to debt</td>\n",
       "      <td>Value-versus-growth</td>\n",
       "    </tr>\n",
       "    <tr>\n",
       "      <th>12</th>\n",
       "      <td>cfp</td>\n",
       "      <td>Cashflow-to-price</td>\n",
       "      <td>Value-versus-growth</td>\n",
       "    </tr>\n",
       "    <tr>\n",
       "      <th>13</th>\n",
       "      <td>chcsho</td>\n",
       "      <td>Change in shares outstanding</td>\n",
       "      <td>Investment</td>\n",
       "    </tr>\n",
       "    <tr>\n",
       "      <th>14</th>\n",
       "      <td>chpm</td>\n",
       "      <td>Industry-adjusted change in profit margin</td>\n",
       "      <td>Profitability</td>\n",
       "    </tr>\n",
       "    <tr>\n",
       "      <th>15</th>\n",
       "      <td>chtx</td>\n",
       "      <td>Change in tax expense</td>\n",
       "      <td>Momentum</td>\n",
       "    </tr>\n",
       "    <tr>\n",
       "      <th>16</th>\n",
       "      <td>cinvest</td>\n",
       "      <td>Corporate investment</td>\n",
       "      <td>Investment</td>\n",
       "    </tr>\n",
       "    <tr>\n",
       "      <th>17</th>\n",
       "      <td>depr</td>\n",
       "      <td>Depreciation / PPandE</td>\n",
       "      <td>Momentum</td>\n",
       "    </tr>\n",
       "    <tr>\n",
       "      <th>18</th>\n",
       "      <td>dolvol</td>\n",
       "      <td>Dollar trading volume</td>\n",
       "      <td>Trading frictions</td>\n",
       "    </tr>\n",
       "    <tr>\n",
       "      <th>19</th>\n",
       "      <td>dy</td>\n",
       "      <td>Dividend yield</td>\n",
       "      <td>Value-versus-growth</td>\n",
       "    </tr>\n",
       "    <tr>\n",
       "      <th>20</th>\n",
       "      <td>ep</td>\n",
       "      <td>Earnings-to-price</td>\n",
       "      <td>Value-versus-growth</td>\n",
       "    </tr>\n",
       "    <tr>\n",
       "      <th>21</th>\n",
       "      <td>gma</td>\n",
       "      <td>Gross profitability</td>\n",
       "      <td>Investment</td>\n",
       "    </tr>\n",
       "    <tr>\n",
       "      <th>22</th>\n",
       "      <td>grltnoa</td>\n",
       "      <td>Growth in long-term net operating assets</td>\n",
       "      <td>Investment</td>\n",
       "    </tr>\n",
       "    <tr>\n",
       "      <th>23</th>\n",
       "      <td>herf</td>\n",
       "      <td>Industry sales concentration</td>\n",
       "      <td>Intangibles</td>\n",
       "    </tr>\n",
       "    <tr>\n",
       "      <th>24</th>\n",
       "      <td>hire</td>\n",
       "      <td>Employee growth rate</td>\n",
       "      <td>Intangibles</td>\n",
       "    </tr>\n",
       "    <tr>\n",
       "      <th>25</th>\n",
       "      <td>ill</td>\n",
       "      <td>Illiquidity rolling 3m</td>\n",
       "      <td>Trading frictions</td>\n",
       "    </tr>\n",
       "    <tr>\n",
       "      <th>26</th>\n",
       "      <td>lev</td>\n",
       "      <td>Leverage</td>\n",
       "      <td>Value-versus-growth</td>\n",
       "    </tr>\n",
       "    <tr>\n",
       "      <th>27</th>\n",
       "      <td>lgr</td>\n",
       "      <td>Growth in long-term debt</td>\n",
       "      <td>Investment</td>\n",
       "    </tr>\n",
       "    <tr>\n",
       "      <th>28</th>\n",
       "      <td>maxret</td>\n",
       "      <td>Maximum daily returns rolling 3m</td>\n",
       "      <td>Trading frictions</td>\n",
       "    </tr>\n",
       "    <tr>\n",
       "      <th>29</th>\n",
       "      <td>me</td>\n",
       "      <td>the market equity</td>\n",
       "      <td>Frictions</td>\n",
       "    </tr>\n",
       "    <tr>\n",
       "      <th>30</th>\n",
       "      <td>me_ia</td>\n",
       "      <td>Industry-adjusted size</td>\n",
       "      <td>Frictions</td>\n",
       "    </tr>\n",
       "    <tr>\n",
       "      <th>31</th>\n",
       "      <td>mom12m</td>\n",
       "      <td>Momentum rolling 12m</td>\n",
       "      <td>Momentum</td>\n",
       "    </tr>\n",
       "    <tr>\n",
       "      <th>32</th>\n",
       "      <td>mom1m</td>\n",
       "      <td>Momentum</td>\n",
       "      <td>Momentum</td>\n",
       "    </tr>\n",
       "    <tr>\n",
       "      <th>33</th>\n",
       "      <td>mom36m</td>\n",
       "      <td>Momentum rolling 36m</td>\n",
       "      <td>Momentum</td>\n",
       "    </tr>\n",
       "    <tr>\n",
       "      <th>34</th>\n",
       "      <td>mom60m</td>\n",
       "      <td>Momentum rolling 60m</td>\n",
       "      <td>Momentum</td>\n",
       "    </tr>\n",
       "    <tr>\n",
       "      <th>35</th>\n",
       "      <td>mom6m</td>\n",
       "      <td>Momentum rolling 6m</td>\n",
       "      <td>Momentum</td>\n",
       "    </tr>\n",
       "    <tr>\n",
       "      <th>36</th>\n",
       "      <td>ni</td>\n",
       "      <td>Net Stock Issues</td>\n",
       "      <td>Investment</td>\n",
       "    </tr>\n",
       "    <tr>\n",
       "      <th>37</th>\n",
       "      <td>nincr</td>\n",
       "      <td>Number of earnings increases</td>\n",
       "      <td>Momentum</td>\n",
       "    </tr>\n",
       "    <tr>\n",
       "      <th>38</th>\n",
       "      <td>noa</td>\n",
       "      <td>(Changes in) Net Operating Assets</td>\n",
       "      <td>Investment</td>\n",
       "    </tr>\n",
       "    <tr>\n",
       "      <th>39</th>\n",
       "      <td>op</td>\n",
       "      <td>Operating proﬁtability</td>\n",
       "      <td>Profitability</td>\n",
       "    </tr>\n",
       "    <tr>\n",
       "      <th>40</th>\n",
       "      <td>pctacc</td>\n",
       "      <td>Percent operating accruals</td>\n",
       "      <td>Investment</td>\n",
       "    </tr>\n",
       "    <tr>\n",
       "      <th>41</th>\n",
       "      <td>pm</td>\n",
       "      <td>proﬁt margin</td>\n",
       "      <td>Profitability</td>\n",
       "    </tr>\n",
       "    <tr>\n",
       "      <th>42</th>\n",
       "      <td>ps</td>\n",
       "      <td>Performance Score</td>\n",
       "      <td>Profitability</td>\n",
       "    </tr>\n",
       "    <tr>\n",
       "      <th>43</th>\n",
       "      <td>rd_sale</td>\n",
       "      <td>RandD to sales</td>\n",
       "      <td>Intangibles</td>\n",
       "    </tr>\n",
       "    <tr>\n",
       "      <th>44</th>\n",
       "      <td>rdm</td>\n",
       "      <td>RandD Expense-to-market</td>\n",
       "      <td>Intangibles</td>\n",
       "    </tr>\n",
       "    <tr>\n",
       "      <th>45</th>\n",
       "      <td>re</td>\n",
       "      <td>Revisions in analysts earnings forecasts</td>\n",
       "      <td>Intangibles</td>\n",
       "    </tr>\n",
       "    <tr>\n",
       "      <th>46</th>\n",
       "      <td>rna</td>\n",
       "      <td>Quarterly Return on Net Operating Assets, Quarterly Asset Turnover</td>\n",
       "      <td>Profitability</td>\n",
       "    </tr>\n",
       "    <tr>\n",
       "      <th>47</th>\n",
       "      <td>Roa1</td>\n",
       "      <td>Return on Assets</td>\n",
       "      <td>Profitability</td>\n",
       "    </tr>\n",
       "    <tr>\n",
       "      <th>48</th>\n",
       "      <td>roe</td>\n",
       "      <td>Return on Equity</td>\n",
       "      <td>Profitability</td>\n",
       "    </tr>\n",
       "    <tr>\n",
       "      <th>49</th>\n",
       "      <td>rsup</td>\n",
       "      <td>Revenue surprise</td>\n",
       "      <td>Momentum</td>\n",
       "    </tr>\n",
       "    <tr>\n",
       "      <th>50</th>\n",
       "      <td>rvar_capm</td>\n",
       "      <td>Residual variance - CAPM rolling 3m</td>\n",
       "      <td>Trading frictions</td>\n",
       "    </tr>\n",
       "    <tr>\n",
       "      <th>51</th>\n",
       "      <td>rvar_ff3</td>\n",
       "      <td>Residual variance - ff3 rolling 3m</td>\n",
       "      <td>Trading frictions</td>\n",
       "    </tr>\n",
       "    <tr>\n",
       "      <th>52</th>\n",
       "      <td>rvar_mean</td>\n",
       "      <td>return variance rolling 3m</td>\n",
       "      <td>Trading frictions</td>\n",
       "    </tr>\n",
       "    <tr>\n",
       "      <th>53</th>\n",
       "      <td>seas1a</td>\n",
       "      <td>Seasonality</td>\n",
       "      <td>Intangibles</td>\n",
       "    </tr>\n",
       "    <tr>\n",
       "      <th>54</th>\n",
       "      <td>sgr</td>\n",
       "      <td>Sales growth</td>\n",
       "      <td>Value-versus-growth</td>\n",
       "    </tr>\n",
       "    <tr>\n",
       "      <th>55</th>\n",
       "      <td>sp</td>\n",
       "      <td>Sales-to-price</td>\n",
       "      <td>Value-versus-growth</td>\n",
       "    </tr>\n",
       "    <tr>\n",
       "      <th>56</th>\n",
       "      <td>std_dolvol</td>\n",
       "      <td>Std of dollar trading volume rolling 3m</td>\n",
       "      <td>Trading frictions</td>\n",
       "    </tr>\n",
       "    <tr>\n",
       "      <th>57</th>\n",
       "      <td>std_turn</td>\n",
       "      <td>Std. of Share turnover rolling 3m</td>\n",
       "      <td>Trading frictions</td>\n",
       "    </tr>\n",
       "    <tr>\n",
       "      <th>58</th>\n",
       "      <td>sue</td>\n",
       "      <td>Unexpected quarterly earnings</td>\n",
       "      <td>Momentum</td>\n",
       "    </tr>\n",
       "    <tr>\n",
       "      <th>59</th>\n",
       "      <td>turn</td>\n",
       "      <td>Shares turnover</td>\n",
       "      <td>Trading frictions</td>\n",
       "    </tr>\n",
       "    <tr>\n",
       "      <th>60</th>\n",
       "      <td>zerotrade</td>\n",
       "      <td>Number of zero-trading days rolling 3m</td>\n",
       "      <td>Trading frictions</td>\n",
       "    </tr>\n",
       "  </tbody>\n",
       "</table>\n",
       "</div>"
      ],
      "text/plain": [
       "       Acronym  \\\n",
       "0          abr   \n",
       "1          acc   \n",
       "2          adm   \n",
       "3          agr   \n",
       "4          alm   \n",
       "5          ato   \n",
       "6     baspread   \n",
       "7         beta   \n",
       "8          bm    \n",
       "9        bm_ia   \n",
       "10        cash   \n",
       "11    cashdebt   \n",
       "12         cfp   \n",
       "13      chcsho   \n",
       "14       chpm    \n",
       "15        chtx   \n",
       "16     cinvest   \n",
       "17        depr   \n",
       "18      dolvol   \n",
       "19          dy   \n",
       "20          ep   \n",
       "21         gma   \n",
       "22     grltnoa   \n",
       "23        herf   \n",
       "24        hire   \n",
       "25         ill   \n",
       "26         lev   \n",
       "27         lgr   \n",
       "28      maxret   \n",
       "29         me    \n",
       "30      me_ia    \n",
       "31      mom12m   \n",
       "32       mom1m   \n",
       "33      mom36m   \n",
       "34      mom60m   \n",
       "35       mom6m   \n",
       "36         ni    \n",
       "37       nincr   \n",
       "38         noa   \n",
       "39          op   \n",
       "40      pctacc   \n",
       "41         pm    \n",
       "42          ps   \n",
       "43     rd_sale   \n",
       "44        rdm    \n",
       "45          re   \n",
       "46        rna    \n",
       "47        Roa1   \n",
       "48        roe    \n",
       "49        rsup   \n",
       "50   rvar_capm   \n",
       "51    rvar_ff3   \n",
       "52   rvar_mean   \n",
       "53      seas1a   \n",
       "54         sgr   \n",
       "55          sp   \n",
       "56  std_dolvol   \n",
       "57    std_turn   \n",
       "58         sue   \n",
       "59        turn   \n",
       "60   zerotrade   \n",
       "\n",
       "                                                           Description  \\\n",
       "0       cumulative abnormal returns around earnings announcement dates   \n",
       "1                                                   Operating Accruals   \n",
       "2                                        Advertising Expense-to-market   \n",
       "3                                                         Asset growth   \n",
       "4                                            Quarterly Asset Liquidity   \n",
       "5                                                       Asset Turnover   \n",
       "6                                            Bid-ask spread rolling 3m   \n",
       "7                                                      Beta rolling 3m   \n",
       "8                                                Book-to-market equity   \n",
       "9                                     Industry-adjusted book to market   \n",
       "10                                                       Cash holdings   \n",
       "11                                                        Cash to debt   \n",
       "12                                                   Cashflow-to-price   \n",
       "13                                        Change in shares outstanding   \n",
       "14                           Industry-adjusted change in profit margin   \n",
       "15                                               Change in tax expense   \n",
       "16                                                Corporate investment   \n",
       "17                                               Depreciation / PPandE   \n",
       "18                                               Dollar trading volume   \n",
       "19                                                      Dividend yield   \n",
       "20                                                   Earnings-to-price   \n",
       "21                                                 Gross profitability   \n",
       "22                            Growth in long-term net operating assets   \n",
       "23                                        Industry sales concentration   \n",
       "24                                                Employee growth rate   \n",
       "25                                              Illiquidity rolling 3m   \n",
       "26                                                            Leverage   \n",
       "27                                            Growth in long-term debt   \n",
       "28                                    Maximum daily returns rolling 3m   \n",
       "29                                                   the market equity   \n",
       "30                                              Industry-adjusted size   \n",
       "31                                                Momentum rolling 12m   \n",
       "32                                                           Momentum    \n",
       "33                                                Momentum rolling 36m   \n",
       "34                                                Momentum rolling 60m   \n",
       "35                                                 Momentum rolling 6m   \n",
       "36                                                    Net Stock Issues   \n",
       "37                                        Number of earnings increases   \n",
       "38                                   (Changes in) Net Operating Assets   \n",
       "39                                              Operating proﬁtability   \n",
       "40                                          Percent operating accruals   \n",
       "41                                                        proﬁt margin   \n",
       "42                                                   Performance Score   \n",
       "43                                                      RandD to sales   \n",
       "44                                             RandD Expense-to-market   \n",
       "45                            Revisions in analysts earnings forecasts   \n",
       "46  Quarterly Return on Net Operating Assets, Quarterly Asset Turnover   \n",
       "47                                                    Return on Assets   \n",
       "48                                                    Return on Equity   \n",
       "49                                                    Revenue surprise   \n",
       "50                                 Residual variance - CAPM rolling 3m   \n",
       "51                                  Residual variance - ff3 rolling 3m   \n",
       "52                                          return variance rolling 3m   \n",
       "53                                                         Seasonality   \n",
       "54                                                        Sales growth   \n",
       "55                                                      Sales-to-price   \n",
       "56                             Std of dollar trading volume rolling 3m   \n",
       "57                                   Std. of Share turnover rolling 3m   \n",
       "58                                       Unexpected quarterly earnings   \n",
       "59                                                     Shares turnover   \n",
       "60                              Number of zero-trading days rolling 3m   \n",
       "\n",
       "                Category  \n",
       "0               Momentum  \n",
       "1             Investment  \n",
       "2            Intangibles  \n",
       "3            Investment   \n",
       "4            Intangibles  \n",
       "5          Profitability  \n",
       "6              Frictions  \n",
       "7     Trading frictions   \n",
       "8    Value-versus-growth  \n",
       "9    Value-versus-growth  \n",
       "10   Value-versus-growth  \n",
       "11   Value-versus-growth  \n",
       "12   Value-versus-growth  \n",
       "13           Investment   \n",
       "14        Profitability   \n",
       "15             Momentum   \n",
       "16           Investment   \n",
       "17             Momentum   \n",
       "18    Trading frictions   \n",
       "19   Value-versus-growth  \n",
       "20   Value-versus-growth  \n",
       "21            Investment  \n",
       "22            Investment  \n",
       "23          Intangibles   \n",
       "24          Intangibles   \n",
       "25    Trading frictions   \n",
       "26  Value-versus-growth   \n",
       "27           Investment   \n",
       "28    Trading frictions   \n",
       "29             Frictions  \n",
       "30             Frictions  \n",
       "31             Momentum   \n",
       "32             Momentum   \n",
       "33             Momentum   \n",
       "34             Momentum   \n",
       "35             Momentum   \n",
       "36            Investment  \n",
       "37             Momentum   \n",
       "38            Investment  \n",
       "39        Profitability   \n",
       "40            Investment  \n",
       "41         Profitability  \n",
       "42        Profitability   \n",
       "43          Intangibles   \n",
       "44           Intangibles  \n",
       "45          Intangibles   \n",
       "46         Profitability  \n",
       "47         Profitability  \n",
       "48         Profitability  \n",
       "49             Momentum   \n",
       "50    Trading frictions   \n",
       "51    Trading frictions   \n",
       "52    Trading frictions   \n",
       "53           Intangibles  \n",
       "54  Value-versus-growth   \n",
       "55   Value-versus-growth  \n",
       "56    Trading frictions   \n",
       "57    Trading frictions   \n",
       "58             Momentum   \n",
       "59    Trading frictions   \n",
       "60    Trading frictions   "
      ]
     },
     "execution_count": 1,
     "metadata": {},
     "output_type": "execute_result"
    }
   ],
   "source": [
    "import pandas as pd\n",
    "pd.options.display.max_rows = 999\n",
    "pd.options.display.max_colwidth = 999\n",
    "chars_sum = pd.read_csv('chars60_summary.csv')\n",
    "chars_sum.iloc[:,[0,1,4]]"
   ]
  },
  {
   "cell_type": "code",
   "execution_count": 51,
   "metadata": {},
   "outputs": [
    {
     "data": {
      "text/html": [
       "<div>\n",
       "<style scoped>\n",
       "    .dataframe tbody tr th:only-of-type {\n",
       "        vertical-align: middle;\n",
       "    }\n",
       "\n",
       "    .dataframe tbody tr th {\n",
       "        vertical-align: top;\n",
       "    }\n",
       "\n",
       "    .dataframe thead th {\n",
       "        text-align: right;\n",
       "    }\n",
       "</style>\n",
       "<table border=\"1\" class=\"dataframe\">\n",
       "  <thead>\n",
       "    <tr style=\"text-align: right;\">\n",
       "      <th></th>\n",
       "      <th>R2OOS</th>\n",
       "      <th>R2OOS_Reduction</th>\n",
       "      <th>R2OOS_Normalized</th>\n",
       "    </tr>\n",
       "  </thead>\n",
       "  <tbody>\n",
       "    <tr>\n",
       "      <th>adm</th>\n",
       "      <td>0.028671</td>\n",
       "      <td>0.000001</td>\n",
       "      <td>0.000021</td>\n",
       "    </tr>\n",
       "    <tr>\n",
       "      <th>bm_ia</th>\n",
       "      <td>0.025269</td>\n",
       "      <td>0.003401</td>\n",
       "      <td>0.066036</td>\n",
       "    </tr>\n",
       "    <tr>\n",
       "      <th>herf</th>\n",
       "      <td>0.0262</td>\n",
       "      <td>0.00247</td>\n",
       "      <td>0.047951</td>\n",
       "    </tr>\n",
       "    <tr>\n",
       "      <th>hire</th>\n",
       "      <td>0.028671</td>\n",
       "      <td>0.000002</td>\n",
       "      <td>0.000034</td>\n",
       "    </tr>\n",
       "    <tr>\n",
       "      <th>me_ia</th>\n",
       "      <td>0.027963</td>\n",
       "      <td>0.000706</td>\n",
       "      <td>0.013718</td>\n",
       "    </tr>\n",
       "    <tr>\n",
       "      <th>...</th>\n",
       "      <td>...</td>\n",
       "      <td>...</td>\n",
       "      <td>...</td>\n",
       "    </tr>\n",
       "    <tr>\n",
       "      <th>d/p</th>\n",
       "      <td>0.001217</td>\n",
       "      <td>0.01824</td>\n",
       "      <td>0.049089</td>\n",
       "    </tr>\n",
       "    <tr>\n",
       "      <th>e/p</th>\n",
       "      <td>-0.01398</td>\n",
       "      <td>0.003043</td>\n",
       "      <td>0.00819</td>\n",
       "    </tr>\n",
       "    <tr>\n",
       "      <th>dfy</th>\n",
       "      <td>-0.006626</td>\n",
       "      <td>0.010397</td>\n",
       "      <td>0.027981</td>\n",
       "    </tr>\n",
       "    <tr>\n",
       "      <th>tms</th>\n",
       "      <td>-0.01808</td>\n",
       "      <td>0.001058</td>\n",
       "      <td>0.002847</td>\n",
       "    </tr>\n",
       "    <tr>\n",
       "      <th>ffi49</th>\n",
       "      <td>-0.017109</td>\n",
       "      <td>0.000086</td>\n",
       "      <td>0.000232</td>\n",
       "    </tr>\n",
       "  </tbody>\n",
       "</table>\n",
       "<p>280 rows × 3 columns</p>\n",
       "</div>"
      ],
      "text/plain": [
       "          R2OOS R2OOS_Reduction R2OOS_Normalized\n",
       "adm    0.028671        0.000001         0.000021\n",
       "bm_ia  0.025269        0.003401         0.066036\n",
       "herf     0.0262         0.00247         0.047951\n",
       "hire   0.028671        0.000002         0.000034\n",
       "me_ia  0.027963        0.000706         0.013718\n",
       "...         ...             ...              ...\n",
       "d/p    0.001217         0.01824         0.049089\n",
       "e/p    -0.01398        0.003043          0.00819\n",
       "dfy   -0.006626        0.010397         0.027981\n",
       "tms    -0.01808        0.001058         0.002847\n",
       "ffi49 -0.017109        0.000086         0.000232\n",
       "\n",
       "[280 rows x 3 columns]"
      ]
     },
     "execution_count": 51,
     "metadata": {},
     "output_type": "execute_result"
    }
   ],
   "source": [
    "r2_oos_df"
   ]
  },
  {
   "cell_type": "code",
   "execution_count": 52,
   "metadata": {},
   "outputs": [
    {
     "data": {
      "text/html": [
       "<div>\n",
       "<style scoped>\n",
       "    .dataframe tbody tr th:only-of-type {\n",
       "        vertical-align: middle;\n",
       "    }\n",
       "\n",
       "    .dataframe tbody tr th {\n",
       "        vertical-align: top;\n",
       "    }\n",
       "\n",
       "    .dataframe thead th {\n",
       "        text-align: right;\n",
       "    }\n",
       "</style>\n",
       "<table border=\"1\" class=\"dataframe\">\n",
       "  <thead>\n",
       "    <tr style=\"text-align: right;\">\n",
       "      <th></th>\n",
       "      <th>year</th>\n",
       "      <th>permno</th>\n",
       "      <th>y_pred</th>\n",
       "      <th>y_real</th>\n",
       "      <th>params</th>\n",
       "      <th>pred_R2_OOS</th>\n",
       "      <th>CV_R2</th>\n",
       "      <th>CV_MSE</th>\n",
       "    </tr>\n",
       "  </thead>\n",
       "  <tbody>\n",
       "    <tr>\n",
       "      <th>0</th>\n",
       "      <td>1985</td>\n",
       "      <td>date\n",
       "1992-01-31    18921\n",
       "1992-01-31    24942\n",
       "1...</td>\n",
       "      <td>[0.009080421151579669, 0.010307980506846882, 0...</td>\n",
       "      <td>date\n",
       "1992-01-31   -0.043182\n",
       "1992-01-31    0.02...</td>\n",
       "      <td>{'learning_rate': 0.0160462998061679, 'max_dep...</td>\n",
       "      <td>0.02867</td>\n",
       "      <td>-0.019174</td>\n",
       "      <td>[-0.014946945907070505, -0.014638244799527607,...</td>\n",
       "    </tr>\n",
       "    <tr>\n",
       "      <th>1</th>\n",
       "      <td>1986</td>\n",
       "      <td>date\n",
       "1993-01-31    36003\n",
       "1993-01-31    25718\n",
       "1...</td>\n",
       "      <td>[0.0027396607657490767, 0.03911271501458434, 0...</td>\n",
       "      <td>date\n",
       "1993-01-31    0.040816\n",
       "1993-01-31   -0.09...</td>\n",
       "      <td>{'learning_rate': 0.017588432140324108, 'max_d...</td>\n",
       "      <td>0.01693</td>\n",
       "      <td>-0.026009</td>\n",
       "      <td>[-0.01372490268936293, -0.013501201756574882, ...</td>\n",
       "    </tr>\n",
       "    <tr>\n",
       "      <th>2</th>\n",
       "      <td>1987</td>\n",
       "      <td>date\n",
       "1994-01-31    70229\n",
       "1994-01-31    51625\n",
       "1...</td>\n",
       "      <td>[0.008644012283681226, 0.005515498677076578, 0...</td>\n",
       "      <td>date\n",
       "1994-01-31   -0.015075\n",
       "1994-01-31    0.00...</td>\n",
       "      <td>{'learning_rate': 0.0561944912309349, 'max_dep...</td>\n",
       "      <td>-0.02742</td>\n",
       "      <td>0.038063</td>\n",
       "      <td>[-0.011380014599713127, -0.011336058388781276,...</td>\n",
       "    </tr>\n",
       "    <tr>\n",
       "      <th>3</th>\n",
       "      <td>1988</td>\n",
       "      <td>date\n",
       "1995-01-31    44951\n",
       "1995-01-31    72726\n",
       "1...</td>\n",
       "      <td>[0.0271466651201255, 0.007896046730580874, 0.0...</td>\n",
       "      <td>date\n",
       "1995-01-31   -0.025641\n",
       "1995-01-31    0.14...</td>\n",
       "      <td>{'learning_rate': 0.07185947354380794, 'max_de...</td>\n",
       "      <td>-0.017023</td>\n",
       "      <td>0.017877</td>\n",
       "      <td>[-0.011325043942621437, -0.011178393714443286,...</td>\n",
       "    </tr>\n",
       "  </tbody>\n",
       "</table>\n",
       "</div>"
      ],
      "text/plain": [
       "   year                                             permno  \\\n",
       "0  1985  date\n",
       "1992-01-31    18921\n",
       "1992-01-31    24942\n",
       "1...   \n",
       "1  1986  date\n",
       "1993-01-31    36003\n",
       "1993-01-31    25718\n",
       "1...   \n",
       "2  1987  date\n",
       "1994-01-31    70229\n",
       "1994-01-31    51625\n",
       "1...   \n",
       "3  1988  date\n",
       "1995-01-31    44951\n",
       "1995-01-31    72726\n",
       "1...   \n",
       "\n",
       "                                              y_pred  \\\n",
       "0  [0.009080421151579669, 0.010307980506846882, 0...   \n",
       "1  [0.0027396607657490767, 0.03911271501458434, 0...   \n",
       "2  [0.008644012283681226, 0.005515498677076578, 0...   \n",
       "3  [0.0271466651201255, 0.007896046730580874, 0.0...   \n",
       "\n",
       "                                              y_real  \\\n",
       "0  date\n",
       "1992-01-31   -0.043182\n",
       "1992-01-31    0.02...   \n",
       "1  date\n",
       "1993-01-31    0.040816\n",
       "1993-01-31   -0.09...   \n",
       "2  date\n",
       "1994-01-31   -0.015075\n",
       "1994-01-31    0.00...   \n",
       "3  date\n",
       "1995-01-31   -0.025641\n",
       "1995-01-31    0.14...   \n",
       "\n",
       "                                              params pred_R2_OOS     CV_R2  \\\n",
       "0  {'learning_rate': 0.0160462998061679, 'max_dep...     0.02867 -0.019174   \n",
       "1  {'learning_rate': 0.017588432140324108, 'max_d...     0.01693 -0.026009   \n",
       "2  {'learning_rate': 0.0561944912309349, 'max_dep...    -0.02742  0.038063   \n",
       "3  {'learning_rate': 0.07185947354380794, 'max_de...   -0.017023  0.017877   \n",
       "\n",
       "                                              CV_MSE  \n",
       "0  [-0.014946945907070505, -0.014638244799527607,...  \n",
       "1  [-0.01372490268936293, -0.013501201756574882, ...  \n",
       "2  [-0.011380014599713127, -0.011336058388781276,...  \n",
       "3  [-0.011325043942621437, -0.011178393714443286,...  "
      ]
     },
     "execution_count": 52,
     "metadata": {},
     "output_type": "execute_result"
    }
   ],
   "source": [
    "result_df"
   ]
  },
  {
   "cell_type": "code",
   "execution_count": 53,
   "metadata": {},
   "outputs": [],
   "source": [
    "tmp_best_params_series = result_df['params']"
   ]
  },
  {
   "cell_type": "code",
   "execution_count": 54,
   "metadata": {},
   "outputs": [
    {
     "name": "stdout",
     "output_type": "stream",
     "text": [
      "learning_rate 0.0160462998061679\n",
      "max_depth 4\n",
      "n_estimators 102\n",
      "-------------------\n",
      "learning_rate 0.017588432140324108\n",
      "max_depth 5\n",
      "n_estimators 120\n",
      "-------------------\n",
      "learning_rate 0.0561944912309349\n",
      "max_depth 5\n",
      "n_estimators 114\n",
      "-------------------\n",
      "learning_rate 0.07185947354380794\n",
      "max_depth 5\n",
      "n_estimators 113\n",
      "-------------------\n"
     ]
    }
   ],
   "source": [
    "for tmp_best_params in tmp_best_params_series:\n",
    "    for key in tmp_best_params.keys():\n",
    "        print(key, tmp_best_params[key])\n",
    "    print('-------------------')"
   ]
  },
  {
   "cell_type": "markdown",
   "metadata": {},
   "source": [
    "# best pararms records\n",
    "*  n_estimators = 62, 77, 121, 63, max_depth = 4, 4, 4, 7, learning rate = 0.02, 0.08, 0.06, 0.04, mean_r2oos = 0.01737 \n",
    "--------------------------------------------------------------------------------------------------------------------------------\n",
    "*  n_estimators = 115, 135, 121, 93, max_depth = 4, 4, 4, 5, learning rate = 0.027, 0.023, 0.020, 0.097, mean_r2oos = 0.0199 \n",
    "*  best_n_estimators = 121, best_max_depth=4, best_learning_rate = 0.020\n",
    "\n",
    "*in order to get the best result, I might have to fix max_depth to 4 and run the code again*"
   ]
  },
  {
   "cell_type": "code",
   "execution_count": 55,
   "metadata": {},
   "outputs": [
    {
     "name": "stdout",
     "output_type": "stream",
     "text": [
      "0.00028928323768226405\n"
     ]
    }
   ],
   "source": [
    "mean_r2oos = np.mean(result_df['pred_R2_OOS'])\n",
    "print(mean_r2oos)"
   ]
  },
  {
   "cell_type": "markdown",
   "metadata": {},
   "source": [
    "# notes \n",
    "* do we really need rolling\n",
    "* consider using polynormial feature\n",
    "* dummy_varaibles, especially ffi49 creates too many columns, and we think it would damage the performance, is there a way to avoid this?"
   ]
  },
  {
   "cell_type": "code",
   "execution_count": 56,
   "metadata": {},
   "outputs": [],
   "source": [
    "\n",
    "# from sklearn.preprocessing import StandardScaler, PolynomialFeatures"
   ]
  },
  {
   "cell_type": "code",
   "execution_count": 57,
   "metadata": {},
   "outputs": [],
   "source": [
    "# # example\n",
    "# def regress_test(X, y, regressor, params = None,\n",
    "#             target ='daily_ret', window = 120, pred_window = 30):\n",
    "#     # training with 6month(120days) and predict 3month(60days)\n",
    "#     tscv = TimeSeriesSplit() # n_splits=_num_batch\n",
    "\n",
    "#     pf = PolynomialFeatures(degree=1)\n",
    "\n",
    "#     estimator = Pipeline([\n",
    "#         ('scaler', StandardScaler()),\n",
    "#         (\"polynomial_features\", pf),\n",
    "#         (\"ridge_regression\", ridge)])\n"
   ]
  },
  {
   "cell_type": "code",
   "execution_count": 58,
   "metadata": {},
   "outputs": [],
   "source": [
    "# #PCA Not used\n",
    "# #TODO:change this\n",
    "# pipe = Pipeline([\n",
    "#         ('scale', StandardScaler()),\n",
    "#         ('reduce_dims', PCA(n_components=4)),\n",
    "#         ('clf', SVC(kernel = 'linear', C = 1))]) \n",
    "\n",
    "# param_grid = dict(reduce_dims__n_components=[4,6,8],\n",
    "#                   clf__C=np.logspace(-4, 1, 6),\n",
    "#                   clf__kernel=['rbf','linear'])\n",
    "\n",
    "# grid = GridSearchCV(pipe, param_grid=param_grid, cv=3, n_jobs=1, verbose=2, scoring= 'accuracy')\n",
    "# grid.fit(X, y)\n",
    "# print(grid.best_score_)\n",
    "# print(grid.cv_results_)"
   ]
  },
  {
   "cell_type": "markdown",
   "metadata": {},
   "source": [
    "### shap values, need more research, don't use it yet"
   ]
  },
  {
   "cell_type": "code",
   "execution_count": 59,
   "metadata": {},
   "outputs": [],
   "source": [
    "# # Tree SHAP is an algorithm to compute exact SHAP values for Decision Trees based models. \n",
    "# # SHAP (SHapley Additive exPlanation) is a game theoretic approach to explain the output of any machine learning model. \n",
    "# # The goal of SHAP is to explain the prediction for any instance xᵢ as a sum of contributions from it’s individual feature values. \n",
    "# #reference:https://towardsdatascience.com/using-shap-values-to-explain-how-your-machine-learning-model-works-732b3f40e137#a3a1\n",
    "# def feature_importance_plot_single_model(clf, mod_type, X_test):\n",
    "# # chart with features listed in order of importance\n",
    "# # if our case, for clf, we might need reg.best_estimator_ or grid.best_estimator_\n",
    "#     if mod_type == 'tree':\n",
    "#         explainer = shap.TreeExplainer(clf)\n",
    "#     if mod_type == 'linear':\n",
    "#         explainer = shap.LinearExplainer(clf)\n",
    "#     if mod_type == 'neural_network':\n",
    "#         explainer = shap.KernelExplainer(clf)\n",
    "\n",
    "#     shap_values = explainer.shap_values(X_test)\n",
    "\n",
    "#     # shap.summary_plot(shap_values, X_test, plot_type=\"bar\")\n",
    "#     # shap.summary_plot(shap_values, X_test)\n",
    "#     shap.plots.bar(shap_values=shap_values)\n",
    "\n",
    "# def feature_importance_all_heatmap(shap_df, name):\n",
    "#     #TODO:finish this function\n",
    "#     result = result.astype(\"float\")\n",
    "#     result = result.iloc[::-1]\n",
    "#     scalar = MinMaxScaler()\n",
    "#     result = scalar.fit_transform(result)\n",
    "#     result = pd.DataFrame(result, columns=name, index=(rsl[0].index)[::-1])\n",
    "#     plt.figure(figsize=(15, 15)) # 后面改\n",
    "#     sns.heatmap(result,cmap=\"Blues\")\n",
    "#     plt.show()\n",
    "#     return None\n",
    "\n"
   ]
  },
  {
   "cell_type": "markdown",
   "metadata": {},
   "source": [
    "## Marginal Association Between Characteristics and Expected Return"
   ]
  },
  {
   "cell_type": "markdown",
   "metadata": {},
   "source": [
    "# use dm-test to compare models\n",
    "# we could use this package provided by https://github.com/johntwk/Diebold-Mariano-Test"
   ]
  },
  {
   "cell_type": "code",
   "execution_count": null,
   "metadata": {},
   "outputs": [],
   "source": []
  }
 ],
 "metadata": {
  "kernelspec": {
   "display_name": "Python 3.9.7 ('base')",
   "language": "python",
   "name": "python3"
  },
  "language_info": {
   "codemirror_mode": {
    "name": "ipython",
    "version": 3
   },
   "file_extension": ".py",
   "mimetype": "text/x-python",
   "name": "python",
   "nbconvert_exporter": "python",
   "pygments_lexer": "ipython3",
   "version": "3.9.12"
  },
  "orig_nbformat": 4,
  "vscode": {
   "interpreter": {
    "hash": "0a952188e4bab49300a5758bda39ddc90e91f41f35dfe6ea820e496e515be371"
   }
  }
 },
 "nbformat": 4,
 "nbformat_minor": 2
}
