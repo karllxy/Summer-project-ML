{
 "cells": [
  {
   "cell_type": "code",
   "execution_count": 1,
   "metadata": {},
   "outputs": [],
   "source": [
    "# import pyarrow.feather as feather\n",
    "import numpy as np\n",
    "import pandas as pd\n",
    "import os\n",
    "from datetime import datetime\n",
    "from tqdm import tqdm\n",
    "\n",
    "from sklearn.metrics import mean_squared_error, make_scorer, accuracy_score, f1_score, classification_report\n",
    "from sklearn.preprocessing import StandardScaler\n",
    "from sklearn.pipeline import Pipeline\n",
    "from sklearn.model_selection import GridSearchCV, RandomizedSearchCV, PredefinedSplit\n",
    "from sklearn.ensemble import GradientBoostingRegressor\n",
    "\n",
    "import matplotlib.pyplot as plt\n",
    "import seaborn as sns\n",
    "sns.set()\n",
    "from collections import Counter\n",
    "from scipy.stats import uniform\n",
    "from scipy.stats import randint\n",
    "import shap"
   ]
  },
  {
   "cell_type": "markdown",
   "metadata": {},
   "source": [
    "## read the feather files"
   ]
  },
  {
   "cell_type": "code",
   "execution_count": 2,
   "metadata": {},
   "outputs": [
    {
     "name": "stdout",
     "output_type": "stream",
     "text": [
      "My current directory is : /home/spectre/Desktop/summer_project/Summer-project-ML\n",
      "My directory name is : Summer-project-ML\n"
     ]
    }
   ],
   "source": [
    "import os\n",
    "directory_path = os.getcwd()\n",
    "print(\"My current directory is : \" + directory_path)\n",
    "folder_name = os.path.basename(directory_path)\n",
    "print(\"My directory name is : \" + folder_name)"
   ]
  },
  {
   "cell_type": "code",
   "execution_count": 3,
   "metadata": {},
   "outputs": [],
   "source": [
    "directory_path = os.getcwd()\n",
    "data_path = os.path.join(directory_path, 'data')  # the path to data folder\n",
    "\n",
    "\n",
    "# list_of_feather = []\n",
    "# for root, dirs, files in os.walk(data_path):\n",
    "#     for file in files:\n",
    "#         if file.endswith('.feather'):\n",
    "#             list_of_feather.append(os.path.join(root, file))\n",
    "\n",
    "# feather_dict = {}\n",
    "# for feather_file in list_of_feather:\n",
    "#     feather_name = feather_file.split('/')[-1].replace(\".feather\",\"\") # the name of the feather file without the .feather extension\n",
    "#     feather_dict[feather_name] = pd.read_feather(feather_file)"
   ]
  },
  {
   "cell_type": "code",
   "execution_count": 4,
   "metadata": {},
   "outputs": [],
   "source": [
    "# feather_dict.keys()"
   ]
  },
  {
   "cell_type": "code",
   "execution_count": 5,
   "metadata": {},
   "outputs": [],
   "source": [
    "# test = feather_dict['abr']"
   ]
  },
  {
   "cell_type": "code",
   "execution_count": 6,
   "metadata": {},
   "outputs": [],
   "source": [
    "# raw_imputed = feather_dict['chars60_raw_imputed']\n",
    "# raw_no_impute = feather_dict['chars60_raw_no_impute']\n",
    "# rank_imputed = feather_dict['chars60_rank_imputed']\n",
    "# rank_no_impute = feather_dict['chars60_raw_no_impute']"
   ]
  },
  {
   "cell_type": "code",
   "execution_count": 7,
   "metadata": {},
   "outputs": [],
   "source": [
    "raw_df = pd.read_feather(os.path.join(data_path, 'chars60_raw_imputed.feather'))"
   ]
  },
  {
   "cell_type": "code",
   "execution_count": 8,
   "metadata": {},
   "outputs": [
    {
     "data": {
      "text/plain": [
       "Index(['gvkey', 'permno', 'sic', 'ret', 'exchcd', 'shrcd', 'adm', 'bm_ia',\n",
       "       'herf', 'hire', 'me_ia', 'baspread', 'beta', 'ill', 'maxret', 'mom12m',\n",
       "       'mom1m', 'mom36m', 'mom60m', 'mom6m', 're', 'rvar_capm', 'rvar_ff3',\n",
       "       'rvar_mean', 'seas1a', 'std_dolvol', 'std_turn', 'zerotrade', 'me',\n",
       "       'dy', 'turn', 'dolvol', 'abr', 'sue', 'cinvest', 'nincr', 'pscore',\n",
       "       'acc', 'bm', 'agr', 'alm', 'ato', 'cash', 'cashdebt', 'cfp', 'chcsho',\n",
       "       'chpm', 'chtx', 'depr', 'ep', 'gma', 'grltnoa', 'lev', 'lgr', 'ni',\n",
       "       'noa', 'op', 'pctacc', 'pm', 'rd_sale', 'rdm', 'rna', 'roa', 'roe',\n",
       "       'rsup', 'sgr', 'sp', 'date', 'ffi49'],\n",
       "      dtype='object')"
      ]
     },
     "execution_count": 8,
     "metadata": {},
     "output_type": "execute_result"
    }
   ],
   "source": [
    "raw_df.columns"
   ]
  },
  {
   "cell_type": "markdown",
   "metadata": {},
   "source": [
    "## check missing values"
   ]
  },
  {
   "cell_type": "code",
   "execution_count": 9,
   "metadata": {},
   "outputs": [
    {
     "data": {
      "text/plain": [
       "['adm',\n",
       " 'bm_ia',\n",
       " 'mom12m',\n",
       " 'mom36m',\n",
       " 'mom60m',\n",
       " 'mom6m',\n",
       " 'seas1a',\n",
       " 'abr',\n",
       " 'sue',\n",
       " 'cinvest',\n",
       " 'nincr',\n",
       " 'pscore',\n",
       " 'acc',\n",
       " 'bm',\n",
       " 'agr',\n",
       " 'alm',\n",
       " 'ato',\n",
       " 'cashdebt',\n",
       " 'chcsho',\n",
       " 'chpm',\n",
       " 'chtx',\n",
       " 'gma',\n",
       " 'grltnoa',\n",
       " 'lgr',\n",
       " 'ni',\n",
       " 'noa',\n",
       " 'op',\n",
       " 'pctacc',\n",
       " 'rna',\n",
       " 'roa',\n",
       " 'roe',\n",
       " 'rsup',\n",
       " 'sgr']"
      ]
     },
     "execution_count": 9,
     "metadata": {},
     "output_type": "execute_result"
    }
   ],
   "source": [
    "raw_tf = raw_df.isnull().any()\n",
    "raw_tf.where(raw_tf == True).dropna().index.to_list()\n"
   ]
  },
  {
   "cell_type": "markdown",
   "metadata": {},
   "source": [
    "## let's look at the data after 1972"
   ]
  },
  {
   "cell_type": "code",
   "execution_count": 10,
   "metadata": {},
   "outputs": [],
   "source": [
    "raw_df['year'] = raw_df['date'].dt.year\n",
    "raw_df = raw_df[raw_df['year'] >= 1972]\n",
    "raw_df = raw_df.drop(['year'], axis=1)"
   ]
  },
  {
   "cell_type": "code",
   "execution_count": 11,
   "metadata": {},
   "outputs": [
    {
     "data": {
      "text/plain": [
       "[]"
      ]
     },
     "execution_count": 11,
     "metadata": {},
     "output_type": "execute_result"
    }
   ],
   "source": [
    "raw_tf = raw_df.isnull().any()\n",
    "raw_tf.where(raw_tf == True).dropna().index.to_list()"
   ]
  },
  {
   "cell_type": "markdown",
   "metadata": {},
   "source": [
    "## no missing value!"
   ]
  },
  {
   "cell_type": "markdown",
   "metadata": {},
   "source": [
    "## read the macro data files"
   ]
  },
  {
   "cell_type": "code",
   "execution_count": 12,
   "metadata": {},
   "outputs": [],
   "source": [
    "macro_df = pd.read_csv(os.path.join(data_path, 'Macro.csv'))\n",
    "macro_df = macro_df[macro_df['yyyymm']>=197201]"
   ]
  },
  {
   "cell_type": "code",
   "execution_count": 13,
   "metadata": {},
   "outputs": [],
   "source": [
    "raw_df['yyyymm'] = raw_df['date'].dt.strftime(\"%Y%m\").apply(int)\n",
    "total_df = pd.merge(raw_df, macro_df, how='inner', on='yyyymm')\n",
    "total_df.drop(columns=\"yyyymm\", inplace=True)\n"
   ]
  },
  {
   "cell_type": "code",
   "execution_count": 14,
   "metadata": {},
   "outputs": [
    {
     "data": {
      "text/plain": [
       "[]"
      ]
     },
     "execution_count": 14,
     "metadata": {},
     "output_type": "execute_result"
    }
   ],
   "source": [
    "raw_tf = total_df.isnull().any()\n",
    "raw_tf.where(raw_tf == True).dropna().index.to_list()"
   ]
  },
  {
   "cell_type": "code",
   "execution_count": 15,
   "metadata": {},
   "outputs": [],
   "source": [
    "del(raw_tf)"
   ]
  },
  {
   "cell_type": "code",
   "execution_count": 16,
   "metadata": {},
   "outputs": [
    {
     "data": {
      "text/plain": [
       "1552"
      ]
     },
     "execution_count": 16,
     "metadata": {},
     "output_type": "execute_result"
    }
   ],
   "source": [
    "len(total_df.gvkey.unique())"
   ]
  },
  {
   "cell_type": "code",
   "execution_count": 17,
   "metadata": {},
   "outputs": [
    {
     "data": {
      "text/plain": [
       "1571"
      ]
     },
     "execution_count": 17,
     "metadata": {},
     "output_type": "execute_result"
    }
   ],
   "source": [
    "total_df.permno.nunique()"
   ]
  },
  {
   "cell_type": "code",
   "execution_count": 18,
   "metadata": {},
   "outputs": [],
   "source": [
    "# make a list of unique permno\n",
    "permno_list = total_df['permno'].unique().tolist()"
   ]
  },
  {
   "cell_type": "code",
   "execution_count": 19,
   "metadata": {},
   "outputs": [
    {
     "data": {
      "text/plain": [
       "77"
      ]
     },
     "execution_count": 19,
     "metadata": {},
     "output_type": "execute_result"
    }
   ],
   "source": [
    "len(total_df.columns)"
   ]
  },
  {
   "cell_type": "code",
   "execution_count": 20,
   "metadata": {},
   "outputs": [
    {
     "data": {
      "text/plain": [
       "3"
      ]
     },
     "execution_count": 20,
     "metadata": {},
     "output_type": "execute_result"
    }
   ],
   "source": [
    "total_df['exchcd'].nunique()"
   ]
  },
  {
   "cell_type": "code",
   "execution_count": 21,
   "metadata": {},
   "outputs": [
    {
     "data": {
      "text/plain": [
       "2"
      ]
     },
     "execution_count": 21,
     "metadata": {},
     "output_type": "execute_result"
    }
   ],
   "source": [
    "total_df['shrcd'].nunique()"
   ]
  },
  {
   "cell_type": "code",
   "execution_count": 22,
   "metadata": {},
   "outputs": [
    {
     "data": {
      "text/plain": [
       "array([0.  , 2.  , 1.  , 3.  , 4.  , 0.5 , 5.  , 6.  , 7.  , 8.  , 1.5 ,\n",
       "       2.5 , 3.5 , 0.75, 0.25])"
      ]
     },
     "execution_count": 22,
     "metadata": {},
     "output_type": "execute_result"
    }
   ],
   "source": [
    "total_df['nincr'].unique()"
   ]
  },
  {
   "cell_type": "code",
   "execution_count": 23,
   "metadata": {},
   "outputs": [
    {
     "data": {
      "text/plain": [
       "array([0.  , 2.  , 1.  , 3.  , 4.  , 5.  , 2.5 , 0.5 , 1.5 , 6.  , 3.5 ,\n",
       "       5.5 , 4.5 , 4.25, 7.  , 8.  , 9.  ])"
      ]
     },
     "execution_count": 23,
     "metadata": {},
     "output_type": "execute_result"
    }
   ],
   "source": [
    "total_df['pscore'].unique()"
   ]
  },
  {
   "cell_type": "code",
   "execution_count": 24,
   "metadata": {},
   "outputs": [
    {
     "data": {
      "text/plain": [
       "48"
      ]
     },
     "execution_count": 24,
     "metadata": {},
     "output_type": "execute_result"
    }
   ],
   "source": [
    "total_df['ffi49'].nunique()"
   ]
  },
  {
   "cell_type": "markdown",
   "metadata": {},
   "source": [
    "## Information Variables:\n",
    "\n",
    "   * stock indicator: gvkey, permno\n",
    "   * time: datadate, date, year ('datadate' is the available time for data and 'date' is the date of return)\n",
    "   * industry: sic, ffi49\n",
    "   * exchange info: exchcd, shrcd\n",
    "   * return: ret: the dividend adjusted return  (we also provide original return and return without dividend, you can keep them by modifing impute_rank_output_bchmk.py) \n",
    "   * market equity: me/rank_me\n"
   ]
  },
  {
   "cell_type": "code",
   "execution_count": 25,
   "metadata": {},
   "outputs": [],
   "source": [
    "# need to turn some variables to dummy variables\n",
    "def get_dummy_col(target_df, col_names):\n",
    "    \"\"\"turn the cols into multiple cols containing dummy variables, then drop the original columns\n",
    "\n",
    "    Args:\n",
    "        target_df (pandas dataframe): target dataframe\n",
    "        col_names (list): list of columns that need to be turned into dummy variables\n",
    "    \"\"\"\n",
    "    for col in col_names:        \n",
    "        tmp_dummies = pd.get_dummies(target_df[col]).rename(columns=lambda x: f'{col}_' + str(x))\n",
    "        target_df = pd.concat([target_df, tmp_dummies], axis=1)\n",
    "        target_df.drop(col, inplace=True, axis = 1)\n",
    "    return target_df \n",
    "dummy_col_list = ['ffi49']\n",
    "total_df = get_dummy_col(total_df, dummy_col_list)"
   ]
  },
  {
   "cell_type": "code",
   "execution_count": 26,
   "metadata": {},
   "outputs": [],
   "source": [
    "# set date as the index\n",
    "total_df.set_index('date', inplace=True)"
   ]
  },
  {
   "cell_type": "code",
   "execution_count": 27,
   "metadata": {},
   "outputs": [],
   "source": [
    "features_list = total_df.columns.to_list()\n",
    "list_to_remove = ['gvkey', 'permno', 'ret', 'sic', 'exchcd', 'shrcd']\n",
    "for element in list_to_remove:\n",
    "    if element in features_list:\n",
    "        features_list.remove(element)\n",
    "        \n"
   ]
  },
  {
   "cell_type": "code",
   "execution_count": 28,
   "metadata": {},
   "outputs": [],
   "source": [
    "original_features_list = features_list.copy()"
   ]
  },
  {
   "cell_type": "code",
   "execution_count": 29,
   "metadata": {},
   "outputs": [],
   "source": [
    "total_df = total_df.sort_index()"
   ]
  },
  {
   "cell_type": "markdown",
   "metadata": {},
   "source": [
    "# create interaction features(other feature * macro feature)"
   ]
  },
  {
   "cell_type": "code",
   "execution_count": 30,
   "metadata": {},
   "outputs": [],
   "source": [
    "table_for_interaction = total_df[features_list[:69]]\n",
    "single_features = features_list[:61]\n",
    "macro_features = features_list[61:69]\n",
    "\n",
    "interaction_table = pd.DataFrame(data = None, index = table_for_interaction.index)\n",
    "\n",
    "from IPython.utils import io\n",
    "with io.capture_output() as captured: # to ignore warnings\n",
    "    for i in single_features:\n",
    "        for j in macro_features:\n",
    "            interaction_table[i + '+' + j] = table_for_interaction[i] * table_for_interaction[j]"
   ]
  },
  {
   "cell_type": "markdown",
   "metadata": {},
   "source": [
    "# check the number of permnos for each month"
   ]
  },
  {
   "cell_type": "code",
   "execution_count": 31,
   "metadata": {},
   "outputs": [
    {
     "data": {
      "text/plain": [
       "<AxesSubplot:xlabel='date'>"
      ]
     },
     "execution_count": 31,
     "metadata": {},
     "output_type": "execute_result"
    },
    {
     "data": {
      "image/png": "[encoded data removed]",
      "text/plain": [
       "<Figure size 432x288 with 1 Axes>"
      ]
     },
     "metadata": {},
     "output_type": "display_data"
    }
   ],
   "source": [
    "each_month_permno_num = pd.DataFrame(Counter(total_df.reset_index().date).items(), columns=['date', 'number_of_permno'])\n",
    "each_month_permno_num.plot(x='date', y='number_of_permno')"
   ]
  },
  {
   "cell_type": "markdown",
   "metadata": {},
   "source": [
    "## total:1972-2020 49 years\n",
    "## training_length: 32 years // 20 // 14\n",
    "## valid_length: 7 years // 10 // 6\n",
    "## testing_length: 7 years // 16 // 26"
   ]
  },
  {
   "cell_type": "code",
   "execution_count": 32,
   "metadata": {},
   "outputs": [],
   "source": [
    "new_total_df = pd.concat([total_df, interaction_table], axis=1)"
   ]
  },
  {
   "cell_type": "code",
   "execution_count": 33,
   "metadata": {},
   "outputs": [],
   "source": [
    "new_features_list = new_total_df.columns\n",
    "remove_list = {'gvkey', 'permno', 'ret','sic','exchcd','shrcd','b/m', 'tbl', 'ntis', 'svar', 'd/p', 'e/p', 'dfy', 'tms'}\n",
    "new_features_list = [ele for ele in new_features_list if ele not in remove_list]"
   ]
  },
  {
   "cell_type": "code",
   "execution_count": 34,
   "metadata": {},
   "outputs": [],
   "source": [
    "X_total = new_total_df[new_features_list]\n",
    "y_total = new_total_df['ret']\n",
    "permno_total = new_total_df['permno']"
   ]
  },
  {
   "cell_type": "code",
   "execution_count": 35,
   "metadata": {},
   "outputs": [],
   "source": [
    "def train_val_test_preprocess(X_total, y_total, permno_total, training_len, val_len, testing_len):\n",
    "    \"\"\"split our data into training set, validation set, and testing set\n",
    "\n",
    "    Args:\n",
    "        X_total (dataframe)\n",
    "        y_total (dataframe)\n",
    "        training_len (int): length of years of training set\n",
    "        val_len (int)\n",
    "        testing_len (int)\n",
    "    return: dicts:X_train, y_train, X_val, y_val, X_test, y_test\n",
    "            and a permno series for testing set, which would be part of the result\n",
    "    \"\"\"\n",
    "    X_train_dict = {}\n",
    "    y_train_dict = {}\n",
    "    X_val_dict = {}\n",
    "    y_val_dict = {}\n",
    "    X_test_dict = {}\n",
    "    y_test_dict = {}\n",
    "    permno_test_dict = {}\n",
    "    first_train_end_year = y_total.index.year[0] + training_len - 1\n",
    "    total_len = y_total.index.year[-1] - y_total.index.year[0] + 1\n",
    "    last_train_end_year = first_train_end_year + total_len -(training_len+val_len+testing_len)\n",
    "    train_end_years = np.arange(first_train_end_year, last_train_end_year+1)\n",
    "    print('each end year of training set is:', train_end_years)\n",
    "    for y in tqdm(train_end_years, desc='spliting data', ascii='>>'):\n",
    "        train_start_year = y - training_len + 1\n",
    "        train_end_year = y\n",
    "        val_start_year = y + 1\n",
    "        val_end_year = val_start_year+val_len-1\n",
    "        test_start_year= val_end_year+val_len\n",
    "        test_end_year = test_start_year+testing_len-1\n",
    "\n",
    "        tmp_X_train = X_total[(X_total.index.year>=train_start_year) & (X_total.index.year<=train_end_year)]\n",
    "        tmp_y_train = y_total[(y_total.index.year>=train_start_year) & (y_total.index.year<=train_end_year)]\n",
    "        tmp_X_val = X_total[(X_total.index.year>=val_start_year) & (X_total.index.year<=val_end_year)]\n",
    "        tmp_y_val = y_total[(y_total.index.year>=val_start_year) & (y_total.index.year<=val_end_year)]\n",
    "        tmp_X_test = X_total[(X_total.index.year>=test_start_year) & (X_total.index.year<=test_end_year)]\n",
    "        tmp_y_test = y_total[(y_total.index.year>=test_start_year) & (y_total.index.year<=test_end_year)]\n",
    "        tmp_permno_test = permno_total[(permno_total.index.year>=test_start_year) & (permno_total.index.year<=test_end_year)]\n",
    "\n",
    "        X_train_dict[y] = tmp_X_train\n",
    "        y_train_dict[y] = tmp_y_train\n",
    "        X_val_dict[y] = tmp_X_val\n",
    "        y_val_dict[y] = tmp_y_val\n",
    "        X_test_dict[y] = tmp_X_test\n",
    "        y_test_dict[y] = tmp_y_test\n",
    "        permno_test_dict[y] = tmp_permno_test\n",
    "    return train_end_years, X_train_dict, y_train_dict, X_val_dict, y_val_dict, X_test_dict, y_test_dict, permno_test_dict\n",
    "        "
   ]
  },
  {
   "cell_type": "code",
   "execution_count": 36,
   "metadata": {},
   "outputs": [
    {
     "name": "stdout",
     "output_type": "stream",
     "text": [
      "each end year of training set is: [1985 1986 1987 1988]\n"
     ]
    },
    {
     "name": "stderr",
     "output_type": "stream",
     "text": [
      "spliting data: 100%|>>>>>>>>>>| 4/4 [00:02<00:00,  1.35it/s]\n"
     ]
    }
   ],
   "source": [
    "train_end_years, X_train_dict, y_train_dict, X_val_dict, y_val_dict, X_test_dict, y_test_dict, permno_test_dict = train_val_test_preprocess(X_total, y_total, permno_total, 14, 6, 26)\n"
   ]
  },
  {
   "cell_type": "code",
   "execution_count": 37,
   "metadata": {},
   "outputs": [],
   "source": [
    "# to save memory\n",
    "del(X_total)\n",
    "del(y_total)\n",
    "del(total_df)\n",
    "del(features_list)\n",
    "del(new_features_list)\n",
    "# keep original_features_list\n",
    "del(macro_df)\n",
    "del(raw_df)\n",
    "del(element)\n",
    "del(new_total_df)\n"
   ]
  },
  {
   "cell_type": "code",
   "execution_count": 38,
   "metadata": {},
   "outputs": [],
   "source": [
    "class GBRT_Reg:\n",
    "    def __init__(self, train_end_year, X_train, y_train, X_val, y_val, X_test, y_test, permno_test):\n",
    "        self._train_end_year = train_end_year\n",
    "        self._X_train = X_train\n",
    "        self._y_train = y_train\n",
    "        self._X_val = X_val\n",
    "        self._y_val = y_val\n",
    "        self._X_test = X_test\n",
    "        self._y_test = y_test\n",
    "        self._permno_test = permno_test\n",
    "        \n",
    "        self.result_cols = ['year', 'permno', 'y_pred', 'y_real', 'params', 'pred_R2_OOS',\n",
    "                         'CV_R2', 'CV_MSE']\n",
    "        \n",
    "        \n",
    "    def get_res(self, original_features_list):\n",
    "        \"\"\"\n",
    "        original_features_list: all the necessary single features(including macro features) plus dummy columns\n",
    "        return a list of results, and a dataframe containing the r2 reduction of each feature.\n",
    "        \"\"\"\n",
    "        res = []\n",
    "        features = original_features_list\n",
    "\n",
    "        dummy_columns = [x for x in features if x.startswith('ffi49') or x.startswith('shrcd') or x.startswith('exchcd')]\n",
    "        dummy_col_name_list = ['ffi49']\n",
    "        normal_features = [x for x in features if x not in dummy_columns]\n",
    "        total_feature_name = normal_features + dummy_col_name_list #we already have features/original_features_list, it's the same thing......\n",
    "        r2_oos_reduction_df = pd.DataFrame(columns=['R2OOS', 'R2OOS_Reduction', 'R2OOS_Normalized'], index=total_feature_name)\n",
    "        \n",
    "        reg = gbrt(self._X_train, self._y_train, self._X_val, self._y_val, gridsearch=False)\n",
    "        _y_pred = reg.predict(self._X_test)\n",
    "        pred_r2_score = r2_oos(self._y_test, _y_pred)\n",
    "                # year, permno, y_pred, y_real, best_parmans, prediction score (R^2 OOS),\n",
    "        #      CV result(R2_OOS)(Mean cross-validated score of the best_estimator), CV result(MSE)\n",
    "        res.append([self._train_end_year, self._permno_test, _y_pred, self._y_test, reg.best_params_, pred_r2_score, reg.best_score_, reg.cv_results_['mean_test_mse']])\n",
    "\n",
    "        for feature in total_feature_name:\n",
    "            if feature in normal_features:\n",
    "                new_X_test = self._X_test.copy(deep=True)\n",
    "                for cols in new_X_test.columns:\n",
    "                    if feature in cols:\n",
    "                        new_X_test[cols] = 0\n",
    "                new_pred = reg.predict(new_X_test)\n",
    "                new_r2_score = r2_oos(y_test, new_pred)\n",
    "                r2_oos_reduction_df.loc[feature, \"R2OOS\"] = new_r2_score\n",
    "            else:\n",
    "                tmp_dummy_cols = [x for x in dummy_columns if x.startswith(feature)]\n",
    "                new_X_test = self._X_test.copy(deep=True)\n",
    "                new_X_test[tmp_dummy_cols] = 0\n",
    "                new_pred = reg.predict(new_X_test)\n",
    "                new_r2_score = r2_oos(y_test, new_pred)\n",
    "                r2_oos_reduction_df.loc[feature, \"R2OOS\"] = new_r2_score\n",
    "                \n",
    "\n",
    "        r2_oos_reduction_df['R2OOS_Reduction'] = (pred_r2_score - r2_oos_reduction_df[\"R2OOS\"]).abs()\n",
    "        r2_oos_reduction_df['R2OOS_Normalized'] = r2_oos_reduction_df['R2OOS_Reduction'] / r2_oos_reduction_df['R2OOS_Reduction'].sum()\n",
    "        # r2_oos_reduction_df = r2_oos_reduction_df.sort_values(by='R2OOS_Normalized')\n",
    "\n",
    "        return res, r2_oos_reduction_df"
   ]
  },
  {
   "cell_type": "code",
   "execution_count": 39,
   "metadata": {},
   "outputs": [
    {
     "data": {
      "text/plain": [
       "['ffi49']"
      ]
     },
     "execution_count": 39,
     "metadata": {},
     "output_type": "execute_result"
    }
   ],
   "source": [
    "dummy_col_list"
   ]
  },
  {
   "cell_type": "code",
   "execution_count": 40,
   "metadata": {},
   "outputs": [],
   "source": [
    "# not used\n",
    "def general_report(y_real, y_pred):\n",
    "    print(\"the Accuracy is:\", accuracy_score(y_real, y_pred))\n",
    "    print('the F1 score is:', f1_score(y_true, y_pred))\n",
    "    print(classification_report(y_true, y_pred))"
   ]
  },
  {
   "cell_type": "markdown",
   "metadata": {},
   "source": [
    "use R2 reduction rather than ssd to measure the feature importance"
   ]
  },
  {
   "cell_type": "code",
   "execution_count": 41,
   "metadata": {},
   "outputs": [],
   "source": [
    "# R_square_oos\n",
    "def r2_oos(ret, pred):\n",
    "    sum_of_sq_res = np.nansum(np.power((ret-pred), 2))\n",
    "    sum_of_sq_total = np.nansum(np.power(ret, 2))\n",
    "    \n",
    "    return 1-sum_of_sq_res/sum_of_sq_total\n",
    "\n"
   ]
  },
  {
   "cell_type": "code",
   "execution_count": 42,
   "metadata": {},
   "outputs": [],
   "source": [
    "r2oos_score = make_scorer(r2_oos, greater_is_better=True)  \n",
    "# pred_score = r2oos_score(reg, self.x_test, self.y_test)\n",
    "# can be used in gridsearchcv by 'scoring=r2oos_score'\n",
    "\n",
    "#reference:https://scikit-learn.org/stable/modules/generated/sklearn.model_selection.GridSearchCV.html\n",
    "#https://scikit-learn.org/stable/modules/generated/sklearn.model_selection.RandomizedSearchCV.html"
   ]
  },
  {
   "cell_type": "markdown",
   "metadata": {},
   "source": [
    "\n",
    "reference:https://stackoverflow.com/questions/48390601/explicitly-specifying-test-train-sets-in-gridsearchcv\n",
    "\n",
    "since we prespicified the training and validation set, we need to modify the cv parameter in gridsearchcv"
   ]
  },
  {
   "cell_type": "code",
   "execution_count": 43,
   "metadata": {},
   "outputs": [],
   "source": [
    "# GBRT+H\n",
    "#use pipeline to + a scaler（standardize）, then use gridsearchcv/randomsearchcv\n",
    "def gbrt(X_train, y_train, X_valid, y_valid, gridsearch = True):\n",
    "    # pipe = Pipeline([\n",
    "    #     ('scaler', StandardScaler()),\n",
    "    #     ('clf', GradientBoostingRegressor(loss='huber', random_state=777))\n",
    "    # ])\n",
    "    gbrt_clf = GradientBoostingRegressor(loss='huber', random_state=777)\n",
    "\n",
    "    # param_grid = dict(learning_rate=[0.05, 0.1, 3],\n",
    "    #                 n_estimators=[100, 150, 200], \n",
    "    #                 max_depth=[3, 10, 20])\n",
    "    param_grid = dict(learning_rate=uniform(loc=0.01, scale=0.2),\n",
    "                    n_estimators=randint(60, 160),\n",
    "                    max_depth=randint(4,10))\n",
    "    \n",
    "    # use two scorer:r2oos and mse \n",
    "    # scoring_dict = ['r2oos_score', 'neg_mean_squared_error']\n",
    "    scoring_dict = {'r2_oos':r2oos_score, 'mse':'neg_mean_squared_error'}\n",
    "\n",
    "    # The indices which have zero or positive values, will be kept in val\n",
    "    len_X_train = len(X_train)\n",
    "    len_X_val = len(X_valid)\n",
    "    val_fold = np.repeat([-1, 0], [len_X_train, len_X_val])\n",
    "    ps = PredefinedSplit(val_fold)\n",
    "\n",
    "    X_train_n_val = pd.concat([X_train, X_valid])\n",
    "    y_train_n_val = pd.concat([y_train, y_valid])\n",
    "    # notice the cv=ps\n",
    "    if gridsearch:\n",
    "        grid = GridSearchCV(gbrt_clf, param_grid, cv=ps, n_jobs=8, verbose=2, scoring= scoring_dict, refit='r2_oos')\n",
    "    else:\n",
    "        grid = RandomizedSearchCV(gbrt_clf, param_grid, cv=ps, n_jobs=8, n_iter=15, verbose=2, scoring= scoring_dict, refit ='r2_oos') #could try n_iter=60 for better result\n",
    "\n",
    "    grid.fit(X_train_n_val, y_train_n_val)\n",
    "\n",
    "    #get the best score with grid.best_score_\n",
    "    #get the best parameters with grid.best_params_\n",
    "    #get the best model with grid.best_estimator_\n",
    "    return grid"
   ]
  },
  {
   "cell_type": "code",
   "execution_count": 44,
   "metadata": {},
   "outputs": [
    {
     "name": "stderr",
     "output_type": "stream",
     "text": [
      "  0%|>>>>>>>>>>| 0/4 [00:00<?, ?it/s]"
     ]
    },
    {
     "name": "stdout",
     "output_type": "stream",
     "text": [
      "Fitting 1 folds for each of 15 candidates, totalling 15 fits\n",
      "[CV] END learning_rate=0.16155368072587525, max_depth=6, n_estimators=75; total time=99.5min\n",
      "[CV] END learning_rate=0.04546858184328732, max_depth=6, n_estimators=98; total time=129.1min\n",
      "[CV] END learning_rate=0.03971025210984797, max_depth=6, n_estimators=121; total time=161.0min\n",
      "[CV] END learning_rate=0.17970633975291203, max_depth=6, n_estimators=123; total time=165.7min\n",
      "[CV] END learning_rate=0.1251908048401909, max_depth=8, n_estimators=126; total time=222.8min\n",
      "[CV] END learning_rate=0.0914431003892943, max_depth=7, n_estimators=144; total time=224.5min\n",
      "[CV] END learning_rate=0.10368056567597614, max_depth=9, n_estimators=129; total time=252.4min\n",
      "[CV] END learning_rate=0.038798533309929856, max_depth=4, n_estimators=117; total time=107.6min\n",
      "[CV] END learning_rate=0.1324930653753355, max_depth=5, n_estimators=153; total time=175.6min\n",
      "[CV] END learning_rate=0.1929625780121519, max_depth=9, n_estimators=141; total time=279.2min\n",
      "[CV] END learning_rate=0.20288462818483574, max_depth=8, n_estimators=94; total time=163.7min\n",
      "[CV] END learning_rate=0.027106239807468374, max_depth=4, n_estimators=115; total time=73.8min\n",
      "[CV] END learning_rate=0.19095280362559938, max_depth=9, n_estimators=116; total time=188.7min\n",
      "[CV] END learning_rate=0.11672850700551372, max_depth=5, n_estimators=154; total time=127.9min\n",
      "[CV] END learning_rate=0.19310419540155266, max_depth=9, n_estimators=148; total time=188.4min\n"
     ]
    },
    {
     "name": "stderr",
     "output_type": "stream",
     "text": [
      " 25%|>>>>>>>>>>| 1/4 [8:11:42<24:35:08, 29502.74s/it]"
     ]
    },
    {
     "name": "stdout",
     "output_type": "stream",
     "text": [
      "Fitting 1 folds for each of 15 candidates, totalling 15 fits\n",
      "[CV] END learning_rate=0.04833969598207752, max_depth=4, n_estimators=95; total time=87.9min\n",
      "[CV] END learning_rate=0.08809848059191736, max_depth=5, n_estimators=105; total time=120.4min\n",
      "[CV] END learning_rate=0.10241919930784231, max_depth=9, n_estimators=64; total time=126.3min\n",
      "[CV] END learning_rate=0.022989396604147287, max_depth=5, n_estimators=135; total time=154.9min\n",
      "[CV] END learning_rate=0.15708496979629474, max_depth=9, n_estimators=78; total time=156.7min\n",
      "[CV] END learning_rate=0.07646560412070078, max_depth=7, n_estimators=130; total time=207.8min\n",
      "[CV] END learning_rate=0.07781688241796009, max_depth=7, n_estimators=142; total time=226.3min\n",
      "[CV] END learning_rate=0.0660041724279104, max_depth=8, n_estimators=134; total time=240.7min\n",
      "[CV] END learning_rate=0.08711501585243084, max_depth=7, n_estimators=85; total time=132.8min\n",
      "[CV] END learning_rate=0.09272477971225178, max_depth=4, n_estimators=152; total time=135.2min\n",
      "[CV] END learning_rate=0.12387910137805024, max_depth=8, n_estimators=68; total time=100.2min\n",
      "[CV] END learning_rate=0.16101899799784247, max_depth=8, n_estimators=130; total time=204.0min\n",
      "[CV] END learning_rate=0.05887877594033863, max_depth=9, n_estimators=146; total time=256.4min\n",
      "[CV] END learning_rate=0.20129525194771147, max_depth=7, n_estimators=148; total time=194.0min\n",
      "[CV] END learning_rate=0.023947805127183367, max_depth=9, n_estimators=132; total time=177.3min\n"
     ]
    },
    {
     "name": "stderr",
     "output_type": "stream",
     "text": [
      " 50%|>>>>>>>>>>| 2/4 [16:29:13<16:30:15, 29707.53s/it]"
     ]
    },
    {
     "name": "stdout",
     "output_type": "stream",
     "text": [
      "Fitting 1 folds for each of 15 candidates, totalling 15 fits\n",
      "[CV] END learning_rate=0.016428255706293353, max_depth=5, n_estimators=71; total time=80.0min\n",
      "[CV] END learning_rate=0.1964566365186552, max_depth=6, n_estimators=107; total time=144.7min\n",
      "[CV] END learning_rate=0.07701190384299282, max_depth=8, n_estimators=89; total time=157.4min\n",
      "[CV] END learning_rate=0.20395380957587161, max_depth=6, n_estimators=120; total time=161.9min\n",
      "[CV] END learning_rate=0.19392157082481698, max_depth=5, n_estimators=147; total time=165.8min\n",
      "[CV] END learning_rate=0.06836416363753045, max_depth=6, n_estimators=125; total time=168.4min\n",
      "[CV] END learning_rate=0.19930344355665844, max_depth=9, n_estimators=107; total time=212.8min\n",
      "[CV] END learning_rate=0.01902425003625138, max_depth=6, n_estimators=107; total time=148.3min\n",
      "[CV] END learning_rate=0.207369288301183, max_depth=5, n_estimators=66; total time=73.4min\n",
      "[CV] END learning_rate=0.19871933147772208, max_depth=7, n_estimators=154; total time=241.3min\n",
      "[CV] END learning_rate=0.020136010549001552, max_depth=4, n_estimators=121; total time=85.5min\n",
      "[CV] END learning_rate=0.10618124505178526, max_depth=8, n_estimators=100; total time=155.6min\n",
      "[CV] END learning_rate=0.04567347014715501, max_depth=6, n_estimators=127; total time=147.9min\n",
      "[CV] END learning_rate=0.15169865941140415, max_depth=9, n_estimators=125; total time=189.0min\n",
      "[CV] END learning_rate=0.17147316527827416, max_depth=9, n_estimators=152; total time=212.7min\n"
     ]
    },
    {
     "name": "stderr",
     "output_type": "stream",
     "text": [
      " 75%|>>>>>>>>>>| 3/4 [24:14:10<8:01:20, 28880.57s/it] "
     ]
    },
    {
     "name": "stdout",
     "output_type": "stream",
     "text": [
      "Fitting 1 folds for each of 15 candidates, totalling 15 fits\n",
      "[CV] END learning_rate=0.13733661359203253, max_depth=6, n_estimators=84; total time=111.2min\n",
      "[CV] END learning_rate=0.11187055116315546, max_depth=4, n_estimators=128; total time=114.4min\n",
      "[CV] END learning_rate=0.05023755562677931, max_depth=5, n_estimators=113; total time=126.1min\n",
      "[CV] END learning_rate=0.16181451066070357, max_depth=9, n_estimators=65; total time=126.8min\n",
      "[CV] END learning_rate=0.1254512073348956, max_depth=5, n_estimators=115; total time=127.6min\n",
      "[CV] END learning_rate=0.10832678970636146, max_depth=8, n_estimators=81; total time=140.9min\n",
      "[CV] END learning_rate=0.1634597474967773, max_depth=9, n_estimators=73; total time=142.8min\n",
      "[CV] END learning_rate=0.18395877066693558, max_depth=5, n_estimators=145; total time=161.8min\n",
      "[CV] END learning_rate=0.09706383457333184, max_depth=5, n_estimators=93; total time=97.8min\n",
      "[CV] END learning_rate=0.0696203343827989, max_depth=7, n_estimators=82; total time=117.9min\n",
      "[CV] END learning_rate=0.07295254722150207, max_depth=6, n_estimators=131; total time=152.0min\n",
      "[CV] END learning_rate=0.12032415436402892, max_depth=9, n_estimators=98; total time=152.4min\n",
      "[CV] END learning_rate=0.20297049900319147, max_depth=6, n_estimators=147; total time=167.2min\n",
      "[CV] END learning_rate=0.053565064543318636, max_depth=6, n_estimators=145; total time=155.4min\n",
      "[CV] END learning_rate=0.11737837613918661, max_depth=9, n_estimators=131; total time=190.2min\n"
     ]
    },
    {
     "name": "stderr",
     "output_type": "stream",
     "text": [
      "100%|>>>>>>>>>>| 4/4 [30:50:11<00:00, 27752.80s/it]  \n"
     ]
    }
   ],
   "source": [
    "# starts training \n",
    "if __name__ == '__main__':\n",
    "    result = []\n",
    "    r2_oos_df = pd.DataFrame()\n",
    "    for year in tqdm(train_end_years, ascii='>>'):\n",
    "        X_train = X_train_dict[year]\n",
    "        y_train = y_train_dict[year]\n",
    "        X_val = X_val_dict[year]\n",
    "        y_val = y_val_dict[year]\n",
    "        X_test = X_test_dict[year]\n",
    "        y_test = y_test_dict[year]\n",
    "        permno_test = permno_test_dict[year]\n",
    "        # do the standardization here\n",
    "        tmp_scaler = StandardScaler()\n",
    "        X_train = pd.DataFrame(tmp_scaler.fit_transform(X_train), index=X_train.index, columns=X_train.columns)\n",
    "        X_val = pd.DataFrame(tmp_scaler.transform(X_val), index=X_val.index, columns=X_val.columns)\n",
    "        X_test = pd.DataFrame(tmp_scaler.transform(X_test), index=X_test.index, columns=X_test.columns)\n",
    "        \n",
    "        tmp_mod = GBRT_Reg(year, X_train, y_train, X_val, y_val, X_test, y_test, permno_test)\n",
    "        tmp_result, tmp_r2oos_reduction_df = tmp_mod.get_res(original_features_list)\n",
    "        result.append(tmp_result)\n",
    "        r2_oos_df = pd.concat([r2_oos_df, tmp_r2oos_reduction_df])\n",
    "    res_cols = tmp_mod.result_cols"
   ]
  },
  {
   "cell_type": "code",
   "execution_count": 45,
   "metadata": {},
   "outputs": [],
   "source": [
    "\n",
    "result_df = pd.DataFrame()\n",
    "for i in range(len(result)):\n",
    "    result_df = pd.concat([result_df, pd.DataFrame(result[i][0]).T])\n",
    "    result_df.reset_index(inplace=True, drop=True)"
   ]
  },
  {
   "cell_type": "code",
   "execution_count": 46,
   "metadata": {},
   "outputs": [],
   "source": [
    "result_df.columns = res_cols"
   ]
  },
  {
   "cell_type": "code",
   "execution_count": 47,
   "metadata": {},
   "outputs": [],
   "source": [
    "if not os.path.exists('result_data'):\n",
    "    os.makedirs('result_data')"
   ]
  },
  {
   "cell_type": "code",
   "execution_count": 48,
   "metadata": {},
   "outputs": [],
   "source": [
    "result_df.to_pickle('result_data/gbrt_testing26_interaction_result.pkl')\n",
    "# result_df.to_feather('result_data/gbrt_result.feather')\n",
    "\n",
    "r2_oos_df.to_pickle('result_data/gbrt_testing26_interaction_r2oos_reduction.pkl')\n",
    "# r2_oos_df.to_feather('result_data/gbrt_r2oos_reduction.feather')\n",
    "r2_oos_df.to_csv('result_data/gbrt_testing26_interaction_r2oos_reduction.csv')"
   ]
  },
  {
   "cell_type": "code",
   "execution_count": 49,
   "metadata": {},
   "outputs": [],
   "source": [
    "# check_pickle = pd.read_pickle('result_data/gbrt_result.pkl')"
   ]
  },
  {
   "cell_type": "markdown",
   "metadata": {},
   "source": [
    "## plot the feature importance of the model"
   ]
  },
  {
   "cell_type": "code",
   "execution_count": 50,
   "metadata": {},
   "outputs": [
    {
     "data": {
      "image/png": "[encoded data removed]",
      "text/plain": [
       "<Figure size 720x1440 with 1 Axes>"
      ]
     },
     "metadata": {},
     "output_type": "display_data"
    }
   ],
   "source": [
    "r2_reduction_mean = r2_oos_df.groupby(level=0)['R2OOS_Normalized'].mean()\n",
    "plt.figure(figsize=(10, 20))\n",
    "plt.barh(r2_reduction_mean.index, r2_reduction_mean)\n",
    "plt.show()"
   ]
  },
  {
   "cell_type": "code",
   "execution_count": 51,
   "metadata": {},
   "outputs": [
    {
     "data": {
      "text/html": [
       "<div>\n",
       "<style scoped>\n",
       "    .dataframe tbody tr th:only-of-type {\n",
       "        vertical-align: middle;\n",
       "    }\n",
       "\n",
       "    .dataframe tbody tr th {\n",
       "        vertical-align: top;\n",
       "    }\n",
       "\n",
       "    .dataframe thead th {\n",
       "        text-align: right;\n",
       "    }\n",
       "</style>\n",
       "<table border=\"1\" class=\"dataframe\">\n",
       "  <thead>\n",
       "    <tr style=\"text-align: right;\">\n",
       "      <th></th>\n",
       "      <th>R2OOS</th>\n",
       "      <th>R2OOS_Reduction</th>\n",
       "      <th>R2OOS_Normalized</th>\n",
       "    </tr>\n",
       "  </thead>\n",
       "  <tbody>\n",
       "    <tr>\n",
       "      <th>adm</th>\n",
       "      <td>0.033981</td>\n",
       "      <td>0.000011</td>\n",
       "      <td>0.000104</td>\n",
       "    </tr>\n",
       "    <tr>\n",
       "      <th>bm_ia</th>\n",
       "      <td>0.027562</td>\n",
       "      <td>0.006409</td>\n",
       "      <td>0.061559</td>\n",
       "    </tr>\n",
       "    <tr>\n",
       "      <th>herf</th>\n",
       "      <td>0.031757</td>\n",
       "      <td>0.002214</td>\n",
       "      <td>0.021263</td>\n",
       "    </tr>\n",
       "    <tr>\n",
       "      <th>hire</th>\n",
       "      <td>0.033976</td>\n",
       "      <td>0.000005</td>\n",
       "      <td>0.00005</td>\n",
       "    </tr>\n",
       "    <tr>\n",
       "      <th>me_ia</th>\n",
       "      <td>0.03224</td>\n",
       "      <td>0.001731</td>\n",
       "      <td>0.016627</td>\n",
       "    </tr>\n",
       "    <tr>\n",
       "      <th>...</th>\n",
       "      <td>...</td>\n",
       "      <td>...</td>\n",
       "      <td>...</td>\n",
       "    </tr>\n",
       "    <tr>\n",
       "      <th>d/p</th>\n",
       "      <td>-0.00551</td>\n",
       "      <td>0.027098</td>\n",
       "      <td>0.050729</td>\n",
       "    </tr>\n",
       "    <tr>\n",
       "      <th>e/p</th>\n",
       "      <td>-0.019821</td>\n",
       "      <td>0.012786</td>\n",
       "      <td>0.023937</td>\n",
       "    </tr>\n",
       "    <tr>\n",
       "      <th>dfy</th>\n",
       "      <td>-0.023048</td>\n",
       "      <td>0.00956</td>\n",
       "      <td>0.017896</td>\n",
       "    </tr>\n",
       "    <tr>\n",
       "      <th>tms</th>\n",
       "      <td>-0.027385</td>\n",
       "      <td>0.005223</td>\n",
       "      <td>0.009778</td>\n",
       "    </tr>\n",
       "    <tr>\n",
       "      <th>ffi49</th>\n",
       "      <td>-0.032328</td>\n",
       "      <td>0.000279</td>\n",
       "      <td>0.000523</td>\n",
       "    </tr>\n",
       "  </tbody>\n",
       "</table>\n",
       "<p>280 rows × 3 columns</p>\n",
       "</div>"
      ],
      "text/plain": [
       "          R2OOS R2OOS_Reduction R2OOS_Normalized\n",
       "adm    0.033981        0.000011         0.000104\n",
       "bm_ia  0.027562        0.006409         0.061559\n",
       "herf   0.031757        0.002214         0.021263\n",
       "hire   0.033976        0.000005          0.00005\n",
       "me_ia   0.03224        0.001731         0.016627\n",
       "...         ...             ...              ...\n",
       "d/p    -0.00551        0.027098         0.050729\n",
       "e/p   -0.019821        0.012786         0.023937\n",
       "dfy   -0.023048         0.00956         0.017896\n",
       "tms   -0.027385        0.005223         0.009778\n",
       "ffi49 -0.032328        0.000279         0.000523\n",
       "\n",
       "[280 rows x 3 columns]"
      ]
     },
     "execution_count": 51,
     "metadata": {},
     "output_type": "execute_result"
    }
   ],
   "source": [
    "r2_oos_df"
   ]
  },
  {
   "cell_type": "code",
   "execution_count": 52,
   "metadata": {},
   "outputs": [
    {
     "data": {
      "text/html": [
       "<div>\n",
       "<style scoped>\n",
       "    .dataframe tbody tr th:only-of-type {\n",
       "        vertical-align: middle;\n",
       "    }\n",
       "\n",
       "    .dataframe tbody tr th {\n",
       "        vertical-align: top;\n",
       "    }\n",
       "\n",
       "    .dataframe thead th {\n",
       "        text-align: right;\n",
       "    }\n",
       "</style>\n",
       "<table border=\"1\" class=\"dataframe\">\n",
       "  <thead>\n",
       "    <tr style=\"text-align: right;\">\n",
       "      <th></th>\n",
       "      <th>year</th>\n",
       "      <th>permno</th>\n",
       "      <th>y_pred</th>\n",
       "      <th>y_real</th>\n",
       "      <th>params</th>\n",
       "      <th>pred_R2_OOS</th>\n",
       "      <th>CV_R2</th>\n",
       "      <th>CV_MSE</th>\n",
       "    </tr>\n",
       "  </thead>\n",
       "  <tbody>\n",
       "    <tr>\n",
       "      <th>0</th>\n",
       "      <td>1985</td>\n",
       "      <td>date\n",
       "1997-01-31    45356\n",
       "1997-01-31    65787\n",
       "1...</td>\n",
       "      <td>[0.02495499359041838, 0.017112573495973865, 0....</td>\n",
       "      <td>date\n",
       "1997-01-31    0.080378\n",
       "1997-01-31   -0.03...</td>\n",
       "      <td>{'learning_rate': 0.027106239807468374, 'max_d...</td>\n",
       "      <td>0.033971</td>\n",
       "      <td>-0.041307</td>\n",
       "      <td>[-0.01705548060077134, -0.017377487661999907, ...</td>\n",
       "    </tr>\n",
       "    <tr>\n",
       "      <th>1</th>\n",
       "      <td>1986</td>\n",
       "      <td>date\n",
       "1998-01-31    17830\n",
       "1998-01-31    15077\n",
       "1...</td>\n",
       "      <td>[-0.008494227518858841, -0.04807452954121615, ...</td>\n",
       "      <td>date\n",
       "1998-01-31    0.115880\n",
       "1998-01-31   -0.06...</td>\n",
       "      <td>{'learning_rate': 0.022989396604147287, 'max_d...</td>\n",
       "      <td>0.034747</td>\n",
       "      <td>-0.024609</td>\n",
       "      <td>[-0.01525026502274914, -0.014464791479437796, ...</td>\n",
       "    </tr>\n",
       "    <tr>\n",
       "      <th>2</th>\n",
       "      <td>1987</td>\n",
       "      <td>date\n",
       "1999-01-31    80515\n",
       "1999-01-31    21231\n",
       "1...</td>\n",
       "      <td>[0.01372801471167844, -0.005713555032117671, 0...</td>\n",
       "      <td>date\n",
       "1999-01-31    0.247642\n",
       "1999-01-31   -0.10...</td>\n",
       "      <td>{'learning_rate': 0.020136010549001552, 'max_d...</td>\n",
       "      <td>0.043836</td>\n",
       "      <td>0.034938</td>\n",
       "      <td>[-0.012358891719522713, -0.011902544120583568,...</td>\n",
       "    </tr>\n",
       "    <tr>\n",
       "      <th>3</th>\n",
       "      <td>1988</td>\n",
       "      <td>date\n",
       "2000-01-31    24803\n",
       "2000-01-31    23536\n",
       "2...</td>\n",
       "      <td>[-0.028396323798244884, 0.020473314945615228, ...</td>\n",
       "      <td>date\n",
       "2000-01-31   -0.150496\n",
       "2000-01-31    0.02...</td>\n",
       "      <td>{'learning_rate': 0.09706383457333184, 'max_de...</td>\n",
       "      <td>-0.032607</td>\n",
       "      <td>0.026923</td>\n",
       "      <td>[-0.011440553533727547, -0.012268255275457841,...</td>\n",
       "    </tr>\n",
       "  </tbody>\n",
       "</table>\n",
       "</div>"
      ],
      "text/plain": [
       "   year                                             permno  \\\n",
       "0  1985  date\n",
       "1997-01-31    45356\n",
       "1997-01-31    65787\n",
       "1...   \n",
       "1  1986  date\n",
       "1998-01-31    17830\n",
       "1998-01-31    15077\n",
       "1...   \n",
       "2  1987  date\n",
       "1999-01-31    80515\n",
       "1999-01-31    21231\n",
       "1...   \n",
       "3  1988  date\n",
       "2000-01-31    24803\n",
       "2000-01-31    23536\n",
       "2...   \n",
       "\n",
       "                                              y_pred  \\\n",
       "0  [0.02495499359041838, 0.017112573495973865, 0....   \n",
       "1  [-0.008494227518858841, -0.04807452954121615, ...   \n",
       "2  [0.01372801471167844, -0.005713555032117671, 0...   \n",
       "3  [-0.028396323798244884, 0.020473314945615228, ...   \n",
       "\n",
       "                                              y_real  \\\n",
       "0  date\n",
       "1997-01-31    0.080378\n",
       "1997-01-31   -0.03...   \n",
       "1  date\n",
       "1998-01-31    0.115880\n",
       "1998-01-31   -0.06...   \n",
       "2  date\n",
       "1999-01-31    0.247642\n",
       "1999-01-31   -0.10...   \n",
       "3  date\n",
       "2000-01-31   -0.150496\n",
       "2000-01-31    0.02...   \n",
       "\n",
       "                                              params pred_R2_OOS     CV_R2  \\\n",
       "0  {'learning_rate': 0.027106239807468374, 'max_d...    0.033971 -0.041307   \n",
       "1  {'learning_rate': 0.022989396604147287, 'max_d...    0.034747 -0.024609   \n",
       "2  {'learning_rate': 0.020136010549001552, 'max_d...    0.043836  0.034938   \n",
       "3  {'learning_rate': 0.09706383457333184, 'max_de...   -0.032607  0.026923   \n",
       "\n",
       "                                              CV_MSE  \n",
       "0  [-0.01705548060077134, -0.017377487661999907, ...  \n",
       "1  [-0.01525026502274914, -0.014464791479437796, ...  \n",
       "2  [-0.012358891719522713, -0.011902544120583568,...  \n",
       "3  [-0.011440553533727547, -0.012268255275457841,...  "
      ]
     },
     "execution_count": 52,
     "metadata": {},
     "output_type": "execute_result"
    }
   ],
   "source": [
    "result_df"
   ]
  },
  {
   "cell_type": "code",
   "execution_count": 53,
   "metadata": {},
   "outputs": [],
   "source": [
    "tmp_best_params_series = result_df['params']"
   ]
  },
  {
   "cell_type": "code",
   "execution_count": 54,
   "metadata": {},
   "outputs": [
    {
     "name": "stdout",
     "output_type": "stream",
     "text": [
      "learning_rate 0.027106239807468374\n",
      "max_depth 4\n",
      "n_estimators 115\n",
      "-------------------\n",
      "learning_rate 0.022989396604147287\n",
      "max_depth 5\n",
      "n_estimators 135\n",
      "-------------------\n",
      "learning_rate 0.020136010549001552\n",
      "max_depth 4\n",
      "n_estimators 121\n",
      "-------------------\n",
      "learning_rate 0.09706383457333184\n",
      "max_depth 5\n",
      "n_estimators 93\n",
      "-------------------\n"
     ]
    }
   ],
   "source": [
    "for tmp_best_params in tmp_best_params_series:\n",
    "    for key in tmp_best_params.keys():\n",
    "        print(key, tmp_best_params[key])\n",
    "    print('-------------------')"
   ]
  },
  {
   "cell_type": "markdown",
   "metadata": {},
   "source": [
    "# best pararms records\n",
    "*  n_estimators = 62, 77, 121, 63, max_depth = 4, 4, 4, 7, learning rate = 0.02, 0.08, 0.06, 0.04, mean_r2oos = 0.01737 \n",
    "*  n_estimators = 115, 135, 121, 93, max_depth = 4, 4, 4, 5, learning rate = 0.027, 0.023, 0.020, 0.097, mean_r2oos = 0.0199 "
   ]
  },
  {
   "cell_type": "code",
   "execution_count": 55,
   "metadata": {},
   "outputs": [
    {
     "name": "stdout",
     "output_type": "stream",
     "text": [
      "0.019986729387961005\n"
     ]
    }
   ],
   "source": [
    "mean_r2oos = np.mean(result_df['pred_R2_OOS'])\n",
    "print(mean_r2oos)"
   ]
  },
  {
   "cell_type": "markdown",
   "metadata": {},
   "source": [
    "# notes \n",
    "* do we really need rolling\n",
    "* consider using polynormial feature\n",
    "* dummy_varaibles, especially ffi49 creates too many columns, and we think it would damage the performance, is there a way to avoid this?"
   ]
  },
  {
   "cell_type": "code",
   "execution_count": 56,
   "metadata": {},
   "outputs": [],
   "source": [
    "\n",
    "# from sklearn.preprocessing import StandardScaler, PolynomialFeatures"
   ]
  },
  {
   "cell_type": "code",
   "execution_count": 57,
   "metadata": {},
   "outputs": [],
   "source": [
    "# # example\n",
    "# def regress_test(X, y, regressor, params = None,\n",
    "#             target ='daily_ret', window = 120, pred_window = 30):\n",
    "#     # training with 6month(120days) and predict 3month(60days)\n",
    "#     tscv = TimeSeriesSplit() # n_splits=_num_batch\n",
    "\n",
    "#     pf = PolynomialFeatures(degree=1)\n",
    "\n",
    "#     estimator = Pipeline([\n",
    "#         ('scaler', StandardScaler()),\n",
    "#         (\"polynomial_features\", pf),\n",
    "#         (\"ridge_regression\", ridge)])\n"
   ]
  },
  {
   "cell_type": "code",
   "execution_count": 58,
   "metadata": {},
   "outputs": [],
   "source": [
    "# #PCA Not used\n",
    "# #TODO:change this\n",
    "# pipe = Pipeline([\n",
    "#         ('scale', StandardScaler()),\n",
    "#         ('reduce_dims', PCA(n_components=4)),\n",
    "#         ('clf', SVC(kernel = 'linear', C = 1))]) \n",
    "\n",
    "# param_grid = dict(reduce_dims__n_components=[4,6,8],\n",
    "#                   clf__C=np.logspace(-4, 1, 6),\n",
    "#                   clf__kernel=['rbf','linear'])\n",
    "\n",
    "# grid = GridSearchCV(pipe, param_grid=param_grid, cv=3, n_jobs=1, verbose=2, scoring= 'accuracy')\n",
    "# grid.fit(X, y)\n",
    "# print(grid.best_score_)\n",
    "# print(grid.cv_results_)"
   ]
  },
  {
   "cell_type": "markdown",
   "metadata": {},
   "source": [
    "### shap values, need more research, don't use it yet"
   ]
  },
  {
   "cell_type": "code",
   "execution_count": 59,
   "metadata": {},
   "outputs": [],
   "source": [
    "# # Tree SHAP is an algorithm to compute exact SHAP values for Decision Trees based models. \n",
    "# # SHAP (SHapley Additive exPlanation) is a game theoretic approach to explain the output of any machine learning model. \n",
    "# # The goal of SHAP is to explain the prediction for any instance xᵢ as a sum of contributions from it’s individual feature values. \n",
    "# #reference:https://towardsdatascience.com/using-shap-values-to-explain-how-your-machine-learning-model-works-732b3f40e137#a3a1\n",
    "# def feature_importance_plot_single_model(clf, mod_type, X_test):\n",
    "# # chart with features listed in order of importance\n",
    "# # if our case, for clf, we might need reg.best_estimator_ or grid.best_estimator_\n",
    "#     if mod_type == 'tree':\n",
    "#         explainer = shap.TreeExplainer(clf)\n",
    "#     if mod_type == 'linear':\n",
    "#         explainer = shap.LinearExplainer(clf)\n",
    "#     if mod_type == 'neural_network':\n",
    "#         explainer = shap.KernelExplainer(clf)\n",
    "\n",
    "#     shap_values = explainer.shap_values(X_test)\n",
    "\n",
    "#     # shap.summary_plot(shap_values, X_test, plot_type=\"bar\")\n",
    "#     # shap.summary_plot(shap_values, X_test)\n",
    "#     shap.plots.bar(shap_values=shap_values)\n",
    "\n",
    "# def feature_importance_all_heatmap(shap_df, name):\n",
    "#     #TODO:finish this function\n",
    "#     result = result.astype(\"float\")\n",
    "#     result = result.iloc[::-1]\n",
    "#     scalar = MinMaxScaler()\n",
    "#     result = scalar.fit_transform(result)\n",
    "#     result = pd.DataFrame(result, columns=name, index=(rsl[0].index)[::-1])\n",
    "#     plt.figure(figsize=(15, 15)) # 后面改\n",
    "#     sns.heatmap(result,cmap=\"Blues\")\n",
    "#     plt.show()\n",
    "#     return None\n",
    "\n"
   ]
  },
  {
   "cell_type": "markdown",
   "metadata": {},
   "source": [
    "## Marginal Association Between Characteristics and Expected Return"
   ]
  },
  {
   "cell_type": "markdown",
   "metadata": {},
   "source": [
    "# use dm-test to compare models\n",
    "# we could use this package provided by https://github.com/johntwk/Diebold-Mariano-Test"
   ]
  },
  {
   "cell_type": "code",
   "execution_count": null,
   "metadata": {},
   "outputs": [],
   "source": []
  }
 ],
 "metadata": {
  "kernelspec": {
   "display_name": "Python 3.9.7 ('base')",
   "language": "python",
   "name": "python3"
  },
  "language_info": {
   "codemirror_mode": {
    "name": "ipython",
    "version": 3
   },
   "file_extension": ".py",
   "mimetype": "text/x-python",
   "name": "python",
   "nbconvert_exporter": "python",
   "pygments_lexer": "ipython3",
   "version": "3.9.7"
  },
  "orig_nbformat": 4,
  "vscode": {
   "interpreter": {
    "hash": "0a952188e4bab49300a5758bda39ddc90e91f41f35dfe6ea820e496e515be371"
   }
  }
 },
 "nbformat": 4,
 "nbformat_minor": 2
}
