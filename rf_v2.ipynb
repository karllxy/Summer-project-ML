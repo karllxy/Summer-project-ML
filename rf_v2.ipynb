{
 "cells": [
  {
   "cell_type": "code",
   "execution_count": 57,
   "metadata": {},
   "outputs": [],
   "source": [
    "# import pyarrow.feather as feather\n",
    "import numpy as np\n",
    "import pandas as pd\n",
    "import os\n",
    "from datetime import datetime\n",
    "from tqdm import tqdm\n",
    "\n",
    "from sklearn.metrics import mean_squared_error, make_scorer, accuracy_score, f1_score, classification_report\n",
    "from sklearn.preprocessing import StandardScaler\n",
    "from sklearn.pipeline import Pipeline\n",
    "from sklearn.model_selection import GridSearchCV, RandomizedSearchCV, PredefinedSplit\n",
    "from sklearn.ensemble import GradientBoostingRegressor, RandomForestRegressor\n",
    "\n",
    "import matplotlib.pyplot as plt\n",
    "import seaborn as sns\n",
    "sns.set()\n",
    "from collections import Counter\n",
    "\n",
    "import shap"
   ]
  },
  {
   "cell_type": "markdown",
   "metadata": {},
   "source": [
    "## read the feather files"
   ]
  },
  {
   "cell_type": "code",
   "execution_count": 58,
   "metadata": {},
   "outputs": [
    {
     "name": "stdout",
     "output_type": "stream",
     "text": [
      "My current directory is : /Users/liuxuyang/Desktop/Summer Project/Data\n",
      "My directory name is : Data\n"
     ]
    }
   ],
   "source": [
    "import os\n",
    "directory_path = os.getcwd()\n",
    "print(\"My current directory is : \" + directory_path)\n",
    "folder_name = os.path.basename(directory_path)\n",
    "print(\"My directory name is : \" + folder_name)"
   ]
  },
  {
   "cell_type": "code",
   "execution_count": 59,
   "metadata": {},
   "outputs": [],
   "source": [
    "directory_path = os.getcwd()\n",
    "folder_name = os.path.basename(directory_path)\n",
    "directory_path = os.getcwd()\n",
    "raw_df = pd.read_feather(os.path.join(directory_path, 'chars60_raw_imputed.feather'))"
   ]
  },
  {
   "cell_type": "code",
   "execution_count": 60,
   "metadata": {},
   "outputs": [
    {
     "data": {
      "text/plain": [
       "Index(['gvkey', 'permno', 'sic', 'ret', 'exchcd', 'shrcd', 'adm', 'bm_ia',\n",
       "       'herf', 'hire', 'me_ia', 'baspread', 'beta', 'ill', 'maxret', 'mom12m',\n",
       "       'mom1m', 'mom36m', 'mom60m', 'mom6m', 're', 'rvar_capm', 'rvar_ff3',\n",
       "       'rvar_mean', 'seas1a', 'std_dolvol', 'std_turn', 'zerotrade', 'me',\n",
       "       'dy', 'turn', 'dolvol', 'abr', 'sue', 'cinvest', 'nincr', 'pscore',\n",
       "       'acc', 'bm', 'agr', 'alm', 'ato', 'cash', 'cashdebt', 'cfp', 'chcsho',\n",
       "       'chpm', 'chtx', 'depr', 'ep', 'gma', 'grltnoa', 'lev', 'lgr', 'ni',\n",
       "       'noa', 'op', 'pctacc', 'pm', 'rd_sale', 'rdm', 'rna', 'roa', 'roe',\n",
       "       'rsup', 'sgr', 'sp', 'date', 'ffi49'],\n",
       "      dtype='object')"
      ]
     },
     "execution_count": 60,
     "metadata": {},
     "output_type": "execute_result"
    }
   ],
   "source": [
    "raw_df.columns"
   ]
  },
  {
   "cell_type": "markdown",
   "metadata": {},
   "source": [
    "## check missing values"
   ]
  },
  {
   "cell_type": "code",
   "execution_count": 61,
   "metadata": {},
   "outputs": [
    {
     "data": {
      "text/plain": [
       "['adm',\n",
       " 'bm_ia',\n",
       " 'mom12m',\n",
       " 'mom36m',\n",
       " 'mom60m',\n",
       " 'mom6m',\n",
       " 'seas1a',\n",
       " 'abr',\n",
       " 'sue',\n",
       " 'cinvest',\n",
       " 'nincr',\n",
       " 'pscore',\n",
       " 'acc',\n",
       " 'bm',\n",
       " 'agr',\n",
       " 'alm',\n",
       " 'ato',\n",
       " 'cashdebt',\n",
       " 'chcsho',\n",
       " 'chpm',\n",
       " 'chtx',\n",
       " 'gma',\n",
       " 'grltnoa',\n",
       " 'lgr',\n",
       " 'ni',\n",
       " 'noa',\n",
       " 'op',\n",
       " 'pctacc',\n",
       " 'rna',\n",
       " 'roa',\n",
       " 'roe',\n",
       " 'rsup',\n",
       " 'sgr']"
      ]
     },
     "execution_count": 61,
     "metadata": {},
     "output_type": "execute_result"
    }
   ],
   "source": [
    "raw_tf = raw_df.isnull().any()\n",
    "raw_tf.where(raw_tf == True).dropna().index.to_list()\n"
   ]
  },
  {
   "cell_type": "markdown",
   "metadata": {},
   "source": [
    "## let's look at the data after 1972"
   ]
  },
  {
   "cell_type": "code",
   "execution_count": 62,
   "metadata": {},
   "outputs": [],
   "source": [
    "raw_df['year'] = raw_df['date'].dt.year\n",
    "raw_df = raw_df[raw_df['year'] >= 1972]\n",
    "raw_df = raw_df.drop(['year'], axis=1)"
   ]
  },
  {
   "cell_type": "code",
   "execution_count": 63,
   "metadata": {},
   "outputs": [
    {
     "data": {
      "text/plain": [
       "[]"
      ]
     },
     "execution_count": 63,
     "metadata": {},
     "output_type": "execute_result"
    }
   ],
   "source": [
    "raw_tf = raw_df.isnull().any()\n",
    "raw_tf.where(raw_tf == True).dropna().index.to_list()"
   ]
  },
  {
   "cell_type": "markdown",
   "metadata": {},
   "source": [
    "## no missing value!"
   ]
  },
  {
   "cell_type": "markdown",
   "metadata": {},
   "source": [
    "## read the macro data files"
   ]
  },
  {
   "cell_type": "code",
   "execution_count": 64,
   "metadata": {},
   "outputs": [],
   "source": [
    "macro_df = pd.read_csv(os.path.join(directory_path, 'Macro.csv'))\n",
    "macro_df = macro_df[macro_df['yyyymm']>=197201]"
   ]
  },
  {
   "cell_type": "code",
   "execution_count": 65,
   "metadata": {},
   "outputs": [],
   "source": [
    "raw_df['yyyymm'] = raw_df['date'].dt.strftime(\"%Y%m\").apply(int)\n",
    "total_df = pd.merge(raw_df, macro_df, how='inner', on='yyyymm')\n",
    "total_df.drop(columns=\"yyyymm\", inplace=True)\n"
   ]
  },
  {
   "cell_type": "code",
   "execution_count": 66,
   "metadata": {},
   "outputs": [
    {
     "data": {
      "text/plain": [
       "[]"
      ]
     },
     "execution_count": 66,
     "metadata": {},
     "output_type": "execute_result"
    }
   ],
   "source": [
    "raw_tf = total_df.isnull().any()\n",
    "raw_tf.where(raw_tf == True).dropna().index.to_list()"
   ]
  },
  {
   "cell_type": "code",
   "execution_count": 67,
   "metadata": {},
   "outputs": [],
   "source": [
    "del(raw_tf)"
   ]
  },
  {
   "cell_type": "code",
   "execution_count": 68,
   "metadata": {},
   "outputs": [
    {
     "data": {
      "text/plain": [
       "1552"
      ]
     },
     "execution_count": 68,
     "metadata": {},
     "output_type": "execute_result"
    }
   ],
   "source": [
    "len(total_df.gvkey.unique())"
   ]
  },
  {
   "cell_type": "code",
   "execution_count": 69,
   "metadata": {},
   "outputs": [
    {
     "data": {
      "text/plain": [
       "1571"
      ]
     },
     "execution_count": 69,
     "metadata": {},
     "output_type": "execute_result"
    }
   ],
   "source": [
    "total_df.permno.nunique()"
   ]
  },
  {
   "cell_type": "code",
   "execution_count": 70,
   "metadata": {},
   "outputs": [],
   "source": [
    "# make a list of unique permno\n",
    "permno_list = total_df['permno'].unique().tolist()"
   ]
  },
  {
   "cell_type": "code",
   "execution_count": 71,
   "metadata": {},
   "outputs": [
    {
     "data": {
      "text/plain": [
       "77"
      ]
     },
     "execution_count": 71,
     "metadata": {},
     "output_type": "execute_result"
    }
   ],
   "source": [
    "len(total_df.columns)"
   ]
  },
  {
   "cell_type": "code",
   "execution_count": 72,
   "metadata": {},
   "outputs": [
    {
     "data": {
      "text/plain": [
       "3"
      ]
     },
     "execution_count": 72,
     "metadata": {},
     "output_type": "execute_result"
    }
   ],
   "source": [
    "total_df['exchcd'].nunique()"
   ]
  },
  {
   "cell_type": "code",
   "execution_count": 73,
   "metadata": {},
   "outputs": [
    {
     "data": {
      "text/plain": [
       "2"
      ]
     },
     "execution_count": 73,
     "metadata": {},
     "output_type": "execute_result"
    }
   ],
   "source": [
    "total_df['shrcd'].nunique()"
   ]
  },
  {
   "cell_type": "code",
   "execution_count": 74,
   "metadata": {},
   "outputs": [
    {
     "data": {
      "text/plain": [
       "array([0.  , 2.  , 1.  , 3.  , 4.  , 0.5 , 5.  , 6.  , 7.  , 8.  , 1.5 ,\n",
       "       2.5 , 3.5 , 0.75, 0.25])"
      ]
     },
     "execution_count": 74,
     "metadata": {},
     "output_type": "execute_result"
    }
   ],
   "source": [
    "total_df['nincr'].unique()"
   ]
  },
  {
   "cell_type": "code",
   "execution_count": 75,
   "metadata": {},
   "outputs": [
    {
     "data": {
      "text/plain": [
       "array([0.  , 2.  , 1.  , 3.  , 4.  , 5.  , 2.5 , 0.5 , 1.5 , 6.  , 3.5 ,\n",
       "       5.5 , 4.5 , 4.25, 7.  , 8.  , 9.  ])"
      ]
     },
     "execution_count": 75,
     "metadata": {},
     "output_type": "execute_result"
    }
   ],
   "source": [
    "total_df['pscore'].unique()"
   ]
  },
  {
   "cell_type": "code",
   "execution_count": 76,
   "metadata": {},
   "outputs": [
    {
     "data": {
      "text/plain": [
       "48"
      ]
     },
     "execution_count": 76,
     "metadata": {},
     "output_type": "execute_result"
    }
   ],
   "source": [
    "total_df['ffi49'].nunique()"
   ]
  },
  {
   "cell_type": "markdown",
   "metadata": {},
   "source": [
    "## Information Variables:\n",
    "\n",
    "   * stock indicator: gvkey, permno\n",
    "   * time: datadate, date, year ('datadate' is the available time for data and 'date' is the date of return)\n",
    "   * industry: sic, ffi49\n",
    "   * exchange info: exchcd, shrcd\n",
    "   * return: ret: the dividend adjusted return  (we also provide original return and return without dividend, you can keep them by modifing impute_rank_output_bchmk.py) \n",
    "   * market equity: me/rank_me\n"
   ]
  },
  {
   "cell_type": "code",
   "execution_count": 77,
   "metadata": {},
   "outputs": [],
   "source": [
    "# need to turn some variables to dummy variables\n",
    "def get_dummy_col(target_df, col_names):\n",
    "    \"\"\"turn the cols into multiple cols containing dummy variables, then drop the original columns\n",
    "\n",
    "    Args:\n",
    "        target_df (pandas dataframe): target dataframe\n",
    "        col_names (list): list of columns that need to be turned into dummy variables\n",
    "    \"\"\"\n",
    "    for col in col_names:        \n",
    "        tmp_dummies = pd.get_dummies(target_df[col]).rename(columns=lambda x: f'{col}_' + str(x))\n",
    "        target_df = pd.concat([target_df, tmp_dummies], axis=1)\n",
    "        target_df.drop(col, inplace=True, axis = 1)\n",
    "    return target_df \n",
    "dummy_col_list = ['ffi49', 'shrcd', 'exchcd']\n",
    "total_df = get_dummy_col(total_df, dummy_col_list)"
   ]
  },
  {
   "cell_type": "code",
   "execution_count": 78,
   "metadata": {},
   "outputs": [],
   "source": [
    "# set date as the index\n",
    "total_df.set_index('date', inplace=True)"
   ]
  },
  {
   "cell_type": "code",
   "execution_count": 79,
   "metadata": {},
   "outputs": [
    {
     "data": {
      "text/plain": [
       "['adm',\n",
       " 'bm_ia',\n",
       " 'herf',\n",
       " 'hire',\n",
       " 'me_ia',\n",
       " 'baspread',\n",
       " 'beta',\n",
       " 'ill',\n",
       " 'maxret',\n",
       " 'mom12m',\n",
       " 'mom1m',\n",
       " 'mom36m',\n",
       " 'mom60m',\n",
       " 'mom6m',\n",
       " 're',\n",
       " 'rvar_capm',\n",
       " 'rvar_ff3',\n",
       " 'rvar_mean',\n",
       " 'seas1a',\n",
       " 'std_dolvol',\n",
       " 'std_turn',\n",
       " 'zerotrade',\n",
       " 'me',\n",
       " 'dy',\n",
       " 'turn',\n",
       " 'dolvol',\n",
       " 'abr',\n",
       " 'sue',\n",
       " 'cinvest',\n",
       " 'nincr',\n",
       " 'pscore',\n",
       " 'acc',\n",
       " 'bm',\n",
       " 'agr',\n",
       " 'alm',\n",
       " 'ato',\n",
       " 'cash',\n",
       " 'cashdebt',\n",
       " 'cfp',\n",
       " 'chcsho',\n",
       " 'chpm',\n",
       " 'chtx',\n",
       " 'depr',\n",
       " 'ep',\n",
       " 'gma',\n",
       " 'grltnoa',\n",
       " 'lev',\n",
       " 'lgr',\n",
       " 'ni',\n",
       " 'noa',\n",
       " 'op',\n",
       " 'pctacc',\n",
       " 'pm',\n",
       " 'rd_sale',\n",
       " 'rdm',\n",
       " 'rna',\n",
       " 'roa',\n",
       " 'roe',\n",
       " 'rsup',\n",
       " 'sgr',\n",
       " 'sp',\n",
       " 'b/m',\n",
       " 'tbl',\n",
       " 'ntis',\n",
       " 'd/p',\n",
       " 'dfy',\n",
       " 'tms',\n",
       " 'ffi49_1',\n",
       " 'ffi49_2',\n",
       " 'ffi49_3',\n",
       " 'ffi49_4',\n",
       " 'ffi49_5',\n",
       " 'ffi49_6',\n",
       " 'ffi49_7',\n",
       " 'ffi49_8',\n",
       " 'ffi49_9',\n",
       " 'ffi49_10',\n",
       " 'ffi49_11',\n",
       " 'ffi49_12',\n",
       " 'ffi49_13',\n",
       " 'ffi49_14',\n",
       " 'ffi49_15',\n",
       " 'ffi49_16',\n",
       " 'ffi49_17',\n",
       " 'ffi49_18',\n",
       " 'ffi49_19',\n",
       " 'ffi49_21',\n",
       " 'ffi49_22',\n",
       " 'ffi49_23',\n",
       " 'ffi49_24',\n",
       " 'ffi49_25',\n",
       " 'ffi49_26',\n",
       " 'ffi49_27',\n",
       " 'ffi49_28',\n",
       " 'ffi49_29',\n",
       " 'ffi49_30',\n",
       " 'ffi49_31',\n",
       " 'ffi49_32',\n",
       " 'ffi49_33',\n",
       " 'ffi49_34',\n",
       " 'ffi49_35',\n",
       " 'ffi49_36',\n",
       " 'ffi49_37',\n",
       " 'ffi49_38',\n",
       " 'ffi49_39',\n",
       " 'ffi49_40',\n",
       " 'ffi49_41',\n",
       " 'ffi49_42',\n",
       " 'ffi49_43',\n",
       " 'ffi49_44',\n",
       " 'ffi49_45',\n",
       " 'ffi49_46',\n",
       " 'ffi49_47',\n",
       " 'ffi49_48',\n",
       " 'ffi49_49',\n",
       " 'shrcd_10.0',\n",
       " 'shrcd_11.0',\n",
       " 'exchcd_1.0',\n",
       " 'exchcd_2.0',\n",
       " 'exchcd_3.0']"
      ]
     },
     "execution_count": 79,
     "metadata": {},
     "output_type": "execute_result"
    }
   ],
   "source": [
    "features_list = total_df.columns.to_list()\n",
    "list_to_remove = ['gvkey', 'permno', 'ret', 'sic','svar','e/p']\n",
    "for element in list_to_remove:\n",
    "    if element in features_list:\n",
    "        features_list.remove(element)\n",
    "        \n",
    "features_list"
   ]
  },
  {
   "cell_type": "code",
   "execution_count": 80,
   "metadata": {},
   "outputs": [
    {
     "name": "stdout",
     "output_type": "stream",
     "text": [
      "<class 'pandas.core.frame.DataFrame'>\n",
      "DatetimeIndex: 462756 entries, 1972-01-31 to 2013-12-31\n",
      "Data columns (total 126 columns):\n",
      " #    Column      Dtype  \n",
      "---   ------      -----  \n",
      " 0    gvkey       int64  \n",
      " 1    permno      int64  \n",
      " 2    sic         int64  \n",
      " 3    ret         float64\n",
      " 4    adm         float64\n",
      " 5    bm_ia       float64\n",
      " 6    herf        float64\n",
      " 7    hire        float64\n",
      " 8    me_ia       float64\n",
      " 9    baspread    float64\n",
      " 10   beta        float64\n",
      " 11   ill         float64\n",
      " 12   maxret      float64\n",
      " 13   mom12m      float64\n",
      " 14   mom1m       float64\n",
      " 15   mom36m      float64\n",
      " 16   mom60m      float64\n",
      " 17   mom6m       float64\n",
      " 18   re          float64\n",
      " 19   rvar_capm   float64\n",
      " 20   rvar_ff3    float64\n",
      " 21   rvar_mean   float64\n",
      " 22   seas1a      float64\n",
      " 23   std_dolvol  float64\n",
      " 24   std_turn    float64\n",
      " 25   zerotrade   float64\n",
      " 26   me          float64\n",
      " 27   dy          float64\n",
      " 28   turn        float64\n",
      " 29   dolvol      float64\n",
      " 30   abr         float64\n",
      " 31   sue         float64\n",
      " 32   cinvest     float64\n",
      " 33   nincr       float64\n",
      " 34   pscore      float64\n",
      " 35   acc         float64\n",
      " 36   bm          float64\n",
      " 37   agr         float64\n",
      " 38   alm         float64\n",
      " 39   ato         float64\n",
      " 40   cash        float64\n",
      " 41   cashdebt    float64\n",
      " 42   cfp         float64\n",
      " 43   chcsho      float64\n",
      " 44   chpm        float64\n",
      " 45   chtx        float64\n",
      " 46   depr        float64\n",
      " 47   ep          float64\n",
      " 48   gma         float64\n",
      " 49   grltnoa     float64\n",
      " 50   lev         float64\n",
      " 51   lgr         float64\n",
      " 52   ni          float64\n",
      " 53   noa         float64\n",
      " 54   op          float64\n",
      " 55   pctacc      float64\n",
      " 56   pm          float64\n",
      " 57   rd_sale     float64\n",
      " 58   rdm         float64\n",
      " 59   rna         float64\n",
      " 60   roa         float64\n",
      " 61   roe         float64\n",
      " 62   rsup        float64\n",
      " 63   sgr         float64\n",
      " 64   sp          float64\n",
      " 65   b/m         float64\n",
      " 66   tbl         float64\n",
      " 67   ntis        float64\n",
      " 68   svar        float64\n",
      " 69   d/p         float64\n",
      " 70   e/p         float64\n",
      " 71   dfy         float64\n",
      " 72   tms         float64\n",
      " 73   ffi49_1     uint8  \n",
      " 74   ffi49_2     uint8  \n",
      " 75   ffi49_3     uint8  \n",
      " 76   ffi49_4     uint8  \n",
      " 77   ffi49_5     uint8  \n",
      " 78   ffi49_6     uint8  \n",
      " 79   ffi49_7     uint8  \n",
      " 80   ffi49_8     uint8  \n",
      " 81   ffi49_9     uint8  \n",
      " 82   ffi49_10    uint8  \n",
      " 83   ffi49_11    uint8  \n",
      " 84   ffi49_12    uint8  \n",
      " 85   ffi49_13    uint8  \n",
      " 86   ffi49_14    uint8  \n",
      " 87   ffi49_15    uint8  \n",
      " 88   ffi49_16    uint8  \n",
      " 89   ffi49_17    uint8  \n",
      " 90   ffi49_18    uint8  \n",
      " 91   ffi49_19    uint8  \n",
      " 92   ffi49_21    uint8  \n",
      " 93   ffi49_22    uint8  \n",
      " 94   ffi49_23    uint8  \n",
      " 95   ffi49_24    uint8  \n",
      " 96   ffi49_25    uint8  \n",
      " 97   ffi49_26    uint8  \n",
      " 98   ffi49_27    uint8  \n",
      " 99   ffi49_28    uint8  \n",
      " 100  ffi49_29    uint8  \n",
      " 101  ffi49_30    uint8  \n",
      " 102  ffi49_31    uint8  \n",
      " 103  ffi49_32    uint8  \n",
      " 104  ffi49_33    uint8  \n",
      " 105  ffi49_34    uint8  \n",
      " 106  ffi49_35    uint8  \n",
      " 107  ffi49_36    uint8  \n",
      " 108  ffi49_37    uint8  \n",
      " 109  ffi49_38    uint8  \n",
      " 110  ffi49_39    uint8  \n",
      " 111  ffi49_40    uint8  \n",
      " 112  ffi49_41    uint8  \n",
      " 113  ffi49_42    uint8  \n",
      " 114  ffi49_43    uint8  \n",
      " 115  ffi49_44    uint8  \n",
      " 116  ffi49_45    uint8  \n",
      " 117  ffi49_46    uint8  \n",
      " 118  ffi49_47    uint8  \n",
      " 119  ffi49_48    uint8  \n",
      " 120  ffi49_49    uint8  \n",
      " 121  shrcd_10.0  uint8  \n",
      " 122  shrcd_11.0  uint8  \n",
      " 123  exchcd_1.0  uint8  \n",
      " 124  exchcd_2.0  uint8  \n",
      " 125  exchcd_3.0  uint8  \n",
      "dtypes: float64(70), int64(3), uint8(53)\n",
      "memory usage: 284.7 MB\n"
     ]
    }
   ],
   "source": [
    "total_df.info(verbose=True)\n"
   ]
  },
  {
   "cell_type": "code",
   "execution_count": 81,
   "metadata": {},
   "outputs": [],
   "source": [
    "total_df = total_df.sort_index()"
   ]
  },
  {
   "cell_type": "code",
   "execution_count": 82,
   "metadata": {},
   "outputs": [
    {
     "data": {
      "text/plain": [
       "<AxesSubplot:xlabel='date'>"
      ]
     },
     "execution_count": 82,
     "metadata": {},
     "output_type": "execute_result"
    },
    {
     "data": {
      "image/png": "[encoded data removed]",
      "text/plain": [
       "<Figure size 432x288 with 1 Axes>"
      ]
     },
     "metadata": {},
     "output_type": "display_data"
    }
   ],
   "source": [
    "each_month_permno_num = pd.DataFrame(Counter(total_df.reset_index().date).items(), columns=['date', 'number_of_permno'])\n",
    "each_month_permno_num.plot(x='date', y='number_of_permno')"
   ]
  },
  {
   "cell_type": "markdown",
   "metadata": {},
   "source": [
    "## total:1972-2020 49 years\n",
    "## training_length: 32 years; //28\n",
    "## valid_length: 7 years ; //6\n",
    "## testing_length: 7 years //6"
   ]
  },
  {
   "cell_type": "code",
   "execution_count": 83,
   "metadata": {},
   "outputs": [],
   "source": [
    "X_total = total_df[features_list]\n",
    "y_total = total_df['ret']"
   ]
  },
  {
   "cell_type": "code",
   "execution_count": 84,
   "metadata": {},
   "outputs": [],
   "source": [
    "def train_val_test_preprocess(X_total, y_total, training_len, val_len, testing_len):\n",
    "    \"\"\"split our data into training set, validation set, and testing set\n",
    "\n",
    "    Args:\n",
    "        X_total (dataframe)\n",
    "        y_total (dataframe)\n",
    "        training_len (int): length of years of training set\n",
    "        val_len (int)\n",
    "        testing_len (int)\n",
    "    return: dicts:X_train, y_train, X_val, y_val, X_test, y_test\n",
    "    \"\"\"\n",
    "    X_train_dict = {}\n",
    "    y_train_dict = {}\n",
    "    X_val_dict = {}\n",
    "    y_val_dict = {}\n",
    "    X_test_dict = {}\n",
    "    y_test_dict = {}\n",
    "    first_train_end_year = y_total.index.year[0] + training_len - 1\n",
    "    total_len = y_total.index.year[-1] - y_total.index.year[0] + 1\n",
    "    last_train_end_year = first_train_end_year + total_len -(training_len+val_len+testing_len)\n",
    "    train_end_years = np.arange(first_train_end_year, last_train_end_year+1)\n",
    "    print('each end year of training set is:', train_end_years)\n",
    "    for y in tqdm(train_end_years, desc='spliting data', ascii='>>'):\n",
    "        train_start_year = y - training_len + 1\n",
    "        train_end_year = y\n",
    "        val_start_year = y + 1\n",
    "        val_end_year = val_start_year+val_len-1\n",
    "        test_start_year= val_end_year+val_len\n",
    "        test_end_year = test_start_year+testing_len-1\n",
    "\n",
    "        tmp_X_train = X_total[(X_total.index.year>=train_start_year) & (X_total.index.year<=train_end_year)]\n",
    "        tmp_y_train = y_total[(y_total.index.year>=train_start_year) & (y_total.index.year<=train_end_year)]\n",
    "        tmp_X_val = X_total[(X_total.index.year>=val_start_year) & (X_total.index.year<=val_end_year)]\n",
    "        tmp_y_val = y_total[(y_total.index.year>=val_start_year) & (y_total.index.year<=val_end_year)]\n",
    "        tmp_X_test = X_total[(X_total.index.year>=test_start_year) & (X_total.index.year<=test_end_year)]\n",
    "        tmp_y_test = y_total[(y_total.index.year>=test_start_year) & (y_total.index.year<=test_end_year)]\n",
    "\n",
    "        X_train_dict[y] = tmp_X_train\n",
    "        y_train_dict[y] = tmp_y_train\n",
    "        X_val_dict[y] = tmp_X_val\n",
    "        y_val_dict[y] = tmp_y_val\n",
    "        X_test_dict[y] = tmp_X_test\n",
    "        y_test_dict[y] = tmp_y_test\n",
    "    return train_end_years, X_train_dict, y_train_dict, X_val_dict, y_val_dict, X_test_dict, y_test_dict\n",
    "        "
   ]
  },
  {
   "cell_type": "code",
   "execution_count": 85,
   "metadata": {},
   "outputs": [
    {
     "name": "stdout",
     "output_type": "stream",
     "text": [
      "each end year of training set is: [2003 2004 2005 2006]\n"
     ]
    },
    {
     "name": "stderr",
     "output_type": "stream",
     "text": [
      "spliting data: 100%|>>>>>>>>>>>>>>>>>>>>>>>>>>>>>>| 4/4 [00:01<00:00,  3.02it/s]\n"
     ]
    }
   ],
   "source": [
    "train_end_years, X_train_dict, y_train_dict, X_val_dict, y_val_dict, X_test_dict, y_test_dict = train_val_test_preprocess(X_total, y_total, 32, 7, 7)\n"
   ]
  },
  {
   "cell_type": "code",
   "execution_count": 86,
   "metadata": {},
   "outputs": [],
   "source": [
    "# to save memory\n",
    "del(X_total)\n",
    "del(y_total)\n",
    "del(total_df)\n",
    "del(macro_df)\n",
    "del(raw_df)\n",
    "del(element)\n"
   ]
  },
  {
   "cell_type": "code",
   "execution_count": 87,
   "metadata": {},
   "outputs": [],
   "source": [
    "class RF_Reg:\n",
    "    def __init__(self, train_end_year, X_train, y_train, X_val, y_val, X_test, y_test):\n",
    "        self._train_end_year = train_end_year\n",
    "        self._X_train = X_train\n",
    "        self._y_train = y_train\n",
    "        self._X_val = X_val\n",
    "        self._y_val = y_val\n",
    "        self._X_test = X_test\n",
    "        self._y_test = y_test\n",
    "        \n",
    "        self.result_cols = ['year','y_pred', 'y_real', 'params', 'pred_R2_OOS',\n",
    "                         'CV_R2', 'CV_MSE']\n",
    "        \n",
    "        \n",
    "    def get_res(self):\n",
    "        \"\"\"return a list of results, and a dataframe containing the r2 reduction of each feature.\n",
    "        \"\"\"\n",
    "        res = []\n",
    "        features = self._X_train.columns\n",
    "        dummy_columns = [x for x in features if x.startswith('ffi49') or x.startswith('shrcd') or x.startswith('exchcd')]\n",
    "        dummy_col_name_list = ['ffi49', 'shrcd', 'exchcd']\n",
    "        normal_features = [x for x in features if x not in dummy_columns]\n",
    "        total_feature_name = normal_features + dummy_col_name_list\n",
    "        r2_oos_reduction_df = pd.DataFrame(columns=['R2OOS', 'R2OOS_Reduction', 'R2OOS_Normalized'], index=total_feature_name)\n",
    "        \n",
    "        reg = rf(self._X_train, self._y_train, self._X_val, self._y_val, gridsearch=True)\n",
    "        _y_pred = reg.predict(self._X_test)\n",
    "        pred_r2_score = r2_oos(self._y_test, _y_pred)\n",
    "                # year, y_pred, y_real, best_parmans, prediction score (R^2 OOS),\n",
    "        #      CV result(R2_OOS)(Mean cross-validated score of the best_estimator), CV result(MSE)\n",
    "        res.append([self._train_end_year, _y_pred, self._y_test, reg.best_params_, pred_r2_score, reg.best_score_, reg.cv_results_['mean_test_mse']])\n",
    "\n",
    "        for feature in total_feature_name:\n",
    "            if feature in normal_features:\n",
    "                new_X_test = self._X_test.copy(deep=True)\n",
    "                new_X_test[feature] = 0\n",
    "                new_pred = reg.predict(new_X_test)\n",
    "                new_r2_score = r2_oos(y_test, new_pred)\n",
    "                r2_oos_reduction_df.loc[feature, \"R2OOS\"] = new_r2_score\n",
    "            else:\n",
    "                tmp_dummy_cols = [x for x in dummy_columns if x.startswith(feature)]\n",
    "                new_X_test = self._X_test.copy(deep=True)\n",
    "                new_X_test[tmp_dummy_cols] = 0\n",
    "                new_pred = reg.predict(new_X_test)\n",
    "                new_r2_score = r2_oos(y_test, new_pred)\n",
    "                r2_oos_reduction_df.loc[feature, \"R2OOS\"] = new_r2_score\n",
    "                \n",
    "\n",
    "        r2_oos_reduction_df['R2OOS_Reduction'] = (pred_r2_score - r2_oos_reduction_df[\"R2OOS\"]).abs()\n",
    "        r2_oos_reduction_df['R2OOS_Normalized'] = r2_oos_reduction_df['R2OOS_Reduction'] / r2_oos_reduction_df['R2OOS_Reduction'].sum()\n",
    "        r2_oos_reduction_df = r2_oos_reduction_df.sort_values(by='R2OOS_Normalized')\n",
    "\n",
    "        return res, r2_oos_reduction_df"
   ]
  },
  {
   "cell_type": "code",
   "execution_count": 88,
   "metadata": {},
   "outputs": [
    {
     "data": {
      "text/plain": [
       "['ffi49', 'shrcd', 'exchcd']"
      ]
     },
     "execution_count": 88,
     "metadata": {},
     "output_type": "execute_result"
    }
   ],
   "source": [
    "dummy_col_list"
   ]
  },
  {
   "cell_type": "code",
   "execution_count": 89,
   "metadata": {},
   "outputs": [],
   "source": [
    "# not used\n",
    "def general_report(y_real, y_pred):\n",
    "    print(\"the Accuracy is:\", accuracy_score(y_real, y_pred))\n",
    "    print('the F1 score is:', f1_score(y_true, y_pred))\n",
    "    print(classification_report(y_true, y_pred))"
   ]
  },
  {
   "cell_type": "markdown",
   "metadata": {},
   "source": [
    "use R2 reduction rather than ssd to measure the feature importance"
   ]
  },
  {
   "cell_type": "code",
   "execution_count": 90,
   "metadata": {},
   "outputs": [],
   "source": [
    "# R_square_oos\n",
    "def r2_oos(ret, pred):\n",
    "    sum_of_sq_res = np.nansum(np.power((ret-pred), 2))\n",
    "    sum_of_sq_total = np.nansum(np.power(ret, 2))\n",
    "    \n",
    "    return 1-sum_of_sq_res/sum_of_sq_total\n",
    "\n",
    "def r2_oosq(test_y,prediction_y):\n",
    "    denominator = (test_y ** 2).sum()\n",
    "    numerator = ((test_y-prediction_y)**2 ).sum()\n",
    "    roos = 1 - numerator / denominator\n",
    "    return roos"
   ]
  },
  {
   "cell_type": "code",
   "execution_count": 91,
   "metadata": {},
   "outputs": [],
   "source": [
    "r2oos_score = make_scorer(r2_oos, greater_is_better=True)  \n",
    "# pred_score = r2oos_score(reg, self.x_test, self.y_test)\n",
    "# can be used in gridsearchcv by 'scoring=r2oos_score'\n",
    "\n",
    "#reference:https://scikit-learn.org/stable/modules/generated/sklearn.model_selection.GridSearchCV.html\n",
    "#https://scikit-learn.org/stable/modules/generated/sklearn.model_selection.RandomizedSearchCV.html"
   ]
  },
  {
   "cell_type": "markdown",
   "metadata": {},
   "source": [
    "\n",
    "reference:https://stackoverflow.com/questions/48390601/explicitly-specifying-test-train-sets-in-gridsearchcv\n",
    "\n",
    "since we prespicified the training and validation set, we need to modify the cv parameter in gridsearchcv"
   ]
  },
  {
   "cell_type": "code",
   "execution_count": 92,
   "metadata": {},
   "outputs": [],
   "source": [
    "# RF\n",
    "#use pipeline to + a scaler（standardize）, then use gridsearchcv/randomsearchcv\n",
    "def rf(X_train, y_train, X_valid, y_valid, gridsearch = True):\n",
    "    #pipe = Pipeline([\n",
    "        #('scaler', StandardScaler()),\n",
    "       # ('clf', RandomForestRegressor(random_state=777))])\n",
    "    rf_clf = RandomForestRegressor(random_state=43)\n",
    "    param_grid = dict(n_estimators=[300],\n",
    "                    max_depth=[2,3,4,5,6],\n",
    "                     max_features=[3,5,10,20,30,50])\n",
    "    scoring_dict = {'r2_oos':r2oos_score, 'mse':'neg_mean_squared_error'}\n",
    "\n",
    "    # The indices which have zero or positive values, will be kept in val\n",
    "    len_X_train = len(X_train)\n",
    "    len_X_val = len(X_valid)\n",
    "    val_fold = np.repeat([-1, 0], [len_X_train, len_X_val])\n",
    "    ps = PredefinedSplit(val_fold)\n",
    "\n",
    "    X_train_n_val = pd.concat([X_train, X_valid])\n",
    "    y_train_n_val = pd.concat([y_train, y_valid])\n",
    "    # notice the cv=ps\n",
    "    if gridsearch:\n",
    "        grid = GridSearchCV(rf_clf, param_grid=param_grid, cv=ps, n_jobs=8, verbose=2, scoring= scoring_dict, refit='r2_oos')\n",
    "    else:\n",
    "        grid = RandomizedSearchCV(rf_clf, param_grid, cv=ps, n_jobs=8, n_iter=15, verbose=2, scoring= scoring_dict, refit ='r2_oos') #could try n_iter=60 for better result\n",
    "\n",
    "    grid.fit(X_train_n_val, y_train_n_val)\n",
    "\n",
    "    #get the best score with grid.best_score_\n",
    "    #get the best parameters with grid.best_params_\n",
    "    #get the best model with grid.best_estimator_\n",
    "    return grid"
   ]
  },
  {
   "cell_type": "code",
   "execution_count": 93,
   "metadata": {},
   "outputs": [
    {
     "name": "stderr",
     "output_type": "stream",
     "text": [
      "\r",
      "  0%|>>>>>>>>>>>>>>>>>>>>>>>>>>>>>>>>>>>>>>>>>>>>>>>>>>>>>| 0/4 [00:00<?, ?it/s]"
     ]
    },
    {
     "name": "stdout",
     "output_type": "stream",
     "text": [
      "Fitting 1 folds for each of 30 candidates, totalling 30 fits\n",
      "[CV] END .....max_depth=2, max_features=50, n_estimators=300; total time= 9.1min\n",
      "[CV] END .....max_depth=5, max_features=20, n_estimators=300; total time= 8.6min\n",
      "[CV] END .....max_depth=2, max_features=20, n_estimators=300; total time= 4.1min\n",
      "[CV] END .....max_depth=4, max_features=20, n_estimators=300; total time= 7.0min\n",
      "[CV] END ......max_depth=6, max_features=3, n_estimators=300; total time= 1.8min\n",
      "[CV] END .....max_depth=6, max_features=10, n_estimators=300; total time= 5.3min\n",
      "[CV] END ......max_depth=3, max_features=3, n_estimators=300; total time= 1.3min\n",
      "[CV] END .....max_depth=3, max_features=20, n_estimators=300; total time= 5.3min\n",
      "[CV] END ......max_depth=5, max_features=3, n_estimators=300; total time= 1.5min\n",
      "[CV] END .....max_depth=5, max_features=10, n_estimators=300; total time= 4.4min\n",
      "[CV] END ......max_depth=6, max_features=5, n_estimators=300; total time= 2.8min\n",
      "[CV] END .....max_depth=6, max_features=30, n_estimators=300; total time=10.6min\n",
      "[CV] END ......max_depth=2, max_features=5, n_estimators=300; total time= 1.4min\n",
      "[CV] END .....max_depth=3, max_features=30, n_estimators=300; total time= 7.9min\n",
      "[CV] END .....max_depth=5, max_features=30, n_estimators=300; total time=11.7min\n",
      "[CV] END .....max_depth=2, max_features=30, n_estimators=300; total time= 5.8min\n",
      "[CV] END .....max_depth=4, max_features=50, n_estimators=300; total time=15.7min\n",
      "[CV] END ......max_depth=3, max_features=5, n_estimators=300; total time= 1.9min\n",
      "[CV] END .....max_depth=3, max_features=50, n_estimators=300; total time=12.7min\n",
      "[CV] END .....max_depth=6, max_features=20, n_estimators=300; total time= 8.1min\n",
      "[CV] END ......max_depth=2, max_features=3, n_estimators=300; total time=  56.9s\n",
      "[CV] END .....max_depth=3, max_features=10, n_estimators=300; total time= 2.9min\n",
      "[CV] END .....max_depth=4, max_features=10, n_estimators=300; total time= 3.6min\n",
      "[CV] END ......max_depth=5, max_features=5, n_estimators=300; total time= 2.4min\n",
      "[CV] END .....max_depth=5, max_features=50, n_estimators=300; total time=16.2min\n"
     ]
    },
    {
     "name": "stderr",
     "output_type": "stream",
     "text": [
      "\r",
      " 25%|>>>>>>>>>>>>>>>>>>>>>>>>>>>>>>>>>>>>>>>>>| 1/4 [33:04<1:39:12, 1984.01s/it]"
     ]
    },
    {
     "name": "stdout",
     "output_type": "stream",
     "text": [
      "Fitting 1 folds for each of 30 candidates, totalling 30 fits\n",
      "[CV] END .....max_depth=2, max_features=50, n_estimators=300; total time= 8.5min\n",
      "[CV] END .....max_depth=5, max_features=20, n_estimators=300; total time= 8.4min\n",
      "[CV] END .....max_depth=2, max_features=20, n_estimators=300; total time= 3.6min\n",
      "[CV] END .....max_depth=4, max_features=20, n_estimators=300; total time= 6.7min\n",
      "[CV] END ......max_depth=6, max_features=3, n_estimators=300; total time= 1.7min\n",
      "[CV] END .....max_depth=6, max_features=10, n_estimators=300; total time= 5.1min\n",
      "[CV] END ......max_depth=2, max_features=5, n_estimators=300; total time= 1.1min\n",
      "[CV] END .....max_depth=3, max_features=30, n_estimators=300; total time= 7.6min\n",
      "[CV] END .....max_depth=5, max_features=30, n_estimators=300; total time=11.4min\n",
      "[CV] END .....max_depth=2, max_features=30, n_estimators=300; total time= 5.2min\n",
      "[CV] END .....max_depth=4, max_features=50, n_estimators=300; total time=15.3min\n",
      "[CV] END ......max_depth=3, max_features=5, n_estimators=300; total time= 1.5min\n",
      "[CV] END .....max_depth=3, max_features=50, n_estimators=300; total time=12.4min\n",
      "[CV] END .....max_depth=6, max_features=20, n_estimators=300; total time= 8.0min\n",
      "[CV] END ......max_depth=3, max_features=3, n_estimators=300; total time= 1.0min\n",
      "[CV] END .....max_depth=3, max_features=20, n_estimators=300; total time= 5.2min\n",
      "[CV] END ......max_depth=5, max_features=3, n_estimators=300; total time= 1.5min\n",
      "[CV] END .....max_depth=5, max_features=10, n_estimators=300; total time= 4.4min\n",
      "[CV] END ......max_depth=6, max_features=5, n_estimators=300; total time= 2.7min\n",
      "[CV] END .....max_depth=6, max_features=30, n_estimators=300; total time=10.4min\n",
      "[CV] END .....max_depth=2, max_features=10, n_estimators=300; total time= 2.4min\n",
      "[CV] END ......max_depth=4, max_features=3, n_estimators=300; total time= 1.2min\n",
      "[CV] END ......max_depth=4, max_features=5, n_estimators=300; total time= 2.0min\n",
      "[CV] END .....max_depth=4, max_features=30, n_estimators=300; total time=10.3min\n",
      "[CV] END .....max_depth=6, max_features=50, n_estimators=300; total time=15.7min\n",
      "[CV] END ......max_depth=2, max_features=3, n_estimators=300; total time=  42.6s\n",
      "[CV] END .....max_depth=3, max_features=10, n_estimators=300; total time= 2.8min\n",
      "[CV] END .....max_depth=4, max_features=10, n_estimators=300; total time= 3.6min\n",
      "[CV] END ......max_depth=5, max_features=5, n_estimators=300; total time= 2.4min\n",
      "[CV] END .....max_depth=5, max_features=50, n_estimators=300; total time=16.1min\n"
     ]
    },
    {
     "name": "stderr",
     "output_type": "stream",
     "text": [
      "\r",
      " 50%|>>>>>>>>>>>>>>>>>>>>>>>>>>>>>>>>>>>>>>>| 2/4 [1:38:55<1:44:43, 3141.54s/it]"
     ]
    },
    {
     "name": "stdout",
     "output_type": "stream",
     "text": [
      "Fitting 1 folds for each of 30 candidates, totalling 30 fits\n",
      "[CV] END .....max_depth=2, max_features=10, n_estimators=300; total time= 2.0min\n",
      "[CV] END ......max_depth=4, max_features=3, n_estimators=300; total time= 1.2min\n",
      "[CV] END ......max_depth=4, max_features=5, n_estimators=300; total time= 1.9min\n",
      "[CV] END .....max_depth=4, max_features=30, n_estimators=300; total time= 9.9min\n",
      "[CV] END .....max_depth=6, max_features=50, n_estimators=300; total time=32.5min\n",
      "[CV] END ......max_depth=2, max_features=3, n_estimators=300; total time=17.2min\n",
      "[CV] END .....max_depth=3, max_features=10, n_estimators=300; total time=18.9min\n",
      "[CV] END .....max_depth=3, max_features=20, n_estimators=300; total time= 5.3min\n",
      "[CV] END .....max_depth=4, max_features=10, n_estimators=300; total time= 4.6min\n",
      "[CV] END .....max_depth=4, max_features=30, n_estimators=300; total time=15.8min\n",
      "[CV] END .....max_depth=5, max_features=20, n_estimators=300; total time=30.0min\n",
      "[CV] END ......max_depth=6, max_features=5, n_estimators=300; total time= 3.0min\n",
      "[CV] END .....max_depth=6, max_features=10, n_estimators=300; total time= 7.5min\n",
      "[CV] END ......max_depth=3, max_features=3, n_estimators=300; total time=21.5min\n",
      "[CV] END .....max_depth=3, max_features=50, n_estimators=300; total time=69.4min\n",
      "[CV] END .....max_depth=2, max_features=20, n_estimators=300; total time=30.8min\n",
      "[CV] END .....max_depth=4, max_features=50, n_estimators=300; total time=90.0min\n",
      "[CV] END ......max_depth=3, max_features=5, n_estimators=300; total time=23.1min\n",
      "[CV] END ......max_depth=4, max_features=3, n_estimators=300; total time= 5.5min\n",
      "[CV] END .....max_depth=4, max_features=20, n_estimators=300; total time=50.7min\n",
      "[CV] END .....max_depth=6, max_features=20, n_estimators=300; total time=43.5min\n",
      "[CV] END .....max_depth=2, max_features=30, n_estimators=300; total time=38.2min\n",
      "[CV] END ......max_depth=5, max_features=5, n_estimators=300; total time=15.9min\n",
      "[CV] END .....max_depth=5, max_features=30, n_estimators=300; total time=68.7min\n",
      "[CV] END ......max_depth=2, max_features=5, n_estimators=300; total time=21.5min\n",
      "[CV] END .....max_depth=3, max_features=30, n_estimators=300; total time=36.1min\n",
      "[CV] END ......max_depth=6, max_features=3, n_estimators=300; total time=26.4min\n",
      "[CV] END .....max_depth=6, max_features=30, n_estimators=300; total time=44.3min\n",
      "[CV] END .....max_depth=2, max_features=50, n_estimators=300; total time=54.4min\n",
      "[CV] END .....max_depth=5, max_features=50, n_estimators=300; total time=75.2min\n",
      "[CV] END .....max_depth=2, max_features=10, n_estimators=300; total time=24.1min\n",
      "[CV] END ......max_depth=4, max_features=5, n_estimators=300; total time=10.1min\n",
      "[CV] END ......max_depth=5, max_features=3, n_estimators=300; total time= 9.8min\n",
      "[CV] END .....max_depth=5, max_features=10, n_estimators=300; total time=41.1min\n",
      "[CV] END ....max_depth=6, max_features=50, n_estimators=300; total time=145.9min\n"
     ]
    },
    {
     "name": "stderr",
     "output_type": "stream",
     "text": [
      "\r",
      " 75%|>>>>>>>>>>>>>>>>>>>>>>>>>>>>>>>>>>>>>>>| 3/4 [6:04:46<2:29:50, 8990.62s/it]"
     ]
    },
    {
     "name": "stdout",
     "output_type": "stream",
     "text": [
      "Fitting 1 folds for each of 30 candidates, totalling 30 fits\n",
      "[CV] END .....max_depth=2, max_features=10, n_estimators=300; total time=21.8min\n",
      "[CV] END ......max_depth=4, max_features=3, n_estimators=300; total time= 3.9min\n",
      "[CV] END ......max_depth=4, max_features=5, n_estimators=300; total time=22.0min\n",
      "[CV] END .....max_depth=4, max_features=50, n_estimators=300; total time=17.5min\n",
      "[CV] END ......max_depth=2, max_features=5, n_estimators=300; total time=19.8min\n",
      "[CV] END .....max_depth=3, max_features=30, n_estimators=300; total time=32.1min\n",
      "[CV] END .....max_depth=5, max_features=30, n_estimators=300; total time=13.4min\n",
      "[CV] END ......max_depth=3, max_features=3, n_estimators=300; total time=19.5min\n",
      "[CV] END .....max_depth=3, max_features=20, n_estimators=300; total time=29.6min\n",
      "[CV] END ......max_depth=5, max_features=3, n_estimators=300; total time= 1.9min\n",
      "[CV] END .....max_depth=5, max_features=20, n_estimators=300; total time=10.1min\n",
      "[CV] END ......max_depth=3, max_features=5, n_estimators=300; total time=20.9min\n",
      "[CV] END .....max_depth=3, max_features=50, n_estimators=300; total time=36.5min\n",
      "[CV] END .....max_depth=6, max_features=20, n_estimators=300; total time= 9.3min\n",
      "[CV] END .....max_depth=2, max_features=50, n_estimators=300; total time=51.0min\n",
      "[CV] END .....max_depth=5, max_features=10, n_estimators=300; total time= 5.2min\n",
      "[CV] END .....max_depth=6, max_features=10, n_estimators=300; total time= 6.1min\n",
      "[CV] END .....max_depth=2, max_features=20, n_estimators=300; total time=26.5min\n",
      "[CV] END .....max_depth=4, max_features=10, n_estimators=300; total time=23.2min\n",
      "[CV] END ......max_depth=5, max_features=5, n_estimators=300; total time= 2.8min\n",
      "[CV] END .....max_depth=5, max_features=50, n_estimators=300; total time=17.6min\n",
      "[CV] END .....max_depth=2, max_features=30, n_estimators=300; total time=47.3min\n",
      "[CV] END .....max_depth=4, max_features=30, n_estimators=300; total time=11.6min\n",
      "[CV] END .....max_depth=6, max_features=30, n_estimators=300; total time=11.5min\n",
      "[CV] END ......max_depth=2, max_features=3, n_estimators=300; total time=18.5min\n",
      "[CV] END .....max_depth=3, max_features=10, n_estimators=300; total time= 8.8min\n",
      "[CV] END .....max_depth=4, max_features=20, n_estimators=300; total time=26.3min\n",
      "[CV] END ......max_depth=6, max_features=3, n_estimators=300; total time= 2.2min\n",
      "[CV] END ......max_depth=6, max_features=5, n_estimators=300; total time= 3.4min\n",
      "[CV] END .....max_depth=6, max_features=50, n_estimators=300; total time=16.4min\n"
     ]
    },
    {
     "name": "stderr",
     "output_type": "stream",
     "text": [
      "100%|>>>>>>>>>>>>>>>>>>>>>>>>>>>>>>>>>>>>>>>>>| 4/4 [7:29:22<00:00, 6740.68s/it]\n"
     ]
    }
   ],
   "source": [
    "# starts training \n",
    "if __name__ == '__main__':\n",
    "    result = []\n",
    "    r2_oos_df = pd.DataFrame()\n",
    "    for year in tqdm(train_end_years, ascii='>>'):\n",
    "        X_train = X_train_dict[year]\n",
    "        y_train = y_train_dict[year]\n",
    "        X_val = X_val_dict[year]\n",
    "        y_val = y_val_dict[year]\n",
    "        X_test = X_test_dict[year]\n",
    "        y_test = y_test_dict[year]\n",
    "        # do the standardization here\n",
    "        tmp_scaler = StandardScaler()\n",
    "        X_train = pd.DataFrame(tmp_scaler.fit_transform(X_train), index=X_train.index, columns=X_train.columns)\n",
    "        X_val = pd.DataFrame(tmp_scaler.transform(X_val), index=X_val.index, columns=X_val.columns)\n",
    "        X_test = pd.DataFrame(tmp_scaler.transform(X_test), index=X_test.index, columns=X_test.columns)\n",
    "        \n",
    "        tmp_mod = RF_Reg(year, X_train, y_train, X_val, y_val, X_test, y_test)\n",
    "        tmp_result, tmp_r2oos_reduction_df = tmp_mod.get_res()\n",
    "        result.append(tmp_result)\n",
    "        r2_oos_df = pd.concat([r2_oos_df, tmp_r2oos_reduction_df])\n",
    "    res_cols = tmp_mod.result_cols"
   ]
  },
  {
   "cell_type": "code",
   "execution_count": 94,
   "metadata": {},
   "outputs": [],
   "source": [
    "\n",
    "result_df = pd.DataFrame()\n",
    "for i in range(len(result)):\n",
    "    result_df = pd.concat([result_df, pd.DataFrame(result[i][0]).T])\n",
    "    result_df.reset_index(inplace=True, drop=True)"
   ]
  },
  {
   "cell_type": "code",
   "execution_count": 95,
   "metadata": {},
   "outputs": [],
   "source": [
    "result_df.columns = res_cols"
   ]
  },
  {
   "cell_type": "code",
   "execution_count": 96,
   "metadata": {},
   "outputs": [],
   "source": [
    "if not os.path.exists('result_data'):\n",
    "    os.makedirs('result_data')"
   ]
  },
  {
   "cell_type": "code",
   "execution_count": 97,
   "metadata": {},
   "outputs": [],
   "source": [
    "result_df.to_pickle('result_data/gbrt_result.pkl')\n",
    "# result_df.to_feather('result_data/gbrt_result.feather')\n",
    "\n",
    "r2_oos_df.to_pickle('result_data/gbrt_r2oos_reduction.pkl')\n",
    "# r2_oos_df.to_feather('result_data/gbrt_r2oos_reduction.feather')\n",
    "r2_oos_df.to_csv('result_data/gbrt_r2oos_reduction.csv')"
   ]
  },
  {
   "cell_type": "code",
   "execution_count": 98,
   "metadata": {},
   "outputs": [],
   "source": [
    "check_pickle = pd.read_pickle('result_data/gbrt_result.pkl')"
   ]
  },
  {
   "cell_type": "markdown",
   "metadata": {},
   "source": [
    "## plot the feature importance of the model"
   ]
  },
  {
   "cell_type": "code",
   "execution_count": 123,
   "metadata": {},
   "outputs": [
    {
     "data": {
      "image/png": "[encoded data removed]",
      "text/plain": [
       "<Figure size 720x1440 with 1 Axes>"
      ]
     },
     "metadata": {},
     "output_type": "display_data"
    }
   ],
   "source": [
    "r2_reduction_mean = r2_oos_df.groupby(level=0)['R2OOS_Normalized'].mean()\n",
    "r2_reduction_mean = r2_reduction_mean.sort_values(ascending=True)\n",
    "plt.figure(figsize=(10, 20))\n",
    "plt.barh(r2_reduction_mean.index, r2_reduction_mean)\n",
    "plt.show()"
   ]
  },
  {
   "cell_type": "code",
   "execution_count": 100,
   "metadata": {},
   "outputs": [
    {
     "data": {
      "text/html": [
       "<div>\n",
       "<style scoped>\n",
       "    .dataframe tbody tr th:only-of-type {\n",
       "        vertical-align: middle;\n",
       "    }\n",
       "\n",
       "    .dataframe tbody tr th {\n",
       "        vertical-align: top;\n",
       "    }\n",
       "\n",
       "    .dataframe thead th {\n",
       "        text-align: right;\n",
       "    }\n",
       "</style>\n",
       "<table border=\"1\" class=\"dataframe\">\n",
       "  <thead>\n",
       "    <tr style=\"text-align: right;\">\n",
       "      <th></th>\n",
       "      <th>R2OOS</th>\n",
       "      <th>R2OOS_Reduction</th>\n",
       "      <th>R2OOS_Normalized</th>\n",
       "    </tr>\n",
       "  </thead>\n",
       "  <tbody>\n",
       "    <tr>\n",
       "      <th>pctacc</th>\n",
       "      <td>0.01842</td>\n",
       "      <td>0.0</td>\n",
       "      <td>0.0</td>\n",
       "    </tr>\n",
       "    <tr>\n",
       "      <th>sue</th>\n",
       "      <td>0.01842</td>\n",
       "      <td>0.0</td>\n",
       "      <td>0.0</td>\n",
       "    </tr>\n",
       "    <tr>\n",
       "      <th>cfp</th>\n",
       "      <td>0.01842</td>\n",
       "      <td>0.0</td>\n",
       "      <td>0.00001</td>\n",
       "    </tr>\n",
       "    <tr>\n",
       "      <th>shrcd</th>\n",
       "      <td>0.018421</td>\n",
       "      <td>0.0</td>\n",
       "      <td>0.000018</td>\n",
       "    </tr>\n",
       "    <tr>\n",
       "      <th>ntis</th>\n",
       "      <td>0.018416</td>\n",
       "      <td>0.000004</td>\n",
       "      <td>0.000469</td>\n",
       "    </tr>\n",
       "    <tr>\n",
       "      <th>...</th>\n",
       "      <td>...</td>\n",
       "      <td>...</td>\n",
       "      <td>...</td>\n",
       "    </tr>\n",
       "    <tr>\n",
       "      <th>rvar_capm</th>\n",
       "      <td>0.022933</td>\n",
       "      <td>0.000937</td>\n",
       "      <td>0.049359</td>\n",
       "    </tr>\n",
       "    <tr>\n",
       "      <th>tbl</th>\n",
       "      <td>0.022924</td>\n",
       "      <td>0.000947</td>\n",
       "      <td>0.049851</td>\n",
       "    </tr>\n",
       "    <tr>\n",
       "      <th>rvar_mean</th>\n",
       "      <td>0.022223</td>\n",
       "      <td>0.001648</td>\n",
       "      <td>0.086771</td>\n",
       "    </tr>\n",
       "    <tr>\n",
       "      <th>b/m</th>\n",
       "      <td>0.02209</td>\n",
       "      <td>0.00178</td>\n",
       "      <td>0.093742</td>\n",
       "    </tr>\n",
       "    <tr>\n",
       "      <th>bm_ia</th>\n",
       "      <td>0.022028</td>\n",
       "      <td>0.001842</td>\n",
       "      <td>0.097008</td>\n",
       "    </tr>\n",
       "  </tbody>\n",
       "</table>\n",
       "<p>280 rows × 3 columns</p>\n",
       "</div>"
      ],
      "text/plain": [
       "              R2OOS R2OOS_Reduction R2OOS_Normalized\n",
       "pctacc      0.01842             0.0              0.0\n",
       "sue         0.01842             0.0              0.0\n",
       "cfp         0.01842             0.0          0.00001\n",
       "shrcd      0.018421             0.0         0.000018\n",
       "ntis       0.018416        0.000004         0.000469\n",
       "...             ...             ...              ...\n",
       "rvar_capm  0.022933        0.000937         0.049359\n",
       "tbl        0.022924        0.000947         0.049851\n",
       "rvar_mean  0.022223        0.001648         0.086771\n",
       "b/m         0.02209         0.00178         0.093742\n",
       "bm_ia      0.022028        0.001842         0.097008\n",
       "\n",
       "[280 rows x 3 columns]"
      ]
     },
     "execution_count": 100,
     "metadata": {},
     "output_type": "execute_result"
    }
   ],
   "source": [
    "r2_oos_df"
   ]
  },
  {
   "cell_type": "code",
   "execution_count": 101,
   "metadata": {},
   "outputs": [
    {
     "data": {
      "text/html": [
       "<div>\n",
       "<style scoped>\n",
       "    .dataframe tbody tr th:only-of-type {\n",
       "        vertical-align: middle;\n",
       "    }\n",
       "\n",
       "    .dataframe tbody tr th {\n",
       "        vertical-align: top;\n",
       "    }\n",
       "\n",
       "    .dataframe thead th {\n",
       "        text-align: right;\n",
       "    }\n",
       "</style>\n",
       "<table border=\"1\" class=\"dataframe\">\n",
       "  <thead>\n",
       "    <tr style=\"text-align: right;\">\n",
       "      <th></th>\n",
       "      <th>year</th>\n",
       "      <th>y_pred</th>\n",
       "      <th>y_real</th>\n",
       "      <th>params</th>\n",
       "      <th>pred_R2_OOS</th>\n",
       "      <th>CV_R2</th>\n",
       "      <th>CV_MSE</th>\n",
       "    </tr>\n",
       "  </thead>\n",
       "  <tbody>\n",
       "    <tr>\n",
       "      <th>0</th>\n",
       "      <td>2003</td>\n",
       "      <td>[0.011635245825119368, 0.010760807861591459, 0...</td>\n",
       "      <td>date\n",
       "2017-01-31    0.068468\n",
       "2017-01-31    0.00...</td>\n",
       "      <td>{'max_depth': 6, 'max_features': 3, 'n_estimat...</td>\n",
       "      <td>0.01842</td>\n",
       "      <td>0.012685</td>\n",
       "      <td>[-0.013582466153691908, -0.013571655559506644,...</td>\n",
       "    </tr>\n",
       "    <tr>\n",
       "      <th>1</th>\n",
       "      <td>2004</td>\n",
       "      <td>[0.014280676212965667, 0.010460815294339322, 0...</td>\n",
       "      <td>date\n",
       "2018-01-31    0.021895\n",
       "2018-01-31   -0.00...</td>\n",
       "      <td>{'max_depth': 6, 'max_features': 3, 'n_estimat...</td>\n",
       "      <td>0.016316</td>\n",
       "      <td>0.00537</td>\n",
       "      <td>[-0.014027206958108905, -0.014016199145651971,...</td>\n",
       "    </tr>\n",
       "    <tr>\n",
       "      <th>2</th>\n",
       "      <td>2005</td>\n",
       "      <td>[0.01628999308505896, 0.017485176765454455, 0....</td>\n",
       "      <td>date\n",
       "2019-01-31    0.108143\n",
       "2019-01-31    0.10...</td>\n",
       "      <td>{'max_depth': 5, 'max_features': 5, 'n_estimat...</td>\n",
       "      <td>0.029852</td>\n",
       "      <td>0.006043</td>\n",
       "      <td>[-0.014109317559740694, -0.014102587141958651,...</td>\n",
       "    </tr>\n",
       "    <tr>\n",
       "      <th>3</th>\n",
       "      <td>2006</td>\n",
       "      <td>[0.013832555926197511, 0.0119095671499815, 0.0...</td>\n",
       "      <td>date\n",
       "2020-01-31   -0.121690\n",
       "2020-01-31    0.12...</td>\n",
       "      <td>{'max_depth': 6, 'max_features': 3, 'n_estimat...</td>\n",
       "      <td>0.02387</td>\n",
       "      <td>0.011349</td>\n",
       "      <td>[-0.014185811313280958, -0.01417850312449379, ...</td>\n",
       "    </tr>\n",
       "  </tbody>\n",
       "</table>\n",
       "</div>"
      ],
      "text/plain": [
       "   year                                             y_pred  \\\n",
       "0  2003  [0.011635245825119368, 0.010760807861591459, 0...   \n",
       "1  2004  [0.014280676212965667, 0.010460815294339322, 0...   \n",
       "2  2005  [0.01628999308505896, 0.017485176765454455, 0....   \n",
       "3  2006  [0.013832555926197511, 0.0119095671499815, 0.0...   \n",
       "\n",
       "                                              y_real  \\\n",
       "0  date\n",
       "2017-01-31    0.068468\n",
       "2017-01-31    0.00...   \n",
       "1  date\n",
       "2018-01-31    0.021895\n",
       "2018-01-31   -0.00...   \n",
       "2  date\n",
       "2019-01-31    0.108143\n",
       "2019-01-31    0.10...   \n",
       "3  date\n",
       "2020-01-31   -0.121690\n",
       "2020-01-31    0.12...   \n",
       "\n",
       "                                              params pred_R2_OOS     CV_R2  \\\n",
       "0  {'max_depth': 6, 'max_features': 3, 'n_estimat...     0.01842  0.012685   \n",
       "1  {'max_depth': 6, 'max_features': 3, 'n_estimat...    0.016316   0.00537   \n",
       "2  {'max_depth': 5, 'max_features': 5, 'n_estimat...    0.029852  0.006043   \n",
       "3  {'max_depth': 6, 'max_features': 3, 'n_estimat...     0.02387  0.011349   \n",
       "\n",
       "                                              CV_MSE  \n",
       "0  [-0.013582466153691908, -0.013571655559506644,...  \n",
       "1  [-0.014027206958108905, -0.014016199145651971,...  \n",
       "2  [-0.014109317559740694, -0.014102587141958651,...  \n",
       "3  [-0.014185811313280958, -0.01417850312449379, ...  "
      ]
     },
     "execution_count": 101,
     "metadata": {},
     "output_type": "execute_result"
    }
   ],
   "source": [
    "result_df"
   ]
  },
  {
   "cell_type": "code",
   "execution_count": 102,
   "metadata": {},
   "outputs": [
    {
     "data": {
      "text/plain": [
       "0.011750    4\n",
       "0.012304    3\n",
       "0.015211    2\n",
       "0.011693    2\n",
       "0.011843    2\n",
       "           ..\n",
       "0.012235    1\n",
       "0.012235    1\n",
       "0.012235    1\n",
       "0.012235    1\n",
       "0.178364    1\n",
       "Length: 29946, dtype: int64"
      ]
     },
     "execution_count": 102,
     "metadata": {},
     "output_type": "execute_result"
    }
   ],
   "source": [
    "pd.DataFrame(result_df['y_pred'][0]).value_counts() # 2003"
   ]
  },
  {
   "cell_type": "code",
   "execution_count": 103,
   "metadata": {},
   "outputs": [
    {
     "data": {
      "text/plain": [
       "0.012851    2\n",
       "0.009883    2\n",
       "0.014417    2\n",
       "0.010282    2\n",
       "0.013973    2\n",
       "           ..\n",
       "0.011906    1\n",
       "0.011906    1\n",
       "0.011906    1\n",
       "0.011906    1\n",
       "0.237468    1\n",
       "Length: 22276, dtype: int64"
      ]
     },
     "execution_count": 103,
     "metadata": {},
     "output_type": "execute_result"
    }
   ],
   "source": [
    "pd.DataFrame(result_df['y_pred'][1]).value_counts() # 2004"
   ]
  },
  {
   "cell_type": "code",
   "execution_count": 104,
   "metadata": {},
   "outputs": [
    {
     "data": {
      "text/plain": [
       "0.012252    2\n",
       "0.012142    2\n",
       "0.015327    2\n",
       "0.012314    2\n",
       "0.013779    2\n",
       "           ..\n",
       "0.012682    1\n",
       "0.012682    1\n",
       "0.012683    1\n",
       "0.012683    1\n",
       "0.160349    1\n",
       "Length: 14635, dtype: int64"
      ]
     },
     "execution_count": 104,
     "metadata": {},
     "output_type": "execute_result"
    }
   ],
   "source": [
    "pd.DataFrame(result_df['y_pred'][2]).value_counts()# 2005"
   ]
  },
  {
   "cell_type": "code",
   "execution_count": 105,
   "metadata": {},
   "outputs": [
    {
     "data": {
      "text/plain": [
       "0.009544    1\n",
       "0.016465    1\n",
       "0.016504    1\n",
       "0.016504    1\n",
       "0.016503    1\n",
       "           ..\n",
       "0.014009    1\n",
       "0.014009    1\n",
       "0.014008    1\n",
       "0.014008    1\n",
       "0.135001    1\n",
       "Length: 7265, dtype: int64"
      ]
     },
     "execution_count": 105,
     "metadata": {},
     "output_type": "execute_result"
    }
   ],
   "source": [
    "pd.DataFrame(result_df['y_pred'][3]).value_counts()# 2006"
   ]
  },
  {
   "cell_type": "code",
   "execution_count": 106,
   "metadata": {},
   "outputs": [],
   "source": [
    "tmp_best_params_series = result_df['params']"
   ]
  },
  {
   "cell_type": "code",
   "execution_count": 107,
   "metadata": {},
   "outputs": [
    {
     "name": "stdout",
     "output_type": "stream",
     "text": [
      "max_depth 6\n",
      "max_features 3\n",
      "n_estimators 300\n",
      "-------------------\n",
      "max_depth 6\n",
      "max_features 3\n",
      "n_estimators 300\n",
      "-------------------\n",
      "max_depth 5\n",
      "max_features 5\n",
      "n_estimators 300\n",
      "-------------------\n",
      "max_depth 6\n",
      "max_features 3\n",
      "n_estimators 300\n",
      "-------------------\n"
     ]
    }
   ],
   "source": [
    "for tmp_best_params in tmp_best_params_series:\n",
    "    for key in tmp_best_params.keys():\n",
    "        print(key, tmp_best_params[key])\n",
    "    print('-------------------')"
   ]
  },
  {
   "cell_type": "code",
   "execution_count": 108,
   "metadata": {},
   "outputs": [
    {
     "name": "stdout",
     "output_type": "stream",
     "text": [
      "0.022114814551757844\n"
     ]
    }
   ],
   "source": [
    "mean_r2oos = np.mean(result_df['pred_R2_OOS'])\n",
    "print(mean_r2oos)"
   ]
  },
  {
   "cell_type": "markdown",
   "metadata": {},
   "source": [
    "# use dm-test to compare models\n",
    "# we could use this package provided by https://github.com/johntwk/Diebold-Mariano-Test"
   ]
  },
  {
   "cell_type": "code",
   "execution_count": null,
   "metadata": {},
   "outputs": [],
   "source": []
  }
 ],
 "metadata": {
  "kernelspec": {
   "display_name": "Python 3 (ipykernel)",
   "language": "python",
   "name": "python3"
  },
  "language_info": {
   "codemirror_mode": {
    "name": "ipython",
    "version": 3
   },
   "file_extension": ".py",
   "mimetype": "text/x-python",
   "name": "python",
   "nbconvert_exporter": "python",
   "pygments_lexer": "ipython3",
   "version": "3.7.11"
  },
  "vscode": {
   "interpreter": {
    "hash": "0a952188e4bab49300a5758bda39ddc90e91f41f35dfe6ea820e496e515be371"
   }
  }
 },
 "nbformat": 4,
 "nbformat_minor": 2
}
