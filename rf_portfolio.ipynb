{
 "cells": [
  {
   "cell_type": "code",
   "execution_count": 1,
   "metadata": {},
   "outputs": [
    {
     "name": "stdout",
     "output_type": "stream",
     "text": [
      "My current directory is : /home/spectre/Desktop/summer_project/Summer-project-ML\n",
      "My directory name is : Summer-project-ML\n",
      "each end year of training set is: [1985 1986 1987 1988]\n"
     ]
    },
    {
     "name": "stderr",
     "output_type": "stream",
     "text": [
      "spliting data:   0%|>>>>>>>>>>| 0/4 [00:00<?, ?it/s]"
     ]
    },
    {
     "name": "stdout",
     "output_type": "stream",
     "text": [
      "train start year is 1972\n",
      "train end year is 1985\n",
      "val start year is 1986\n",
      "val end year is 1991\n",
      "test start year is 1992\n",
      "test end year is 2017\n"
     ]
    },
    {
     "name": "stderr",
     "output_type": "stream",
     "text": [
      "spliting data:  25%|>>>>>>>>>>| 1/4 [00:00<00:02,  1.30it/s]"
     ]
    },
    {
     "name": "stdout",
     "output_type": "stream",
     "text": [
      "train start year is 1973\n",
      "train end year is 1986\n",
      "val start year is 1987\n",
      "val end year is 1992\n",
      "test start year is 1993\n",
      "test end year is 2018\n"
     ]
    },
    {
     "name": "stderr",
     "output_type": "stream",
     "text": [
      "spliting data:  50%|>>>>>>>>>>| 2/4 [00:01<00:01,  1.31it/s]"
     ]
    },
    {
     "name": "stdout",
     "output_type": "stream",
     "text": [
      "train start year is 1974\n",
      "train end year is 1987\n",
      "val start year is 1988\n",
      "val end year is 1993\n",
      "test start year is 1994\n",
      "test end year is 2019\n"
     ]
    },
    {
     "name": "stderr",
     "output_type": "stream",
     "text": [
      "spliting data:  75%|>>>>>>>>>>| 3/4 [00:02<00:00,  1.31it/s]"
     ]
    },
    {
     "name": "stdout",
     "output_type": "stream",
     "text": [
      "train start year is 1975\n",
      "train end year is 1988\n",
      "val start year is 1989\n",
      "val end year is 1994\n",
      "test start year is 1995\n",
      "test end year is 2020\n"
     ]
    },
    {
     "name": "stderr",
     "output_type": "stream",
     "text": [
      "spliting data: 100%|>>>>>>>>>>| 4/4 [00:03<00:00,  1.18it/s]\n"
     ]
    },
    {
     "name": "stdout",
     "output_type": "stream",
     "text": [
      "DatetimeIndex(['1992-01-31', '1992-01-31', '1992-01-31', '1992-01-31',\n",
      "               '1992-01-31', '1992-01-31', '1992-01-31', '1992-01-31',\n",
      "               '1992-01-31', '1992-01-31',\n",
      "               ...\n",
      "               '2017-12-31', '2017-12-31', '2017-12-31', '2017-12-31',\n",
      "               '2017-12-31', '2017-12-31', '2017-12-31', '2017-12-31',\n",
      "               '2017-12-31', '2017-12-31'],\n",
      "              dtype='datetime64[ns]', name='date', length=238048, freq=None)\n",
      "DatetimeIndex(['1993-01-31', '1993-01-31', '1993-01-31', '1993-01-31',\n",
      "               '1993-01-31', '1993-01-31', '1993-01-31', '1993-01-31',\n",
      "               '1993-01-31', '1993-01-31',\n",
      "               ...\n",
      "               '2018-12-31', '2018-12-31', '2018-12-31', '2018-12-31',\n",
      "               '2018-12-31', '2018-12-31', '2018-12-31', '2018-12-31',\n",
      "               '2018-12-31', '2018-12-31'],\n",
      "              dtype='datetime64[ns]', name='date', length=235983, freq=None)\n",
      "DatetimeIndex(['1994-01-31', '1994-01-31', '1994-01-31', '1994-01-31',\n",
      "               '1994-01-31', '1994-01-31', '1994-01-31', '1994-01-31',\n",
      "               '1994-01-31', '1994-01-31',\n",
      "               ...\n",
      "               '2019-12-31', '2019-12-31', '2019-12-31', '2019-12-31',\n",
      "               '2019-12-31', '2019-12-31', '2019-12-31', '2019-12-31',\n",
      "               '2019-12-31', '2019-12-31'],\n",
      "              dtype='datetime64[ns]', name='date', length=233541, freq=None)\n",
      "DatetimeIndex(['1995-01-31', '1995-01-31', '1995-01-31', '1995-01-31',\n",
      "               '1995-01-31', '1995-01-31', '1995-01-31', '1995-01-31',\n",
      "               '1995-01-31', '1995-01-31',\n",
      "               ...\n",
      "               '2020-12-31', '2020-12-31', '2020-12-31', '2020-12-31',\n",
      "               '2020-12-31', '2020-12-31', '2020-12-31', '2020-12-31',\n",
      "               '2020-12-31', '2020-12-31'],\n",
      "              dtype='datetime64[ns]', name='date', length=230702, freq=None)\n"
     ]
    }
   ],
   "source": [
    "%run result_preprocessing.ipynb"
   ]
  },
  {
   "cell_type": "code",
   "execution_count": 2,
   "metadata": {},
   "outputs": [],
   "source": [
    "# delete all the unnecessary data\n",
    "del(each_month_permno_num)\n",
    "del(element)\n",
    "del(features_list)\n",
    "del(gbrt_pred_df_list)\n",
    "del(gbrt_real_df_list)\n",
    "del(gbrt_result_df)\n",
    "del(interaction_table)\n",
    "del(macro_df)\n",
    "del(macro_features)\n",
    "del(original_features_list)\n",
    "del(permno_list)\n",
    "del(permno_test_dict)\n",
    "del(permno_total)\n",
    "del(rf_result_df)\n",
    "del(tmp_y_test)\n",
    "del(remove_list)\n",
    "del(raw_df)\n",
    "del(new_features_list)\n",
    "del(new_total_df)\n",
    "del(list_to_remove)\n",
    "del(captured)\n",
    "del(rf_pred_df_list)\n",
    "del(rf_real_df_list)\n",
    "del(table_for_interaction)\n",
    "del(total_df)\n",
    "del(X_test_dict)\n",
    "del(X_total)\n",
    "del(X_train_dict)\n",
    "del(X_val_dict)\n",
    "del(y_test_dict)\n",
    "del(y_total)\n",
    "del(y_train_dict)\n",
    "del(y_val_dict)\n",
    "del(single_features)"
   ]
  },
  {
   "cell_type": "code",
   "execution_count": 3,
   "metadata": {},
   "outputs": [],
   "source": [
    "trading_cost = 0.003"
   ]
  },
  {
   "cell_type": "code",
   "execution_count": 4,
   "metadata": {},
   "outputs": [
    {
     "data": {
      "text/html": [
       "<div>\n",
       "<style scoped>\n",
       "    .dataframe tbody tr th:only-of-type {\n",
       "        vertical-align: middle;\n",
       "    }\n",
       "\n",
       "    .dataframe tbody tr th {\n",
       "        vertical-align: top;\n",
       "    }\n",
       "\n",
       "    .dataframe thead th {\n",
       "        text-align: right;\n",
       "    }\n",
       "</style>\n",
       "<table border=\"1\" class=\"dataframe\">\n",
       "  <thead>\n",
       "    <tr style=\"text-align: right;\">\n",
       "      <th></th>\n",
       "      <th>date</th>\n",
       "      <th>permno</th>\n",
       "      <th>ret_1985</th>\n",
       "      <th>ret_1986</th>\n",
       "      <th>ret_1987</th>\n",
       "      <th>ret_1988</th>\n",
       "      <th>ret_ave</th>\n",
       "    </tr>\n",
       "  </thead>\n",
       "  <tbody>\n",
       "    <tr>\n",
       "      <th>0</th>\n",
       "      <td>1992-01-31</td>\n",
       "      <td>18921</td>\n",
       "      <td>0.014640</td>\n",
       "      <td>NaN</td>\n",
       "      <td>NaN</td>\n",
       "      <td>NaN</td>\n",
       "      <td>0.014640</td>\n",
       "    </tr>\n",
       "    <tr>\n",
       "      <th>1</th>\n",
       "      <td>1992-01-31</td>\n",
       "      <td>24942</td>\n",
       "      <td>0.011967</td>\n",
       "      <td>NaN</td>\n",
       "      <td>NaN</td>\n",
       "      <td>NaN</td>\n",
       "      <td>0.011967</td>\n",
       "    </tr>\n",
       "    <tr>\n",
       "      <th>2</th>\n",
       "      <td>1992-01-31</td>\n",
       "      <td>46228</td>\n",
       "      <td>0.020178</td>\n",
       "      <td>NaN</td>\n",
       "      <td>NaN</td>\n",
       "      <td>NaN</td>\n",
       "      <td>0.020178</td>\n",
       "    </tr>\n",
       "    <tr>\n",
       "      <th>3</th>\n",
       "      <td>1992-01-31</td>\n",
       "      <td>14154</td>\n",
       "      <td>0.022688</td>\n",
       "      <td>NaN</td>\n",
       "      <td>NaN</td>\n",
       "      <td>NaN</td>\n",
       "      <td>0.022688</td>\n",
       "    </tr>\n",
       "    <tr>\n",
       "      <th>4</th>\n",
       "      <td>1992-01-31</td>\n",
       "      <td>91380</td>\n",
       "      <td>0.014422</td>\n",
       "      <td>NaN</td>\n",
       "      <td>NaN</td>\n",
       "      <td>NaN</td>\n",
       "      <td>0.014422</td>\n",
       "    </tr>\n",
       "    <tr>\n",
       "      <th>...</th>\n",
       "      <td>...</td>\n",
       "      <td>...</td>\n",
       "      <td>...</td>\n",
       "      <td>...</td>\n",
       "      <td>...</td>\n",
       "      <td>...</td>\n",
       "      <td>...</td>\n",
       "    </tr>\n",
       "    <tr>\n",
       "      <th>260338</th>\n",
       "      <td>2020-12-31</td>\n",
       "      <td>60986</td>\n",
       "      <td>NaN</td>\n",
       "      <td>NaN</td>\n",
       "      <td>NaN</td>\n",
       "      <td>0.023059</td>\n",
       "      <td>0.023059</td>\n",
       "    </tr>\n",
       "    <tr>\n",
       "      <th>260339</th>\n",
       "      <td>2020-12-31</td>\n",
       "      <td>21207</td>\n",
       "      <td>NaN</td>\n",
       "      <td>NaN</td>\n",
       "      <td>NaN</td>\n",
       "      <td>0.021008</td>\n",
       "      <td>0.021008</td>\n",
       "    </tr>\n",
       "    <tr>\n",
       "      <th>260340</th>\n",
       "      <td>2020-12-31</td>\n",
       "      <td>57665</td>\n",
       "      <td>NaN</td>\n",
       "      <td>NaN</td>\n",
       "      <td>NaN</td>\n",
       "      <td>0.018508</td>\n",
       "      <td>0.018508</td>\n",
       "    </tr>\n",
       "    <tr>\n",
       "      <th>260341</th>\n",
       "      <td>2020-12-31</td>\n",
       "      <td>57817</td>\n",
       "      <td>NaN</td>\n",
       "      <td>NaN</td>\n",
       "      <td>NaN</td>\n",
       "      <td>0.022357</td>\n",
       "      <td>0.022357</td>\n",
       "    </tr>\n",
       "    <tr>\n",
       "      <th>260342</th>\n",
       "      <td>2020-12-31</td>\n",
       "      <td>13168</td>\n",
       "      <td>NaN</td>\n",
       "      <td>NaN</td>\n",
       "      <td>NaN</td>\n",
       "      <td>0.023975</td>\n",
       "      <td>0.023975</td>\n",
       "    </tr>\n",
       "  </tbody>\n",
       "</table>\n",
       "<p>260343 rows × 7 columns</p>\n",
       "</div>"
      ],
      "text/plain": [
       "             date  permno  ret_1985  ret_1986  ret_1987  ret_1988   ret_ave\n",
       "0      1992-01-31   18921  0.014640       NaN       NaN       NaN  0.014640\n",
       "1      1992-01-31   24942  0.011967       NaN       NaN       NaN  0.011967\n",
       "2      1992-01-31   46228  0.020178       NaN       NaN       NaN  0.020178\n",
       "3      1992-01-31   14154  0.022688       NaN       NaN       NaN  0.022688\n",
       "4      1992-01-31   91380  0.014422       NaN       NaN       NaN  0.014422\n",
       "...           ...     ...       ...       ...       ...       ...       ...\n",
       "260338 2020-12-31   60986       NaN       NaN       NaN  0.023059  0.023059\n",
       "260339 2020-12-31   21207       NaN       NaN       NaN  0.021008  0.021008\n",
       "260340 2020-12-31   57665       NaN       NaN       NaN  0.018508  0.018508\n",
       "260341 2020-12-31   57817       NaN       NaN       NaN  0.022357  0.022357\n",
       "260342 2020-12-31   13168       NaN       NaN       NaN  0.023975  0.023975\n",
       "\n",
       "[260343 rows x 7 columns]"
      ]
     },
     "execution_count": 4,
     "metadata": {},
     "output_type": "execute_result"
    }
   ],
   "source": [
    "merged_pred_df"
   ]
  },
  {
   "cell_type": "code",
   "execution_count": 5,
   "metadata": {},
   "outputs": [
    {
     "data": {
      "text/html": [
       "<div>\n",
       "<style scoped>\n",
       "    .dataframe tbody tr th:only-of-type {\n",
       "        vertical-align: middle;\n",
       "    }\n",
       "\n",
       "    .dataframe tbody tr th {\n",
       "        vertical-align: top;\n",
       "    }\n",
       "\n",
       "    .dataframe thead th {\n",
       "        text-align: right;\n",
       "    }\n",
       "</style>\n",
       "<table border=\"1\" class=\"dataframe\">\n",
       "  <thead>\n",
       "    <tr style=\"text-align: right;\">\n",
       "      <th></th>\n",
       "      <th>permno</th>\n",
       "      <th>ret_ave</th>\n",
       "    </tr>\n",
       "    <tr>\n",
       "      <th>date</th>\n",
       "      <th></th>\n",
       "      <th></th>\n",
       "    </tr>\n",
       "  </thead>\n",
       "  <tbody>\n",
       "    <tr>\n",
       "      <th>1992-01-31</th>\n",
       "      <td>18921</td>\n",
       "      <td>0.014640</td>\n",
       "    </tr>\n",
       "    <tr>\n",
       "      <th>1992-01-31</th>\n",
       "      <td>24942</td>\n",
       "      <td>0.011967</td>\n",
       "    </tr>\n",
       "    <tr>\n",
       "      <th>1992-01-31</th>\n",
       "      <td>46228</td>\n",
       "      <td>0.020178</td>\n",
       "    </tr>\n",
       "    <tr>\n",
       "      <th>1992-01-31</th>\n",
       "      <td>14154</td>\n",
       "      <td>0.022688</td>\n",
       "    </tr>\n",
       "    <tr>\n",
       "      <th>1992-01-31</th>\n",
       "      <td>91380</td>\n",
       "      <td>0.014422</td>\n",
       "    </tr>\n",
       "    <tr>\n",
       "      <th>...</th>\n",
       "      <td>...</td>\n",
       "      <td>...</td>\n",
       "    </tr>\n",
       "    <tr>\n",
       "      <th>2020-12-31</th>\n",
       "      <td>60986</td>\n",
       "      <td>0.023059</td>\n",
       "    </tr>\n",
       "    <tr>\n",
       "      <th>2020-12-31</th>\n",
       "      <td>21207</td>\n",
       "      <td>0.021008</td>\n",
       "    </tr>\n",
       "    <tr>\n",
       "      <th>2020-12-31</th>\n",
       "      <td>57665</td>\n",
       "      <td>0.018508</td>\n",
       "    </tr>\n",
       "    <tr>\n",
       "      <th>2020-12-31</th>\n",
       "      <td>57817</td>\n",
       "      <td>0.022357</td>\n",
       "    </tr>\n",
       "    <tr>\n",
       "      <th>2020-12-31</th>\n",
       "      <td>13168</td>\n",
       "      <td>0.023975</td>\n",
       "    </tr>\n",
       "  </tbody>\n",
       "</table>\n",
       "<p>260343 rows × 2 columns</p>\n",
       "</div>"
      ],
      "text/plain": [
       "            permno   ret_ave\n",
       "date                        \n",
       "1992-01-31   18921  0.014640\n",
       "1992-01-31   24942  0.011967\n",
       "1992-01-31   46228  0.020178\n",
       "1992-01-31   14154  0.022688\n",
       "1992-01-31   91380  0.014422\n",
       "...            ...       ...\n",
       "2020-12-31   60986  0.023059\n",
       "2020-12-31   21207  0.021008\n",
       "2020-12-31   57665  0.018508\n",
       "2020-12-31   57817  0.022357\n",
       "2020-12-31   13168  0.023975\n",
       "\n",
       "[260343 rows x 2 columns]"
      ]
     },
     "execution_count": 5,
     "metadata": {},
     "output_type": "execute_result"
    }
   ],
   "source": [
    "pred_ave_ret_df = merged_pred_df[['date', 'permno', 'ret_ave']]\n",
    "pred_ave_ret_df.set_index('date', inplace=True)\n",
    "pred_ave_ret_df"
   ]
  },
  {
   "cell_type": "code",
   "execution_count": 62,
   "metadata": {},
   "outputs": [
    {
     "data": {
      "text/plain": [
       "260343"
      ]
     },
     "execution_count": 62,
     "metadata": {},
     "output_type": "execute_result"
    }
   ],
   "source": [
    "# quick chec\n",
    "pred_ave_ret_df.ret_ave.nunique()"
   ]
  },
  {
   "cell_type": "markdown",
   "metadata": {},
   "source": [
    "*download the data of s&p500*"
   ]
  },
  {
   "cell_type": "code",
   "execution_count": 26,
   "metadata": {},
   "outputs": [
    {
     "name": "stdout",
     "output_type": "stream",
     "text": [
      "[*********************100%***********************]  1 of 1 completed\n"
     ]
    }
   ],
   "source": [
    "#download s&p500 data from yahoo finance\n",
    "import yfinance\n",
    "\n",
    "sp500_data = yfinance.download(tickers = \"^GSPC\", start = \"1991-12-31\", end = \"2021-01-01\", interval = \"1d\")"
   ]
  },
  {
   "cell_type": "code",
   "execution_count": 27,
   "metadata": {},
   "outputs": [
    {
     "data": {
      "text/html": [
       "<div>\n",
       "<style scoped>\n",
       "    .dataframe tbody tr th:only-of-type {\n",
       "        vertical-align: middle;\n",
       "    }\n",
       "\n",
       "    .dataframe tbody tr th {\n",
       "        vertical-align: top;\n",
       "    }\n",
       "\n",
       "    .dataframe thead th {\n",
       "        text-align: right;\n",
       "    }\n",
       "</style>\n",
       "<table border=\"1\" class=\"dataframe\">\n",
       "  <thead>\n",
       "    <tr style=\"text-align: right;\">\n",
       "      <th></th>\n",
       "      <th>Open</th>\n",
       "      <th>High</th>\n",
       "      <th>Low</th>\n",
       "      <th>Close</th>\n",
       "      <th>Adj Close</th>\n",
       "      <th>Volume</th>\n",
       "    </tr>\n",
       "    <tr>\n",
       "      <th>Date</th>\n",
       "      <th></th>\n",
       "      <th></th>\n",
       "      <th></th>\n",
       "      <th></th>\n",
       "      <th></th>\n",
       "      <th></th>\n",
       "    </tr>\n",
       "  </thead>\n",
       "  <tbody>\n",
       "    <tr>\n",
       "      <th>1991-12-31</th>\n",
       "      <td>415.140015</td>\n",
       "      <td>418.320007</td>\n",
       "      <td>412.730011</td>\n",
       "      <td>417.089996</td>\n",
       "      <td>417.089996</td>\n",
       "      <td>247080000</td>\n",
       "    </tr>\n",
       "    <tr>\n",
       "      <th>1992-01-02</th>\n",
       "      <td>417.029999</td>\n",
       "      <td>417.269989</td>\n",
       "      <td>411.040009</td>\n",
       "      <td>417.260010</td>\n",
       "      <td>417.260010</td>\n",
       "      <td>207570000</td>\n",
       "    </tr>\n",
       "    <tr>\n",
       "      <th>1992-01-03</th>\n",
       "      <td>417.269989</td>\n",
       "      <td>419.790009</td>\n",
       "      <td>416.160004</td>\n",
       "      <td>419.339996</td>\n",
       "      <td>419.339996</td>\n",
       "      <td>224270000</td>\n",
       "    </tr>\n",
       "    <tr>\n",
       "      <th>1992-01-06</th>\n",
       "      <td>419.309998</td>\n",
       "      <td>419.440002</td>\n",
       "      <td>416.920013</td>\n",
       "      <td>417.959991</td>\n",
       "      <td>417.959991</td>\n",
       "      <td>251210000</td>\n",
       "    </tr>\n",
       "    <tr>\n",
       "      <th>1992-01-07</th>\n",
       "      <td>417.959991</td>\n",
       "      <td>417.959991</td>\n",
       "      <td>415.200012</td>\n",
       "      <td>417.399994</td>\n",
       "      <td>417.399994</td>\n",
       "      <td>252780000</td>\n",
       "    </tr>\n",
       "    <tr>\n",
       "      <th>...</th>\n",
       "      <td>...</td>\n",
       "      <td>...</td>\n",
       "      <td>...</td>\n",
       "      <td>...</td>\n",
       "      <td>...</td>\n",
       "      <td>...</td>\n",
       "    </tr>\n",
       "    <tr>\n",
       "      <th>2020-12-24</th>\n",
       "      <td>3694.030029</td>\n",
       "      <td>3703.820068</td>\n",
       "      <td>3689.320068</td>\n",
       "      <td>3703.060059</td>\n",
       "      <td>3703.060059</td>\n",
       "      <td>1885090000</td>\n",
       "    </tr>\n",
       "    <tr>\n",
       "      <th>2020-12-28</th>\n",
       "      <td>3723.030029</td>\n",
       "      <td>3740.510010</td>\n",
       "      <td>3723.030029</td>\n",
       "      <td>3735.360107</td>\n",
       "      <td>3735.360107</td>\n",
       "      <td>3527460000</td>\n",
       "    </tr>\n",
       "    <tr>\n",
       "      <th>2020-12-29</th>\n",
       "      <td>3750.010010</td>\n",
       "      <td>3756.120117</td>\n",
       "      <td>3723.310059</td>\n",
       "      <td>3727.040039</td>\n",
       "      <td>3727.040039</td>\n",
       "      <td>3387030000</td>\n",
       "    </tr>\n",
       "    <tr>\n",
       "      <th>2020-12-30</th>\n",
       "      <td>3736.189941</td>\n",
       "      <td>3744.629883</td>\n",
       "      <td>3730.209961</td>\n",
       "      <td>3732.040039</td>\n",
       "      <td>3732.040039</td>\n",
       "      <td>3145200000</td>\n",
       "    </tr>\n",
       "    <tr>\n",
       "      <th>2020-12-31</th>\n",
       "      <td>3733.270020</td>\n",
       "      <td>3760.199951</td>\n",
       "      <td>3726.879883</td>\n",
       "      <td>3756.070068</td>\n",
       "      <td>3756.070068</td>\n",
       "      <td>3172510000</td>\n",
       "    </tr>\n",
       "  </tbody>\n",
       "</table>\n",
       "<p>7307 rows × 6 columns</p>\n",
       "</div>"
      ],
      "text/plain": [
       "                   Open         High          Low        Close    Adj Close  \\\n",
       "Date                                                                          \n",
       "1991-12-31   415.140015   418.320007   412.730011   417.089996   417.089996   \n",
       "1992-01-02   417.029999   417.269989   411.040009   417.260010   417.260010   \n",
       "1992-01-03   417.269989   419.790009   416.160004   419.339996   419.339996   \n",
       "1992-01-06   419.309998   419.440002   416.920013   417.959991   417.959991   \n",
       "1992-01-07   417.959991   417.959991   415.200012   417.399994   417.399994   \n",
       "...                 ...          ...          ...          ...          ...   \n",
       "2020-12-24  3694.030029  3703.820068  3689.320068  3703.060059  3703.060059   \n",
       "2020-12-28  3723.030029  3740.510010  3723.030029  3735.360107  3735.360107   \n",
       "2020-12-29  3750.010010  3756.120117  3723.310059  3727.040039  3727.040039   \n",
       "2020-12-30  3736.189941  3744.629883  3730.209961  3732.040039  3732.040039   \n",
       "2020-12-31  3733.270020  3760.199951  3726.879883  3756.070068  3756.070068   \n",
       "\n",
       "                Volume  \n",
       "Date                    \n",
       "1991-12-31   247080000  \n",
       "1992-01-02   207570000  \n",
       "1992-01-03   224270000  \n",
       "1992-01-06   251210000  \n",
       "1992-01-07   252780000  \n",
       "...                ...  \n",
       "2020-12-24  1885090000  \n",
       "2020-12-28  3527460000  \n",
       "2020-12-29  3387030000  \n",
       "2020-12-30  3145200000  \n",
       "2020-12-31  3172510000  \n",
       "\n",
       "[7307 rows x 6 columns]"
      ]
     },
     "execution_count": 27,
     "metadata": {},
     "output_type": "execute_result"
    }
   ],
   "source": [
    "sp500_data"
   ]
  },
  {
   "cell_type": "code",
   "execution_count": 50,
   "metadata": {},
   "outputs": [],
   "source": [
    "# monthly return for s&p500\n",
    "sp500_m_adj_close = sp500_data['Adj Close'].resample('M').ffill()\n",
    "sp500_m_ret = sp500_m_adj_close.pct_change()[1:]"
   ]
  },
  {
   "cell_type": "code",
   "execution_count": 51,
   "metadata": {},
   "outputs": [
    {
     "data": {
      "text/plain": [
       "Date\n",
       "1992-01-31   -0.019924\n",
       "1992-02-29    0.009590\n",
       "1992-03-31   -0.021832\n",
       "1992-04-30    0.027893\n",
       "1992-05-31    0.000964\n",
       "                ...   \n",
       "2020-08-31    0.070065\n",
       "2020-09-30   -0.039228\n",
       "2020-10-31   -0.027666\n",
       "2020-11-30    0.107546\n",
       "2020-12-31    0.037121\n",
       "Freq: M, Name: Adj Close, Length: 348, dtype: float64"
      ]
     },
     "execution_count": 51,
     "metadata": {},
     "output_type": "execute_result"
    }
   ],
   "source": [
    "sp500_m_ret"
   ]
  },
  {
   "cell_type": "markdown",
   "metadata": {},
   "source": [
    "*for the long part: we put equal weigh on the top 50 permnos that have the biggest average return*\n",
    "\n",
    "*for the short part: we put equal weigh on the bottom 50 permnos that have the smallest average return*"
   ]
  },
  {
   "cell_type": "code",
   "execution_count": 9,
   "metadata": {},
   "outputs": [],
   "source": [
    "long_ports = pred_ave_ret_df.groupby('date').apply(lambda x: x.sort_values('ret_ave', ascending=False)).groupby('date').head(50)\n",
    "short_ports = pred_ave_ret_df.groupby('date').apply(lambda x: x.sort_values('ret_ave', ascending=True)).groupby('date').head(50)"
   ]
  },
  {
   "cell_type": "code",
   "execution_count": 11,
   "metadata": {},
   "outputs": [
    {
     "data": {
      "text/html": [
       "<div>\n",
       "<style scoped>\n",
       "    .dataframe tbody tr th:only-of-type {\n",
       "        vertical-align: middle;\n",
       "    }\n",
       "\n",
       "    .dataframe tbody tr th {\n",
       "        vertical-align: top;\n",
       "    }\n",
       "\n",
       "    .dataframe thead th {\n",
       "        text-align: right;\n",
       "    }\n",
       "</style>\n",
       "<table border=\"1\" class=\"dataframe\">\n",
       "  <thead>\n",
       "    <tr style=\"text-align: right;\">\n",
       "      <th></th>\n",
       "      <th>permno</th>\n",
       "      <th>ret_ave</th>\n",
       "    </tr>\n",
       "    <tr>\n",
       "      <th>date</th>\n",
       "      <th></th>\n",
       "      <th></th>\n",
       "    </tr>\n",
       "  </thead>\n",
       "  <tbody>\n",
       "    <tr>\n",
       "      <th>1992-01-31</th>\n",
       "      <td>18278</td>\n",
       "      <td>0.035369</td>\n",
       "    </tr>\n",
       "    <tr>\n",
       "      <th>1992-01-31</th>\n",
       "      <td>13290</td>\n",
       "      <td>0.032464</td>\n",
       "    </tr>\n",
       "    <tr>\n",
       "      <th>1992-01-31</th>\n",
       "      <td>48565</td>\n",
       "      <td>0.029432</td>\n",
       "    </tr>\n",
       "    <tr>\n",
       "      <th>1992-01-31</th>\n",
       "      <td>54447</td>\n",
       "      <td>0.029139</td>\n",
       "    </tr>\n",
       "    <tr>\n",
       "      <th>1992-01-31</th>\n",
       "      <td>41515</td>\n",
       "      <td>0.028582</td>\n",
       "    </tr>\n",
       "    <tr>\n",
       "      <th>...</th>\n",
       "      <td>...</td>\n",
       "      <td>...</td>\n",
       "    </tr>\n",
       "    <tr>\n",
       "      <th>2020-12-31</th>\n",
       "      <td>71175</td>\n",
       "      <td>0.026044</td>\n",
       "    </tr>\n",
       "    <tr>\n",
       "      <th>2020-12-31</th>\n",
       "      <td>75573</td>\n",
       "      <td>0.025982</td>\n",
       "    </tr>\n",
       "    <tr>\n",
       "      <th>2020-12-31</th>\n",
       "      <td>84032</td>\n",
       "      <td>0.025947</td>\n",
       "    </tr>\n",
       "    <tr>\n",
       "      <th>2020-12-31</th>\n",
       "      <td>46886</td>\n",
       "      <td>0.025912</td>\n",
       "    </tr>\n",
       "    <tr>\n",
       "      <th>2020-12-31</th>\n",
       "      <td>84519</td>\n",
       "      <td>0.025814</td>\n",
       "    </tr>\n",
       "  </tbody>\n",
       "</table>\n",
       "<p>17400 rows × 2 columns</p>\n",
       "</div>"
      ],
      "text/plain": [
       "            permno   ret_ave\n",
       "date                        \n",
       "1992-01-31   18278  0.035369\n",
       "1992-01-31   13290  0.032464\n",
       "1992-01-31   48565  0.029432\n",
       "1992-01-31   54447  0.029139\n",
       "1992-01-31   41515  0.028582\n",
       "...            ...       ...\n",
       "2020-12-31   71175  0.026044\n",
       "2020-12-31   75573  0.025982\n",
       "2020-12-31   84032  0.025947\n",
       "2020-12-31   46886  0.025912\n",
       "2020-12-31   84519  0.025814\n",
       "\n",
       "[17400 rows x 2 columns]"
      ]
     },
     "execution_count": 11,
     "metadata": {},
     "output_type": "execute_result"
    }
   ],
   "source": [
    "long_ports"
   ]
  },
  {
   "cell_type": "markdown",
   "metadata": {},
   "source": [
    "calculate the monthly return"
   ]
  },
  {
   "cell_type": "code",
   "execution_count": 52,
   "metadata": {},
   "outputs": [],
   "source": [
    "long_ports_ret = long_ports.groupby('date')['ret_ave'].apply('mean')"
   ]
  },
  {
   "cell_type": "code",
   "execution_count": 53,
   "metadata": {},
   "outputs": [
    {
     "data": {
      "text/plain": [
       "date\n",
       "1992-01-31    0.023750\n",
       "1992-02-29    0.023852\n",
       "1992-03-31    0.022463\n",
       "1992-04-30    0.022629\n",
       "1992-05-31    0.022068\n",
       "                ...   \n",
       "2020-08-31    0.033137\n",
       "2020-09-30    0.031550\n",
       "2020-10-31    0.029618\n",
       "2020-11-30    0.031509\n",
       "2020-12-31    0.030380\n",
       "Name: ret_ave, Length: 348, dtype: float64"
      ]
     },
     "execution_count": 53,
     "metadata": {},
     "output_type": "execute_result"
    }
   ],
   "source": [
    "long_ports_ret"
   ]
  },
  {
   "cell_type": "code",
   "execution_count": 63,
   "metadata": {},
   "outputs": [],
   "source": [
    "short_ports_ret = short_ports.groupby('date')['ret_ave'].apply('mean')*(-1)"
   ]
  },
  {
   "cell_type": "code",
   "execution_count": 64,
   "metadata": {},
   "outputs": [
    {
     "data": {
      "text/plain": [
       "date\n",
       "1992-01-31   -0.010991\n",
       "1992-02-29   -0.010973\n",
       "1992-03-31   -0.010638\n",
       "1992-04-30   -0.010616\n",
       "1992-05-31   -0.010877\n",
       "                ...   \n",
       "2020-08-31   -0.014423\n",
       "2020-09-30    0.001719\n",
       "2020-10-31   -0.002464\n",
       "2020-11-30   -0.007553\n",
       "2020-12-31   -0.013005\n",
       "Name: ret_ave, Length: 348, dtype: float64"
      ]
     },
     "execution_count": 64,
     "metadata": {},
     "output_type": "execute_result"
    }
   ],
   "source": [
    "short_ports_ret"
   ]
  },
  {
   "cell_type": "code",
   "execution_count": 76,
   "metadata": {},
   "outputs": [],
   "source": [
    "long_short_ports_ret = (long_ports_ret + short_ports_ret)/2"
   ]
  },
  {
   "cell_type": "markdown",
   "metadata": {},
   "source": [
    "quick check"
   ]
  },
  {
   "cell_type": "code",
   "execution_count": 65,
   "metadata": {},
   "outputs": [
    {
     "data": {
      "text/plain": [
       "0"
      ]
     },
     "execution_count": 65,
     "metadata": {},
     "output_type": "execute_result"
    }
   ],
   "source": [
    "long_ports_ret.isnull().sum()"
   ]
  },
  {
   "cell_type": "code",
   "execution_count": 66,
   "metadata": {},
   "outputs": [
    {
     "data": {
      "text/plain": [
       "0"
      ]
     },
     "execution_count": 66,
     "metadata": {},
     "output_type": "execute_result"
    }
   ],
   "source": [
    "short_ports_ret.isnull().sum()"
   ]
  },
  {
   "cell_type": "code",
   "execution_count": 67,
   "metadata": {},
   "outputs": [
    {
     "data": {
      "text/plain": [
       "0"
      ]
     },
     "execution_count": 67,
     "metadata": {},
     "output_type": "execute_result"
    }
   ],
   "source": [
    "sp500_m_ret.isnull().sum()"
   ]
  },
  {
   "cell_type": "code",
   "execution_count": 77,
   "metadata": {},
   "outputs": [],
   "source": [
    "long_ports_cumu_ret = (long_ports_ret+1).cumprod() - 1\n",
    "short_ports_cumu_ret = (short_ports_ret+1).cumprod() - 1\n",
    "long_short_cumu_ret = (long_short_ports_ret+1).cumprod() - 1\n",
    "sp500_m_cumu_ret = (sp500_m_ret+1).cumprod() - 1\n"
   ]
  },
  {
   "cell_type": "code",
   "execution_count": 79,
   "metadata": {},
   "outputs": [
    {
     "data": {
      "text/plain": [
       "date\n",
       "1992-01-31       0.023750\n",
       "1992-02-29       0.048169\n",
       "1992-03-31       0.071714\n",
       "1992-04-30       0.095966\n",
       "1992-05-31       0.120152\n",
       "                 ...     \n",
       "2020-08-31    5446.403423\n",
       "2020-09-30    5618.269168\n",
       "2020-10-31    5784.700283\n",
       "2020-11-30    5966.999887\n",
       "2020-12-31    6148.305572\n",
       "Name: ret_ave, Length: 348, dtype: float64"
      ]
     },
     "execution_count": 79,
     "metadata": {},
     "output_type": "execute_result"
    }
   ],
   "source": [
    "long_ports_cumu_ret"
   ]
  },
  {
   "cell_type": "code",
   "execution_count": 78,
   "metadata": {},
   "outputs": [
    {
     "data": {
      "text/plain": [
       "date\n",
       "1992-01-31     0.006380\n",
       "1992-02-29     0.012860\n",
       "1992-03-31     0.018849\n",
       "1992-04-30     0.024969\n",
       "1992-05-31     0.030704\n",
       "                ...    \n",
       "2020-08-31    27.228520\n",
       "2020-09-30    27.698088\n",
       "2020-10-31    28.087717\n",
       "2020-11-30    28.436122\n",
       "2020-12-31    28.691843\n",
       "Name: ret_ave, Length: 348, dtype: float64"
      ]
     },
     "execution_count": 78,
     "metadata": {},
     "output_type": "execute_result"
    }
   ],
   "source": [
    "long_short_cumu_ret"
   ]
  },
  {
   "cell_type": "code",
   "execution_count": 73,
   "metadata": {},
   "outputs": [
    {
     "data": {
      "text/plain": [
       "Date\n",
       "1992-01-31   -0.019924\n",
       "1992-02-29   -0.010525\n",
       "1992-03-31   -0.032127\n",
       "1992-04-30   -0.005131\n",
       "1992-05-31   -0.004172\n",
       "                ...   \n",
       "2020-08-31    7.392218\n",
       "2020-09-30    7.063008\n",
       "2020-10-31    6.839939\n",
       "2020-11-30    7.683090\n",
       "2020-12-31    8.005419\n",
       "Freq: M, Name: Adj Close, Length: 348, dtype: float64"
      ]
     },
     "execution_count": 73,
     "metadata": {},
     "output_type": "execute_result"
    }
   ],
   "source": [
    "sp500_m_cumu_ret"
   ]
  },
  {
   "cell_type": "code",
   "execution_count": 80,
   "metadata": {},
   "outputs": [
    {
     "data": {
      "image/png": "[encoded data removed]",
      "text/plain": [
       "<Figure size 432x288 with 1 Axes>"
      ]
     },
     "metadata": {},
     "output_type": "display_data"
    }
   ],
   "source": [
    "plt.title('portfolio cumulative return vs s&p500 cumulative return')\n",
    "plt.plot(sp500_m_cumu_ret, label='s&p500')\n",
    "plt.plot(long_short_cumu_ret, label='portfolio')\n",
    "plt.legend()\n",
    "plt.show()\n"
   ]
  },
  {
   "cell_type": "code",
   "execution_count": null,
   "metadata": {},
   "outputs": [],
   "source": []
  }
 ],
 "metadata": {
  "kernelspec": {
   "display_name": "Python 3.9.7 ('base')",
   "language": "python",
   "name": "python3"
  },
  "language_info": {
   "codemirror_mode": {
    "name": "ipython",
    "version": 3
   },
   "file_extension": ".py",
   "mimetype": "text/x-python",
   "name": "python",
   "nbconvert_exporter": "python",
   "pygments_lexer": "ipython3",
   "version": "3.9.12"
  },
  "orig_nbformat": 4,
  "vscode": {
   "interpreter": {
    "hash": "0a952188e4bab49300a5758bda39ddc90e91f41f35dfe6ea820e496e515be371"
   }
  }
 },
 "nbformat": 4,
 "nbformat_minor": 2
}
