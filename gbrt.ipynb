{
 "cells": [
  {
   "cell_type": "code",
   "execution_count": 1,
   "metadata": {},
   "outputs": [],
   "source": [
    "# import pyarrow.feather as feather\n",
    "import numpy as np\n",
    "import pandas as pd\n",
    "import os\n",
    "from datetime import datetime\n",
    "from tqdm import tqdm\n",
    "\n",
    "from sklearn.metrics import mean_squared_error, make_scorer, accuracy_score, f1_score, classification_report\n",
    "from sklearn.preprocessing import StandardScaler\n",
    "from sklearn.pipeline import Pipeline\n",
    "from sklearn.model_selection import GridSearchCV, RandomizedSearchCV, PredefinedSplit\n",
    "from sklearn.ensemble import GradientBoostingRegressor\n",
    "\n",
    "import matplotlib.pyplot as plt\n",
    "import seaborn as sns\n",
    "sns.set()\n",
    "from collections import Counter\n",
    "\n",
    "import shap"
   ]
  },
  {
   "cell_type": "markdown",
   "metadata": {},
   "source": [
    "## read the feather files"
   ]
  },
  {
   "cell_type": "code",
   "execution_count": 2,
   "metadata": {},
   "outputs": [
    {
     "name": "stdout",
     "output_type": "stream",
     "text": [
      "My current directory is : /home/spectre/Desktop/summer_project/Summer-project-ML\n",
      "My directory name is : Summer-project-ML\n"
     ]
    }
   ],
   "source": [
    "import os\n",
    "directory_path = os.getcwd()\n",
    "print(\"My current directory is : \" + directory_path)\n",
    "folder_name = os.path.basename(directory_path)\n",
    "print(\"My directory name is : \" + folder_name)"
   ]
  },
  {
   "cell_type": "code",
   "execution_count": 3,
   "metadata": {},
   "outputs": [],
   "source": [
    "directory_path = os.getcwd()\n",
    "data_path = os.path.join(directory_path, 'data')  # the path to data folder\n",
    "\n",
    "\n",
    "# list_of_feather = []\n",
    "# for root, dirs, files in os.walk(data_path):\n",
    "#     for file in files:\n",
    "#         if file.endswith('.feather'):\n",
    "#             list_of_feather.append(os.path.join(root, file))\n",
    "\n",
    "# feather_dict = {}\n",
    "# for feather_file in list_of_feather:\n",
    "#     feather_name = feather_file.split('/')[-1].replace(\".feather\",\"\") # the name of the feather file without the .feather extension\n",
    "#     feather_dict[feather_name] = pd.read_feather(feather_file)"
   ]
  },
  {
   "cell_type": "code",
   "execution_count": 4,
   "metadata": {},
   "outputs": [],
   "source": [
    "# feather_dict.keys()"
   ]
  },
  {
   "cell_type": "code",
   "execution_count": 5,
   "metadata": {},
   "outputs": [],
   "source": [
    "# test = feather_dict['abr']"
   ]
  },
  {
   "cell_type": "code",
   "execution_count": 6,
   "metadata": {},
   "outputs": [],
   "source": [
    "# raw_imputed = feather_dict['chars60_raw_imputed']\n",
    "# raw_no_impute = feather_dict['chars60_raw_no_impute']\n",
    "# rank_imputed = feather_dict['chars60_rank_imputed']\n",
    "# rank_no_impute = feather_dict['chars60_raw_no_impute']"
   ]
  },
  {
   "cell_type": "code",
   "execution_count": 7,
   "metadata": {},
   "outputs": [],
   "source": [
    "raw_df = pd.read_feather(os.path.join(data_path, 'chars60_raw_imputed.feather'))"
   ]
  },
  {
   "cell_type": "code",
   "execution_count": 8,
   "metadata": {},
   "outputs": [
    {
     "data": {
      "text/plain": [
       "Index(['gvkey', 'permno', 'sic', 'ret', 'exchcd', 'shrcd', 'adm', 'bm_ia',\n",
       "       'herf', 'hire', 'me_ia', 'baspread', 'beta', 'ill', 'maxret', 'mom12m',\n",
       "       'mom1m', 'mom36m', 'mom60m', 'mom6m', 're', 'rvar_capm', 'rvar_ff3',\n",
       "       'rvar_mean', 'seas1a', 'std_dolvol', 'std_turn', 'zerotrade', 'me',\n",
       "       'dy', 'turn', 'dolvol', 'abr', 'sue', 'cinvest', 'nincr', 'pscore',\n",
       "       'acc', 'bm', 'agr', 'alm', 'ato', 'cash', 'cashdebt', 'cfp', 'chcsho',\n",
       "       'chpm', 'chtx', 'depr', 'ep', 'gma', 'grltnoa', 'lev', 'lgr', 'ni',\n",
       "       'noa', 'op', 'pctacc', 'pm', 'rd_sale', 'rdm', 'rna', 'roa', 'roe',\n",
       "       'rsup', 'sgr', 'sp', 'date', 'ffi49'],\n",
       "      dtype='object')"
      ]
     },
     "execution_count": 8,
     "metadata": {},
     "output_type": "execute_result"
    }
   ],
   "source": [
    "raw_df.columns"
   ]
  },
  {
   "cell_type": "markdown",
   "metadata": {},
   "source": [
    "## check missing values"
   ]
  },
  {
   "cell_type": "code",
   "execution_count": 9,
   "metadata": {},
   "outputs": [
    {
     "data": {
      "text/plain": [
       "['adm',\n",
       " 'bm_ia',\n",
       " 'mom12m',\n",
       " 'mom36m',\n",
       " 'mom60m',\n",
       " 'mom6m',\n",
       " 'seas1a',\n",
       " 'abr',\n",
       " 'sue',\n",
       " 'cinvest',\n",
       " 'nincr',\n",
       " 'pscore',\n",
       " 'acc',\n",
       " 'bm',\n",
       " 'agr',\n",
       " 'alm',\n",
       " 'ato',\n",
       " 'cashdebt',\n",
       " 'chcsho',\n",
       " 'chpm',\n",
       " 'chtx',\n",
       " 'gma',\n",
       " 'grltnoa',\n",
       " 'lgr',\n",
       " 'ni',\n",
       " 'noa',\n",
       " 'op',\n",
       " 'pctacc',\n",
       " 'rna',\n",
       " 'roa',\n",
       " 'roe',\n",
       " 'rsup',\n",
       " 'sgr']"
      ]
     },
     "execution_count": 9,
     "metadata": {},
     "output_type": "execute_result"
    }
   ],
   "source": [
    "raw_tf = raw_df.isnull().any()\n",
    "raw_tf.where(raw_tf == True).dropna().index.to_list()\n"
   ]
  },
  {
   "cell_type": "markdown",
   "metadata": {},
   "source": [
    "## let's look at the data after 1972"
   ]
  },
  {
   "cell_type": "code",
   "execution_count": 10,
   "metadata": {},
   "outputs": [],
   "source": [
    "raw_df['year'] = raw_df['date'].dt.year\n",
    "raw_df = raw_df[raw_df['year'] >= 1972]\n",
    "raw_df = raw_df.drop(['year'], axis=1)"
   ]
  },
  {
   "cell_type": "code",
   "execution_count": 11,
   "metadata": {},
   "outputs": [
    {
     "data": {
      "text/plain": [
       "[]"
      ]
     },
     "execution_count": 11,
     "metadata": {},
     "output_type": "execute_result"
    }
   ],
   "source": [
    "raw_tf = raw_df.isnull().any()\n",
    "raw_tf.where(raw_tf == True).dropna().index.to_list()"
   ]
  },
  {
   "cell_type": "markdown",
   "metadata": {},
   "source": [
    "## no missing value!"
   ]
  },
  {
   "cell_type": "markdown",
   "metadata": {},
   "source": [
    "## read the macro data files"
   ]
  },
  {
   "cell_type": "code",
   "execution_count": 12,
   "metadata": {},
   "outputs": [],
   "source": [
    "macro_df = pd.read_csv(os.path.join(data_path, 'Macro.csv'))\n",
    "macro_df = macro_df[macro_df['yyyymm']>=197201]"
   ]
  },
  {
   "cell_type": "code",
   "execution_count": 13,
   "metadata": {},
   "outputs": [],
   "source": [
    "raw_df['yyyymm'] = raw_df['date'].dt.strftime(\"%Y%m\").apply(int)\n",
    "total_df = pd.merge(raw_df, macro_df, how='inner', on='yyyymm')\n",
    "total_df.drop(columns=\"yyyymm\", inplace=True)\n"
   ]
  },
  {
   "cell_type": "code",
   "execution_count": 14,
   "metadata": {},
   "outputs": [
    {
     "data": {
      "text/plain": [
       "[]"
      ]
     },
     "execution_count": 14,
     "metadata": {},
     "output_type": "execute_result"
    }
   ],
   "source": [
    "raw_tf = total_df.isnull().any()\n",
    "raw_tf.where(raw_tf == True).dropna().index.to_list()"
   ]
  },
  {
   "cell_type": "code",
   "execution_count": 15,
   "metadata": {},
   "outputs": [],
   "source": [
    "del(raw_tf)"
   ]
  },
  {
   "cell_type": "code",
   "execution_count": 16,
   "metadata": {},
   "outputs": [
    {
     "data": {
      "text/plain": [
       "1552"
      ]
     },
     "execution_count": 16,
     "metadata": {},
     "output_type": "execute_result"
    }
   ],
   "source": [
    "len(total_df.gvkey.unique())"
   ]
  },
  {
   "cell_type": "code",
   "execution_count": 17,
   "metadata": {},
   "outputs": [
    {
     "data": {
      "text/plain": [
       "1571"
      ]
     },
     "execution_count": 17,
     "metadata": {},
     "output_type": "execute_result"
    }
   ],
   "source": [
    "total_df.permno.nunique()"
   ]
  },
  {
   "cell_type": "code",
   "execution_count": 18,
   "metadata": {},
   "outputs": [],
   "source": [
    "# make a list of unique permno\n",
    "permno_list = total_df['permno'].unique().tolist()"
   ]
  },
  {
   "cell_type": "code",
   "execution_count": 19,
   "metadata": {},
   "outputs": [
    {
     "data": {
      "text/plain": [
       "77"
      ]
     },
     "execution_count": 19,
     "metadata": {},
     "output_type": "execute_result"
    }
   ],
   "source": [
    "len(total_df.columns)"
   ]
  },
  {
   "cell_type": "code",
   "execution_count": 20,
   "metadata": {},
   "outputs": [
    {
     "data": {
      "text/plain": [
       "3"
      ]
     },
     "execution_count": 20,
     "metadata": {},
     "output_type": "execute_result"
    }
   ],
   "source": [
    "total_df['exchcd'].nunique()"
   ]
  },
  {
   "cell_type": "code",
   "execution_count": 21,
   "metadata": {},
   "outputs": [
    {
     "data": {
      "text/plain": [
       "2"
      ]
     },
     "execution_count": 21,
     "metadata": {},
     "output_type": "execute_result"
    }
   ],
   "source": [
    "total_df['shrcd'].nunique()"
   ]
  },
  {
   "cell_type": "code",
   "execution_count": 22,
   "metadata": {},
   "outputs": [
    {
     "data": {
      "text/plain": [
       "array([0.  , 2.  , 1.  , 3.  , 4.  , 0.5 , 5.  , 6.  , 7.  , 8.  , 1.5 ,\n",
       "       2.5 , 3.5 , 0.75, 0.25])"
      ]
     },
     "execution_count": 22,
     "metadata": {},
     "output_type": "execute_result"
    }
   ],
   "source": [
    "total_df['nincr'].unique()"
   ]
  },
  {
   "cell_type": "code",
   "execution_count": 23,
   "metadata": {},
   "outputs": [
    {
     "data": {
      "text/plain": [
       "array([0.  , 2.  , 1.  , 3.  , 4.  , 5.  , 2.5 , 0.5 , 1.5 , 6.  , 3.5 ,\n",
       "       5.5 , 4.5 , 4.25, 7.  , 8.  , 9.  ])"
      ]
     },
     "execution_count": 23,
     "metadata": {},
     "output_type": "execute_result"
    }
   ],
   "source": [
    "total_df['pscore'].unique()"
   ]
  },
  {
   "cell_type": "code",
   "execution_count": 24,
   "metadata": {},
   "outputs": [
    {
     "data": {
      "text/plain": [
       "48"
      ]
     },
     "execution_count": 24,
     "metadata": {},
     "output_type": "execute_result"
    }
   ],
   "source": [
    "total_df['ffi49'].nunique()"
   ]
  },
  {
   "cell_type": "markdown",
   "metadata": {},
   "source": [
    "## Information Variables:\n",
    "\n",
    "   * stock indicator: gvkey, permno\n",
    "   * time: datadate, date, year ('datadate' is the available time for data and 'date' is the date of return)\n",
    "   * industry: sic, ffi49\n",
    "   * exchange info: exchcd, shrcd\n",
    "   * return: ret: the dividend adjusted return  (we also provide original return and return without dividend, you can keep them by modifing impute_rank_output_bchmk.py) \n",
    "   * market equity: me/rank_me\n"
   ]
  },
  {
   "cell_type": "code",
   "execution_count": 25,
   "metadata": {},
   "outputs": [],
   "source": [
    "# need to turn some variables to dummy variables\n",
    "def get_dummy_col(target_df, col_names):\n",
    "    \"\"\"turn the cols into multiple cols containing dummy variables, then drop the original columns\n",
    "\n",
    "    Args:\n",
    "        target_df (pandas dataframe): target dataframe\n",
    "        col_names (list): list of columns that need to be turned into dummy variables\n",
    "    \"\"\"\n",
    "    for col in col_names:        \n",
    "        tmp_dummies = pd.get_dummies(target_df[col]).rename(columns=lambda x: f'{col}_' + str(x))\n",
    "        target_df = pd.concat([target_df, tmp_dummies], axis=1)\n",
    "        target_df.drop(col, inplace=True, axis = 1)\n",
    "    return target_df \n",
    "dummy_col_list = ['ffi49', 'shrcd', 'exchcd']\n",
    "total_df = get_dummy_col(total_df, dummy_col_list)"
   ]
  },
  {
   "cell_type": "code",
   "execution_count": 26,
   "metadata": {},
   "outputs": [],
   "source": [
    "# set date as the index\n",
    "total_df.set_index('date', inplace=True)"
   ]
  },
  {
   "cell_type": "code",
   "execution_count": 27,
   "metadata": {},
   "outputs": [
    {
     "data": {
      "text/plain": [
       "['sic',\n",
       " 'adm',\n",
       " 'bm_ia',\n",
       " 'herf',\n",
       " 'hire',\n",
       " 'me_ia',\n",
       " 'baspread',\n",
       " 'beta',\n",
       " 'ill',\n",
       " 'maxret',\n",
       " 'mom12m',\n",
       " 'mom1m',\n",
       " 'mom36m',\n",
       " 'mom60m',\n",
       " 'mom6m',\n",
       " 're',\n",
       " 'rvar_capm',\n",
       " 'rvar_ff3',\n",
       " 'rvar_mean',\n",
       " 'seas1a',\n",
       " 'std_dolvol',\n",
       " 'std_turn',\n",
       " 'zerotrade',\n",
       " 'me',\n",
       " 'dy',\n",
       " 'turn',\n",
       " 'dolvol',\n",
       " 'abr',\n",
       " 'sue',\n",
       " 'cinvest',\n",
       " 'nincr',\n",
       " 'pscore',\n",
       " 'acc',\n",
       " 'bm',\n",
       " 'agr',\n",
       " 'alm',\n",
       " 'ato',\n",
       " 'cash',\n",
       " 'cashdebt',\n",
       " 'cfp',\n",
       " 'chcsho',\n",
       " 'chpm',\n",
       " 'chtx',\n",
       " 'depr',\n",
       " 'ep',\n",
       " 'gma',\n",
       " 'grltnoa',\n",
       " 'lev',\n",
       " 'lgr',\n",
       " 'ni',\n",
       " 'noa',\n",
       " 'op',\n",
       " 'pctacc',\n",
       " 'pm',\n",
       " 'rd_sale',\n",
       " 'rdm',\n",
       " 'rna',\n",
       " 'roa',\n",
       " 'roe',\n",
       " 'rsup',\n",
       " 'sgr',\n",
       " 'sp',\n",
       " 'b/m',\n",
       " 'tbl',\n",
       " 'ntis',\n",
       " 'svar',\n",
       " 'd/p',\n",
       " 'e/p',\n",
       " 'dfy',\n",
       " 'tms',\n",
       " 'ffi49_1',\n",
       " 'ffi49_2',\n",
       " 'ffi49_3',\n",
       " 'ffi49_4',\n",
       " 'ffi49_5',\n",
       " 'ffi49_6',\n",
       " 'ffi49_7',\n",
       " 'ffi49_8',\n",
       " 'ffi49_9',\n",
       " 'ffi49_10',\n",
       " 'ffi49_11',\n",
       " 'ffi49_12',\n",
       " 'ffi49_13',\n",
       " 'ffi49_14',\n",
       " 'ffi49_15',\n",
       " 'ffi49_16',\n",
       " 'ffi49_17',\n",
       " 'ffi49_18',\n",
       " 'ffi49_19',\n",
       " 'ffi49_21',\n",
       " 'ffi49_22',\n",
       " 'ffi49_23',\n",
       " 'ffi49_24',\n",
       " 'ffi49_25',\n",
       " 'ffi49_26',\n",
       " 'ffi49_27',\n",
       " 'ffi49_28',\n",
       " 'ffi49_29',\n",
       " 'ffi49_30',\n",
       " 'ffi49_31',\n",
       " 'ffi49_32',\n",
       " 'ffi49_33',\n",
       " 'ffi49_34',\n",
       " 'ffi49_35',\n",
       " 'ffi49_36',\n",
       " 'ffi49_37',\n",
       " 'ffi49_38',\n",
       " 'ffi49_39',\n",
       " 'ffi49_40',\n",
       " 'ffi49_41',\n",
       " 'ffi49_42',\n",
       " 'ffi49_43',\n",
       " 'ffi49_44',\n",
       " 'ffi49_45',\n",
       " 'ffi49_46',\n",
       " 'ffi49_47',\n",
       " 'ffi49_48',\n",
       " 'ffi49_49',\n",
       " 'shrcd_10.0',\n",
       " 'shrcd_11.0',\n",
       " 'exchcd_1.0',\n",
       " 'exchcd_2.0',\n",
       " 'exchcd_3.0']"
      ]
     },
     "execution_count": 27,
     "metadata": {},
     "output_type": "execute_result"
    }
   ],
   "source": [
    "features_list = total_df.columns.to_list()\n",
    "list_to_remove = ['gvkey', 'permno', 'ret']\n",
    "for element in list_to_remove:\n",
    "    if element in features_list:\n",
    "        features_list.remove(element)\n",
    "        \n",
    "features_list"
   ]
  },
  {
   "cell_type": "code",
   "execution_count": 28,
   "metadata": {},
   "outputs": [
    {
     "name": "stdout",
     "output_type": "stream",
     "text": [
      "<class 'pandas.core.frame.DataFrame'>\n",
      "DatetimeIndex: 462756 entries, 1972-01-31 to 2013-12-31\n",
      "Data columns (total 126 columns):\n",
      " #    Column      Dtype  \n",
      "---   ------      -----  \n",
      " 0    gvkey       int64  \n",
      " 1    permno      int64  \n",
      " 2    sic         int64  \n",
      " 3    ret         float64\n",
      " 4    adm         float64\n",
      " 5    bm_ia       float64\n",
      " 6    herf        float64\n",
      " 7    hire        float64\n",
      " 8    me_ia       float64\n",
      " 9    baspread    float64\n",
      " 10   beta        float64\n",
      " 11   ill         float64\n",
      " 12   maxret      float64\n",
      " 13   mom12m      float64\n",
      " 14   mom1m       float64\n",
      " 15   mom36m      float64\n",
      " 16   mom60m      float64\n",
      " 17   mom6m       float64\n",
      " 18   re          float64\n",
      " 19   rvar_capm   float64\n",
      " 20   rvar_ff3    float64\n",
      " 21   rvar_mean   float64\n",
      " 22   seas1a      float64\n",
      " 23   std_dolvol  float64\n",
      " 24   std_turn    float64\n",
      " 25   zerotrade   float64\n",
      " 26   me          float64\n",
      " 27   dy          float64\n",
      " 28   turn        float64\n",
      " 29   dolvol      float64\n",
      " 30   abr         float64\n",
      " 31   sue         float64\n",
      " 32   cinvest     float64\n",
      " 33   nincr       float64\n",
      " 34   pscore      float64\n",
      " 35   acc         float64\n",
      " 36   bm          float64\n",
      " 37   agr         float64\n",
      " 38   alm         float64\n",
      " 39   ato         float64\n",
      " 40   cash        float64\n",
      " 41   cashdebt    float64\n",
      " 42   cfp         float64\n",
      " 43   chcsho      float64\n",
      " 44   chpm        float64\n",
      " 45   chtx        float64\n",
      " 46   depr        float64\n",
      " 47   ep          float64\n",
      " 48   gma         float64\n",
      " 49   grltnoa     float64\n",
      " 50   lev         float64\n",
      " 51   lgr         float64\n",
      " 52   ni          float64\n",
      " 53   noa         float64\n",
      " 54   op          float64\n",
      " 55   pctacc      float64\n",
      " 56   pm          float64\n",
      " 57   rd_sale     float64\n",
      " 58   rdm         float64\n",
      " 59   rna         float64\n",
      " 60   roa         float64\n",
      " 61   roe         float64\n",
      " 62   rsup        float64\n",
      " 63   sgr         float64\n",
      " 64   sp          float64\n",
      " 65   b/m         float64\n",
      " 66   tbl         float64\n",
      " 67   ntis        float64\n",
      " 68   svar        float64\n",
      " 69   d/p         float64\n",
      " 70   e/p         float64\n",
      " 71   dfy         float64\n",
      " 72   tms         float64\n",
      " 73   ffi49_1     uint8  \n",
      " 74   ffi49_2     uint8  \n",
      " 75   ffi49_3     uint8  \n",
      " 76   ffi49_4     uint8  \n",
      " 77   ffi49_5     uint8  \n",
      " 78   ffi49_6     uint8  \n",
      " 79   ffi49_7     uint8  \n",
      " 80   ffi49_8     uint8  \n",
      " 81   ffi49_9     uint8  \n",
      " 82   ffi49_10    uint8  \n",
      " 83   ffi49_11    uint8  \n",
      " 84   ffi49_12    uint8  \n",
      " 85   ffi49_13    uint8  \n",
      " 86   ffi49_14    uint8  \n",
      " 87   ffi49_15    uint8  \n",
      " 88   ffi49_16    uint8  \n",
      " 89   ffi49_17    uint8  \n",
      " 90   ffi49_18    uint8  \n",
      " 91   ffi49_19    uint8  \n",
      " 92   ffi49_21    uint8  \n",
      " 93   ffi49_22    uint8  \n",
      " 94   ffi49_23    uint8  \n",
      " 95   ffi49_24    uint8  \n",
      " 96   ffi49_25    uint8  \n",
      " 97   ffi49_26    uint8  \n",
      " 98   ffi49_27    uint8  \n",
      " 99   ffi49_28    uint8  \n",
      " 100  ffi49_29    uint8  \n",
      " 101  ffi49_30    uint8  \n",
      " 102  ffi49_31    uint8  \n",
      " 103  ffi49_32    uint8  \n",
      " 104  ffi49_33    uint8  \n",
      " 105  ffi49_34    uint8  \n",
      " 106  ffi49_35    uint8  \n",
      " 107  ffi49_36    uint8  \n",
      " 108  ffi49_37    uint8  \n",
      " 109  ffi49_38    uint8  \n",
      " 110  ffi49_39    uint8  \n",
      " 111  ffi49_40    uint8  \n",
      " 112  ffi49_41    uint8  \n",
      " 113  ffi49_42    uint8  \n",
      " 114  ffi49_43    uint8  \n",
      " 115  ffi49_44    uint8  \n",
      " 116  ffi49_45    uint8  \n",
      " 117  ffi49_46    uint8  \n",
      " 118  ffi49_47    uint8  \n",
      " 119  ffi49_48    uint8  \n",
      " 120  ffi49_49    uint8  \n",
      " 121  shrcd_10.0  uint8  \n",
      " 122  shrcd_11.0  uint8  \n",
      " 123  exchcd_1.0  uint8  \n",
      " 124  exchcd_2.0  uint8  \n",
      " 125  exchcd_3.0  uint8  \n",
      "dtypes: float64(70), int64(3), uint8(53)\n",
      "memory usage: 284.7 MB\n"
     ]
    }
   ],
   "source": [
    "total_df.info(verbose=True)\n"
   ]
  },
  {
   "cell_type": "code",
   "execution_count": 29,
   "metadata": {},
   "outputs": [],
   "source": [
    "total_df = total_df.sort_index()"
   ]
  },
  {
   "cell_type": "code",
   "execution_count": 30,
   "metadata": {},
   "outputs": [
    {
     "data": {
      "text/plain": [
       "<AxesSubplot:xlabel='date'>"
      ]
     },
     "execution_count": 30,
     "metadata": {},
     "output_type": "execute_result"
    },
    {
     "data": {
      "image/png": "[encoded data removed]",
      "text/plain": [
       "<Figure size 432x288 with 1 Axes>"
      ]
     },
     "metadata": {},
     "output_type": "display_data"
    }
   ],
   "source": [
    "each_month_permno_num = pd.DataFrame(Counter(total_df.reset_index().date).items(), columns=['date', 'number_of_permno'])\n",
    "each_month_permno_num.plot(x='date', y='number_of_permno')"
   ]
  },
  {
   "cell_type": "markdown",
   "metadata": {},
   "source": [
    "## total:1972-2020 49 years\n",
    "## training_length: 32 years; //28\n",
    "## valid_length: 7 years ; //6\n",
    "## testing_length: 7 years //6"
   ]
  },
  {
   "cell_type": "code",
   "execution_count": 31,
   "metadata": {},
   "outputs": [],
   "source": [
    "X_total = total_df[features_list]\n",
    "y_total = total_df['ret']"
   ]
  },
  {
   "cell_type": "code",
   "execution_count": 32,
   "metadata": {},
   "outputs": [],
   "source": [
    "def train_val_test_preprocess(X_total, y_total, training_len, val_len, testing_len):\n",
    "    \"\"\"split our data into training set, validation set, and testing set\n",
    "\n",
    "    Args:\n",
    "        X_total (dataframe)\n",
    "        y_total (dataframe)\n",
    "        training_len (int): length of years of training set\n",
    "        val_len (int)\n",
    "        testing_len (int)\n",
    "    return: dicts:X_train, y_train, X_val, y_val, X_test, y_test\n",
    "    \"\"\"\n",
    "    X_train_dict = {}\n",
    "    y_train_dict = {}\n",
    "    X_val_dict = {}\n",
    "    y_val_dict = {}\n",
    "    X_test_dict = {}\n",
    "    y_test_dict = {}\n",
    "    first_train_end_year = y_total.index.year[0] + training_len - 1\n",
    "    total_len = y_total.index.year[-1] - y_total.index.year[0] + 1\n",
    "    last_train_end_year = first_train_end_year + total_len -(training_len+val_len+testing_len)\n",
    "    train_end_years = np.arange(first_train_end_year, last_train_end_year+1)\n",
    "    print('each end year of training set is:', train_end_years)\n",
    "    for y in tqdm(train_end_years, desc='spliting data', ascii='>>'):\n",
    "        train_start_year = y - training_len + 1\n",
    "        train_end_year = y\n",
    "        val_start_year = y + 1\n",
    "        val_end_year = val_start_year+val_len-1\n",
    "        test_start_year= val_end_year+val_len\n",
    "        test_end_year = test_start_year+testing_len-1\n",
    "\n",
    "        tmp_X_train = X_total[(X_total.index.year>=train_start_year) & (X_total.index.year<=train_end_year)]\n",
    "        tmp_y_train = y_total[(y_total.index.year>=train_start_year) & (y_total.index.year<=train_end_year)]\n",
    "        tmp_X_val = X_total[(X_total.index.year>=val_start_year) & (X_total.index.year<=val_end_year)]\n",
    "        tmp_y_val = y_total[(y_total.index.year>=val_start_year) & (y_total.index.year<=val_end_year)]\n",
    "        tmp_X_test = X_total[(X_total.index.year>=test_start_year) & (X_total.index.year<=test_end_year)]\n",
    "        tmp_y_test = y_total[(y_total.index.year>=test_start_year) & (y_total.index.year<=test_end_year)]\n",
    "\n",
    "        X_train_dict[y] = tmp_X_train\n",
    "        y_train_dict[y] = tmp_y_train\n",
    "        X_val_dict[y] = tmp_X_val\n",
    "        y_val_dict[y] = tmp_y_val\n",
    "        X_test_dict[y] = tmp_X_test\n",
    "        y_test_dict[y] = tmp_y_test\n",
    "    return train_end_years, X_train_dict, y_train_dict, X_val_dict, y_val_dict, X_test_dict, y_test_dict\n",
    "        "
   ]
  },
  {
   "cell_type": "code",
   "execution_count": 33,
   "metadata": {},
   "outputs": [
    {
     "name": "stdout",
     "output_type": "stream",
     "text": [
      "each end year of training set is: [2003 2004 2005 2006]\n"
     ]
    },
    {
     "name": "stderr",
     "output_type": "stream",
     "text": [
      "spliting data: 100%|>>>>>>>>>>| 4/4 [00:00<00:00,  4.36it/s]\n"
     ]
    }
   ],
   "source": [
    "train_end_years, X_train_dict, y_train_dict, X_val_dict, y_val_dict, X_test_dict, y_test_dict = train_val_test_preprocess(X_total, y_total, 32, 7, 7)\n"
   ]
  },
  {
   "cell_type": "code",
   "execution_count": 34,
   "metadata": {},
   "outputs": [],
   "source": [
    "# to save memory\n",
    "del(X_total)\n",
    "del(y_total)\n",
    "del(total_df)\n",
    "del(macro_df)\n",
    "del(raw_df)\n",
    "del(element)\n"
   ]
  },
  {
   "cell_type": "code",
   "execution_count": 35,
   "metadata": {},
   "outputs": [],
   "source": [
    "class GBRT_Reg:\n",
    "    def __init__(self, train_end_year, X_train, y_train, X_val, y_val, X_test, y_test):\n",
    "        self._train_end_year = train_end_year\n",
    "        self._X_train = X_train\n",
    "        self._y_train = y_train\n",
    "        self._X_val = X_val\n",
    "        self._y_val = y_val\n",
    "        self._X_test = X_test\n",
    "        self._y_test = y_test\n",
    "        \n",
    "        self.result_cols = ['year','y_pred', 'y_real', 'params', 'pred_R2_OOS',\n",
    "                         'CV_R2', 'CV_MSE']\n",
    "        \n",
    "        \n",
    "    def get_res(self):\n",
    "        \"\"\"return a list of results, and a dataframe containing the r2 reduction of each feature.\n",
    "        \"\"\"\n",
    "        res = []\n",
    "        features = self._X_train.columns\n",
    "        r2_oos_reduction_df = pd.DataFrame(columns=['R2OOS', 'R2OOS_Reduction', 'R2OOS_Normalized'], index=features)\n",
    "        \n",
    "        reg = gbrt(self._X_train, self._y_train, self._X_val, self._y_val)\n",
    "        _y_pred = reg.predict(self._X_test)\n",
    "        pred_r2_score = r2_oos(self._y_test, self._y_pred)\n",
    "                # year, y_pred, y_real, best_parmans, prediction score (R^2 OOS),\n",
    "        #      CV result(R^2), CV result(MSE)\n",
    "        res.append([self._train_end_year, _y_pred, self._y_test, reg.best_params_, pred_r2_score, reg.best_score_, reg.cv_results_['mean_test_neg_mean_squared_error']])\n",
    "\n",
    "        for feature in features:\n",
    "            new_X_test = self._X_test.copy(deep=True)\n",
    "            new_X_test[feature] = 0\n",
    "            new_pred = reg.predict(new_X_test)\n",
    "            new_r2_score = r2_oos(y_test, new_pred)\n",
    "            r2_oos_reduction_df.loc[feature, \"R2OOS\"] = new_r2_score\n",
    "\n",
    "        r2_oos_reduction_df['R2OOS_Reduction'] = (pred_r2_score - r2_oos_reduction_df[\"R2OOS\"]).abs()\n",
    "        r2_oos_reduction_df['R2OOS_Normalized'] = r2_oos_reduction_df['R2OOS_Reduction'] / r2_oos_reduction_df['R2OOS_Reduction'].sum()\n",
    "        r2_oos_reduction_df = r2_oos_reduction_df.sort_values(by='R2OOS_Normalized')\n",
    "\n",
    "        return res, r2_oos_reduction_df"
   ]
  },
  {
   "cell_type": "code",
   "execution_count": 36,
   "metadata": {},
   "outputs": [],
   "source": [
    "def rsquared_reduction(X_train, y_train, specific_model):\n",
    "    features = X_train.columns\n",
    "    original_pred = (specific_model.predict(X_train)).flatten()\n",
    "    original_rsquared = out_of_sample_R_squared(original_pred, y_train)\n",
    "    \n",
    "    # 建立一个dataframe, 记录每一个变量变成0后的R-squared值\n",
    "    rsquared_df = pd.DataFrame(columns=[\"R-squared\", \"R-squared Reduction\"], index=features)\n",
    "    \n",
    "    # loop\n",
    "    for feature in features:\n",
    "        new_X_train = X_train.copy(deep=True)\n",
    "        new_X_train[feature] = 0\n",
    "        new_pred = (specific_model.predict(new_X_train)).flatten()\n",
    "        new_rsquared = out_of_sample_R_squared(new_pred, y_train)\n",
    "        rsquared_df.loc[feature, \"R-squared\"] = new_rsquared\n",
    "    \n",
    "    rsquared_df[\"R-squared Reduction\"] = np.abs(original_rsquared - np.array(rsquared_df[\"R-squared\"]).flatten())\n",
    "    rsquared_df[\"R-squared Normalized\"] = rsquared_df[\"R-squared Reduction\"] / rsquared_df[\"R-squared Reduction\"].sum()\n",
    "    rsquared_df = rsquared_df.sort_values(by=\"R-squared Normalized\")\n",
    "    \n",
    "    return rsquared_df"
   ]
  },
  {
   "cell_type": "code",
   "execution_count": 37,
   "metadata": {},
   "outputs": [],
   "source": [
    "# not used\n",
    "def general_report(y_real, y_pred):\n",
    "    print(\"the Accuracy is:\", accuracy_score(y_real, y_pred))\n",
    "    print('the F1 score is:', f1_score(y_true, y_pred))\n",
    "    print(classification_report(y_true, y_pred))"
   ]
  },
  {
   "cell_type": "markdown",
   "metadata": {},
   "source": [
    "use R2 reduction rather than ssd to measure the feature importance"
   ]
  },
  {
   "cell_type": "code",
   "execution_count": 38,
   "metadata": {},
   "outputs": [],
   "source": [
    "# R_square_oos\n",
    "def r2_oos(ret, pred):\n",
    "    sum_of_sq_res = np.nansum(np.power((ret-pred), 2))\n",
    "    sum_of_sq_total = np.nansum(np.power((ret, 2), 2))\n",
    "    \n",
    "    return 1-sum_of_sq_res/sum_of_sq_total\n",
    "\n"
   ]
  },
  {
   "cell_type": "code",
   "execution_count": 39,
   "metadata": {},
   "outputs": [],
   "source": [
    "r2oos_score = make_scorer(r2_oos, greater_is_better=True)  \n",
    "# pred_score = r2oos_score(reg, self.x_test, self.y_test)\n",
    "# can be used in gridsearchcv by 'scoring=r2oos_score'\n",
    "\n",
    "#reference:https://scikit-learn.org/stable/modules/generated/sklearn.model_selection.GridSearchCV.html\n",
    "#https://scikit-learn.org/stable/modules/generated/sklearn.model_selection.RandomizedSearchCV.html"
   ]
  },
  {
   "cell_type": "markdown",
   "metadata": {},
   "source": [
    "\n",
    "reference:https://stackoverflow.com/questions/48390601/explicitly-specifying-test-train-sets-in-gridsearchcv\n",
    "\n",
    "since we prespicified the training and validation set, we need to modify the cv parameter in gridsearchcv"
   ]
  },
  {
   "cell_type": "code",
   "execution_count": 40,
   "metadata": {},
   "outputs": [],
   "source": [
    "# GBRT+H\n",
    "#use pipeline to + a scaler（standardize）, then use gridsearchcv/randomsearchcv\n",
    "def gbrt(X_train, y_train, X_valid, y_valid, gridsearch = True):\n",
    "    pipe = Pipeline([\n",
    "        ('scaler', StandardScaler()),\n",
    "        ('clf', GradientBoostingRegressor(loss='huber', random_state=777))\n",
    "    ])\n",
    "\n",
    "    param_grid = dict(clf__learning_rate=[0.01, 0.05, 0.1, 0.3, 0.5],\n",
    "                    clf__n_estimators=[20, 40, 60, 80, 100, 150], \n",
    "                    clf__max_depth=[3, 7, 10, 20])\n",
    "    # use two scorer:r2oos and mse \n",
    "    # scoring_dict = ['r2oos_score', 'neg_mean_squared_error']\n",
    "    scoring_dict = {'r2_oos':r2oos_score, 'mse':'neg_mean_squared_error'}\n",
    "\n",
    "    # The indices which have zero or positive values, will be kept in val\n",
    "    len_X_train = len(X_train)\n",
    "    len_X_val = len(X_valid)\n",
    "    val_fold = np.repeat([-1, 0], [len_X_train, len_X_val])\n",
    "    ps = PredefinedSplit(val_fold)\n",
    "\n",
    "    X_train_n_val = pd.concat([X_train, X_valid])\n",
    "    y_train_n_val = pd.concat([y_train, y_valid])\n",
    "    # notice the cv=ps\n",
    "    if gridsearch:\n",
    "        grid = GridSearchCV(pipe, param_grid=param_grid, cv=ps, n_jobs=8, verbose=2, scoring= scoring_dict, refit='r2_oos')\n",
    "    else:\n",
    "        grid = RandomizedSearchCV(pipe, param_grid=param_grid, cv=ps, n_jobs=8, verbose=2, scoring= scoring_dict, refit ='r2_oos')\n",
    "\n",
    "    grid.fit(X_train_n_val, y_train_n_val)\n",
    "\n",
    "    #get the best score with grid.best_score_\n",
    "    #get the best parameters with grid.best_params_\n",
    "    #get the best model with grid.best_estimator_\n",
    "    return grid"
   ]
  },
  {
   "cell_type": "code",
   "execution_count": 41,
   "metadata": {},
   "outputs": [
    {
     "name": "stderr",
     "output_type": "stream",
     "text": [
      "  0%|>>>>>>>>>>| 0/4 [00:00<?, ?it/s]"
     ]
    },
    {
     "name": "stdout",
     "output_type": "stream",
     "text": [
      "Fitting 1 folds for each of 120 candidates, totalling 120 fits\n"
     ]
    }
   ],
   "source": [
    "# starts training \n",
    "if __name__ == '__main__':\n",
    "    result = []\n",
    "    r2_oos_df = pd.DataFrame()\n",
    "    for year in tqdm(train_end_years, ascii='>>'):\n",
    "        X_train = X_train_dict[year]\n",
    "        y_train = y_train_dict[year]\n",
    "        X_val = X_val_dict[year]\n",
    "        y_val = y_val_dict[year]\n",
    "        X_test = X_test_dict[year]\n",
    "        y_test = y_test_dict[year]\n",
    "        tmp_mod = GBRT_Reg(year, X_train, y_train, X_val, y_val, X_test, y_test)\n",
    "        tmp_result, tmp_r2oos_reduction_df = tmp_mod.get_res()\n",
    "        result.append(tmp_result)\n",
    "        r2_oos_df = pd.concat([r2_oos_df, tmp_r2oos_reduction_df])\n",
    "    res_cols = tmp_mod.result_cols\n",
    "    result_df = pd.DataFrame(result, columns=res_cols)"
   ]
  },
  {
   "cell_type": "code",
   "execution_count": null,
   "metadata": {},
   "outputs": [],
   "source": [
    "result_df.to_csv('gbrt_result.csv')\n",
    "r2_oos_df.to_csv('gbrt_r2oos_reduction.csv')"
   ]
  },
  {
   "cell_type": "markdown",
   "metadata": {},
   "source": [
    "## plot the feature importance of the model"
   ]
  },
  {
   "cell_type": "code",
   "execution_count": null,
   "metadata": {},
   "outputs": [],
   "source": [
    "r2_reduction_mean = r2_oos_df.groupby(index=0)['R2OOS_Normalized'].mean()\n",
    "plt.figure(figsize=(10, 20))\n",
    "plt.barh(r2_reduction_mean.index, r2_reduction_mean['R2OOS_Normalized'])\n",
    "plt.show()"
   ]
  },
  {
   "cell_type": "code",
   "execution_count": null,
   "metadata": {},
   "outputs": [],
   "source": [
    "# mean_r2oos = np.mean(result_df['pred_R2_OOS'])\n"
   ]
  },
  {
   "cell_type": "code",
   "execution_count": null,
   "metadata": {},
   "outputs": [],
   "source": [
    "# #PCA Not used\n",
    "# #TODO:change this\n",
    "# pipe = Pipeline([\n",
    "#         ('scale', StandardScaler()),\n",
    "#         ('reduce_dims', PCA(n_components=4)),\n",
    "#         ('clf', SVC(kernel = 'linear', C = 1))]) \n",
    "\n",
    "# param_grid = dict(reduce_dims__n_components=[4,6,8],\n",
    "#                   clf__C=np.logspace(-4, 1, 6),\n",
    "#                   clf__kernel=['rbf','linear'])\n",
    "\n",
    "# grid = GridSearchCV(pipe, param_grid=param_grid, cv=3, n_jobs=1, verbose=2, scoring= 'accuracy')\n",
    "# grid.fit(X, y)\n",
    "# print(grid.best_score_)\n",
    "# print(grid.cv_results_)"
   ]
  },
  {
   "cell_type": "markdown",
   "metadata": {},
   "source": [
    "### shap values, need more research, don't use it yet"
   ]
  },
  {
   "cell_type": "code",
   "execution_count": null,
   "metadata": {},
   "outputs": [],
   "source": [
    "# # Tree SHAP is an algorithm to compute exact SHAP values for Decision Trees based models. \n",
    "# # SHAP (SHapley Additive exPlanation) is a game theoretic approach to explain the output of any machine learning model. \n",
    "# # The goal of SHAP is to explain the prediction for any instance xᵢ as a sum of contributions from it’s individual feature values. \n",
    "# #reference:https://towardsdatascience.com/using-shap-values-to-explain-how-your-machine-learning-model-works-732b3f40e137#a3a1\n",
    "# def feature_importance_plot_single_model(clf, mod_type, X_test):\n",
    "# # chart with features listed in order of importance\n",
    "# # if our case, for clf, we might need reg.best_estimator_ or grid.best_estimator_\n",
    "#     if mod_type == 'tree':\n",
    "#         explainer = shap.TreeExplainer(clf)\n",
    "#     if mod_type == 'linear':\n",
    "#         explainer = shap.LinearExplainer(clf)\n",
    "#     if mod_type == 'neural_network':\n",
    "#         explainer = shap.KernelExplainer(clf)\n",
    "\n",
    "#     shap_values = explainer.shap_values(X_test)\n",
    "\n",
    "#     # shap.summary_plot(shap_values, X_test, plot_type=\"bar\")\n",
    "#     # shap.summary_plot(shap_values, X_test)\n",
    "#     shap.plots.bar(shap_values=shap_values)\n",
    "\n",
    "# def feature_importance_all_heatmap(shap_df, name):\n",
    "#     #TODO:finish this function\n",
    "#     result = result.astype(\"float\")\n",
    "#     result = result.iloc[::-1]\n",
    "#     scalar = MinMaxScaler()\n",
    "#     result = scalar.fit_transform(result)\n",
    "#     result = pd.DataFrame(result, columns=name, index=(rsl[0].index)[::-1])\n",
    "#     plt.figure(figsize=(15, 15)) # 后面改\n",
    "#     sns.heatmap(result,cmap=\"Blues\")\n",
    "#     plt.show()\n",
    "#     return None\n",
    "\n"
   ]
  },
  {
   "cell_type": "markdown",
   "metadata": {},
   "source": [
    "## Marginal Association Between Characteristics and Expected Return"
   ]
  },
  {
   "cell_type": "markdown",
   "metadata": {},
   "source": [
    "# use dm-test to compare models\n",
    "# we could use this package provided by https://github.com/johntwk/Diebold-Mariano-Test"
   ]
  },
  {
   "cell_type": "code",
   "execution_count": null,
   "metadata": {},
   "outputs": [],
   "source": []
  }
 ],
 "metadata": {
  "kernelspec": {
   "display_name": "Python 3.9.7 ('base')",
   "language": "python",
   "name": "python3"
  },
  "language_info": {
   "codemirror_mode": {
    "name": "ipython",
    "version": 3
   },
   "file_extension": ".py",
   "mimetype": "text/x-python",
   "name": "python",
   "nbconvert_exporter": "python",
   "pygments_lexer": "ipython3",
   "version": "3.9.7"
  },
  "orig_nbformat": 4,
  "vscode": {
   "interpreter": {
    "hash": "0a952188e4bab49300a5758bda39ddc90e91f41f35dfe6ea820e496e515be371"
   }
  }
 },
 "nbformat": 4,
 "nbformat_minor": 2
}
