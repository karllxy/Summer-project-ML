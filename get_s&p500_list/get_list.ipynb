{
 "cells": [
  {
   "cell_type": "markdown",
   "metadata": {},
   "source": [
    "# to get the permno of every components of s&p500 since 1960"
   ]
  },
  {
   "cell_type": "code",
   "execution_count": 15,
   "metadata": {},
   "outputs": [
    {
     "name": "stdout",
     "output_type": "stream",
     "text": [
      "WRDS recommends setting up a .pgpass file.\n",
      "You can create this file yourself at any time\n",
      "with the create_pgpass_file() function.\n",
      "Loading library list...\n",
      "Done\n"
     ]
    }
   ],
   "source": [
    "\n",
    "import pandas as pd\n",
    "import wrds\n",
    "\n",
    "###################\n",
    "# Connect to WRDS #\n",
    "###################\n",
    "conn=wrds.Connection()"
   ]
  },
  {
   "cell_type": "code",
   "execution_count": 16,
   "metadata": {},
   "outputs": [],
   "source": [
    "# msf500 = conn.raw_sql(\"\"\"\n",
    "#                         SELECT *\n",
    "#                         FROM crsp.msf\n",
    "#                         WHERE date > '12/31/2019'\n",
    "#                         \"\"\")"
   ]
  },
  {
   "cell_type": "code",
   "execution_count": 17,
   "metadata": {},
   "outputs": [],
   "source": [
    "# permno = conn.raw_sql(\"\"\"\n",
    "#                         SELECT a.*, b.date\n",
    "#                         FROM crsp.dsp500list AS a,\n",
    "#                         crsp.dsf AS b\n",
    "#                         WHERE a.permno=b.permno\n",
    "#                         AND b.date >= a.start and b.date <= a.ending\n",
    "#                         AND b.date>'12/31/1959'\n",
    "#                         ORDER BY date;\n",
    "#                         \"\"\", date_cols=['start', 'ending', 'date'])\n",
    "\n",
    "permno = conn.raw_sql(\"\"\"\n",
    "                        SELECT *\n",
    "                        FROM crsp.dsp500list\n",
    "                        WHERE ending > '12/31/1959'\n",
    "                        \"\"\")"
   ]
  },
  {
   "cell_type": "code",
   "execution_count": 18,
   "metadata": {},
   "outputs": [],
   "source": [
    "\"\"\"The WRDS-created linking dataset (ccmxpf_linktable) has been deprecated. It will continue to be created for a transition period of 1 year.\n",
    "SAS programmers should use the Link History dataset (ccmxpf_lnkhist) from CRSP.  ---http://kaichen.work/?p=138\"\"\"\n",
    "###################\n",
    "#    CCM Block    #\n",
    "###################\n",
    "ccm = conn.raw_sql(\"\"\"\n",
    "                  select gvkey, lpermno as permno, linktype, linkprim, \n",
    "                  linkdt, linkenddt\n",
    "                  from crsp.ccmxpf_lnkhist\n",
    "                  where linktype in ('LU', 'LC')\n",
    "                  \"\"\")\n",
    "\n",
    "ccm['linkdt'] = pd.to_datetime(ccm['linkdt'])\n",
    "ccm['linkenddt'] = pd.to_datetime(ccm['linkenddt'])\n",
    "\n",
    "# if linkenddt is missing then set to today date\n",
    "ccm['linkenddt'] = ccm['linkenddt'].fillna(pd.to_datetime('today'))"
   ]
  },
  {
   "cell_type": "code",
   "execution_count": 19,
   "metadata": {},
   "outputs": [],
   "source": [
    "merged_df = permno.merge(ccm, how='left', on='permno')"
   ]
  },
  {
   "cell_type": "code",
   "execution_count": 30,
   "metadata": {},
   "outputs": [],
   "source": [
    "permno_set = set(permno['permno'].apply(int).tolist())"
   ]
  },
  {
   "cell_type": "code",
   "execution_count": 21,
   "metadata": {},
   "outputs": [],
   "source": [
    "permno_list = list(permno_set)"
   ]
  },
  {
   "cell_type": "code",
   "execution_count": 34,
   "metadata": {},
   "outputs": [
    {
     "data": {
      "text/plain": [
       "[]"
      ]
     },
     "execution_count": 34,
     "metadata": {},
     "output_type": "execute_result"
    }
   ],
   "source": [
    "[value for value in permno_list if value <= 10000]"
   ]
  },
  {
   "cell_type": "code",
   "execution_count": 22,
   "metadata": {},
   "outputs": [
    {
     "data": {
      "text/plain": [
       "1839"
      ]
     },
     "execution_count": 22,
     "metadata": {},
     "output_type": "execute_result"
    }
   ],
   "source": [
    "len(permno_list)"
   ]
  },
  {
   "cell_type": "code",
   "execution_count": 23,
   "metadata": {},
   "outputs": [],
   "source": [
    "# create permno txt file\n",
    "with open(\"s&p500_permno.txt\", \"w\") as f:\n",
    "    for value in permno_list:\n",
    "        f.write(str(value) + '\\n')\n",
    "    f.close()"
   ]
  },
  {
   "cell_type": "code",
   "execution_count": 24,
   "metadata": {},
   "outputs": [],
   "source": [
    "# create gvkey txt file\n",
    "gvkey_list = merged_df['gvkey'].tolist()"
   ]
  },
  {
   "cell_type": "code",
   "execution_count": 25,
   "metadata": {},
   "outputs": [],
   "source": [
    "gvkey_set = set(gvkey_list)"
   ]
  },
  {
   "cell_type": "code",
   "execution_count": 26,
   "metadata": {},
   "outputs": [],
   "source": [
    "gvkey_list = list(gvkey_set)"
   ]
  },
  {
   "cell_type": "code",
   "execution_count": 27,
   "metadata": {},
   "outputs": [],
   "source": [
    "gvkey_list = [x for x in gvkey_list if pd.isnull(x) == False]"
   ]
  },
  {
   "cell_type": "code",
   "execution_count": 28,
   "metadata": {},
   "outputs": [],
   "source": [
    "with open(\"s&p500_gvkey.txt\", \"w\") as f:\n",
    "    for value in gvkey_list:\n",
    "        f.write(str(value)+'\\n')\n",
    "    f.close()"
   ]
  },
  {
   "cell_type": "code",
   "execution_count": null,
   "metadata": {},
   "outputs": [],
   "source": []
  }
 ],
 "metadata": {
  "interpreter": {
   "hash": "0a952188e4bab49300a5758bda39ddc90e91f41f35dfe6ea820e496e515be371"
  },
  "kernelspec": {
   "display_name": "Python 3.9.7 ('base')",
   "language": "python",
   "name": "python3"
  },
  "language_info": {
   "codemirror_mode": {
    "name": "ipython",
    "version": 3
   },
   "file_extension": ".py",
   "mimetype": "text/x-python",
   "name": "python",
   "nbconvert_exporter": "python",
   "pygments_lexer": "ipython3",
   "version": "3.9.7"
  },
  "orig_nbformat": 4
 },
 "nbformat": 4,
 "nbformat_minor": 2
}
